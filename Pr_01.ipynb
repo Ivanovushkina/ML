{
 "cells": [
  {
   "cell_type": "code",
   "execution_count": 2,
   "metadata": {},
   "outputs": [],
   "source": [
    "\n",
    "import numpy as np"
   ]
  },
  {
   "cell_type": "code",
   "execution_count": 56,
   "metadata": {},
   "outputs": [
    {
     "name": "stdout",
     "output_type": "stream",
     "text": [
      "[1 2 3]\n"
     ]
    }
   ],
   "source": [
    "#Создание массива\n",
    "arr_1d = np.array([1, 2, 3])\n",
    "print(arr_1d)\n",
    "print(type(arr_1d)) #тип массива\n",
    "print(arr_1d.shape) #размерность массива\n",
    "print(arr_1d[0])\n",
    "print(arr_1d[2])\n",
    "print(arr_1d[-1])"
   ]
  },
  {
   "cell_type": "code",
   "execution_count": 263,
   "metadata": {},
   "outputs": [
    {
     "name": "stdout",
     "output_type": "stream",
     "text": [
      "[[1 2 3]\n",
      " [4 5 6]]\n",
      "\n",
      "[[4.66839074e-313 2.97079411e-313 8.48798316e-313]\n",
      " [5.30498948e-313 6.36598738e-314 1.27319747e-313]\n",
      " [3.39519327e-313 4.66839074e-313 1.90979621e-313]\n",
      " [1.90979621e-313 4.45619116e-313 3.18299369e-313]\n",
      " [5.09278990e-313 5.94158822e-313 1.69759663e-313]]\n",
      "\n",
      "[[0. 0. 0.]\n",
      " [0. 0. 0.]]\n",
      "\n",
      "[[1. 1.]\n",
      " [1. 1.]\n",
      " [1. 1.]]\n",
      "\n",
      "[[5 5 5 5]\n",
      " [5 5 5 5]\n",
      " [5 5 5 5]]\n",
      "\n",
      "[[1. 0.]\n",
      " [0. 1.]\n",
      " [0. 0.]]\n",
      "\n",
      "[[0 0 0]\n",
      " [0 0 0]]\n",
      "\n",
      "[[1 1 1]\n",
      " [1 1 1]]\n",
      "\n",
      "[[0.88583604 0.23942605]\n",
      " [0.34779652 0.97069311]]\n",
      "\n",
      "[1.  2.5 4.  5.5 7.  8.5]\n",
      "\n",
      "[1.         1.11111111 1.22222222 1.33333333 1.44444444 1.55555556\n",
      " 1.66666667 1.77777778 1.88888889 2.        ]\n"
     ]
    }
   ],
   "source": [
    "#СПОСОБЫ СОЗДАНИЯ МАССИВОВ\n",
    "# Создание 2d массива\n",
    "arr_2d=np.array([[1,2,3], [4,5,6]])\n",
    "print(arr_2d)\n",
    "# Создание массива фиксированного размера с произвольным наполнением\n",
    "print('')\n",
    "print(np.ndarray((5, 3)))\n",
    "# Создание матрицы из нулей заданного размера\n",
    "print('')\n",
    "print(np.zeros((2, 3)))\n",
    "# Создание матрицы из единиц заданного размера\n",
    "print('')\n",
    "print(np.ones((3, 2)))\n",
    "# Создание массива, заполненного константным значением\n",
    "print('')\n",
    "print(np.full((3, 4), 5))\n",
    "# 2D массив с единичной главной диагональю\n",
    "print('')\n",
    "print(np.eye(3, 2))\n",
    "# Создание массива нулей с такой же размерностью, как уже существующий\n",
    "print('')\n",
    "arr_2d_new = np.array([[1, 2, 3], [4, 5, 6]])\n",
    "print(np.zeros_like(arr_2d_new))\n",
    "# Создание массива единиц с такой же размерностью, как уже существующий\n",
    "print('')\n",
    "arr1_2d = np.array([[1, 2, 3], [4, 5, 6]])\n",
    "print(np.ones_like(arr1_2d))\n",
    "# Создание массива со случайными значениями в интервале [0; 1.0)\n",
    "print('')\n",
    "print(np.random.random((2,2)))\n",
    "# Аналог функции range\n",
    "print('')\n",
    "print(np.arange(start=1, stop=10, step=1.5))\n",
    "# Также создание диапазона значений, но уже с заданием количества элементов\n",
    "print('')\n",
    "print(np.linspace(start=1, stop=2, num=10))"
   ]
  },
  {
   "cell_type": "code",
   "execution_count": 265,
   "metadata": {},
   "outputs": [
    {
     "name": "stdout",
     "output_type": "stream",
     "text": [
      "1\n",
      "9\n",
      "6\n",
      "[3, 4, 5, 6, 7, 8]\n",
      "[1, 2, 3, 4, 5, 6]\n"
     ]
    }
   ],
   "source": [
    "# Индексация массивов\n",
    "arr = [1, 2, 3, 4, 5, 6, 7, 8, 9, 10]\n",
    "print(arr[0])\n",
    "print(arr[-2])\n",
    "print(arr[5])\n",
    "print(arr[2:8])\n",
    "print(arr[:6])"
   ]
  },
  {
   "cell_type": "code",
   "execution_count": 266,
   "metadata": {},
   "outputs": [
    {
     "name": "stdout",
     "output_type": "stream",
     "text": [
      "[0, 1, 2, 3, 4, 5, 6, 7, 8, 9]\n",
      "[9, 8, 7, 6, 5, 4, 3, 2, 1, 0]\n"
     ]
    }
   ],
   "source": [
    "# Перевернутый список\n",
    "\n",
    "data = list(range(10))\n",
    "print(data)\n",
    "new=data[9::-1]\n",
    "print(new)"
   ]
  },
  {
   "cell_type": "code",
   "execution_count": 267,
   "metadata": {},
   "outputs": [
    {
     "name": "stdout",
     "output_type": "stream",
     "text": [
      "[0, 1, 2, 3, 4, 5, 6, 7, 8, 9]\n",
      "[1, 2, 3, 4, 5, 6, 7]\n"
     ]
    }
   ],
   "source": [
    "#Получение массива без первого и двух последних элементов\n",
    "\n",
    "data = list(range(10))\n",
    "print(data)\n",
    "print(data[1:8:1])"
   ]
  },
  {
   "cell_type": "code",
   "execution_count": 272,
   "metadata": {},
   "outputs": [
    {
     "name": "stdout",
     "output_type": "stream",
     "text": [
      "[[ 1  2  3  4]\n",
      " [ 5  6  7  8]\n",
      " [ 9 10 11 12]]\n",
      "\n",
      "[ 9 10 11 12]\n",
      "\n",
      "[ 9 10 11 12]\n",
      "\n",
      "[ 2  6 10]\n",
      "\n",
      "[5 6]\n",
      "\n",
      "\n",
      "[[ 1  2  3  4]\n",
      " [ 5  6  7  8]\n",
      " [ 9 10 11 12]]\n",
      "\n",
      "[[1 2 3 4]\n",
      " [5 6 7 8]\n",
      " [5 6 7 8]]\n",
      "\n",
      "[[1 2]\n",
      " [5 6]]\n",
      "\n",
      "(2, 2)\n",
      "\n",
      "[[ 1  4]\n",
      " [ 5  8]\n",
      " [ 9 12]]\n",
      "\n",
      "[[ 1  2]\n",
      " [ 5  6]\n",
      " [ 9 10]]\n",
      "\n",
      "[[ 9 10 11 12]\n",
      " [ 1  2  3  4]\n",
      " [ 5  6  7  8]]\n",
      "\n",
      "[10  4]\n",
      "\n",
      "10 4\n"
     ]
    }
   ],
   "source": [
    "# Индексация в матрицах\n",
    "\n",
    "arr = np.array([[1, 2, 3, 4], [5, 6, 7, 8], [9, 10, 11, 12]])\n",
    "print(arr)\n",
    "print('')\n",
    "print(arr[2])\n",
    "print('')\n",
    "print(arr[2, :])\n",
    "print('')\n",
    "print(arr[:, 1])\n",
    "print('')\n",
    "print(arr[1, :2])\n",
    "print('')\n",
    "new_arr = arr.copy()\n",
    "print('')\n",
    "print(arr)\n",
    "new_arr[2, :] = arr[1, :]\n",
    "print('')\n",
    "print(new_arr)\n",
    "print('')\n",
    "print(arr[:2, :2])\n",
    "print('')\n",
    "print(arr[:2, :2].shape)\n",
    "print('')\n",
    "print(arr[:, [0, -1]])\n",
    "print('')\n",
    "print(arr[:, [0, 1]])\n",
    "print('')\n",
    "print(arr[[2, 0, 1], :])\n",
    "print('')\n",
    "print(arr[[2, 0], [1, 3]])\n",
    "print('')\n",
    "print(arr[2, 1], arr[0, 3])"
   ]
  },
  {
   "cell_type": "code",
   "execution_count": 273,
   "metadata": {},
   "outputs": [
    {
     "name": "stdout",
     "output_type": "stream",
     "text": [
      "[0, 1, 2]\n",
      "[2, 1, 0]\n",
      "----------------\n",
      "[[ 9 10 11 12]\n",
      " [ 5  6  7  8]\n",
      " [ 1  2  3  4]]\n"
     ]
    }
   ],
   "source": [
    "# Переворачивание массива\n",
    "arr = np.array([[1, 2, 3, 4], [5, 6, 7, 8], [9, 10, 11, 12]])\n",
    "row_indices = list(range(arr.shape[0]))\n",
    "print(row_indices)\n",
    "row_indices = list(reversed(row_indices))\n",
    "print(row_indices)\n",
    "print('----------------')\n",
    "print(arr[row_indices])"
   ]
  },
  {
   "cell_type": "code",
   "execution_count": 278,
   "metadata": {},
   "outputs": [
    {
     "name": "stdout",
     "output_type": "stream",
     "text": [
      "[[2 2 3 6 4 8]\n",
      " [2 3 0 1 0 3]\n",
      " [2 5 6 8 8 0]\n",
      " [7 5 3 1 2 8]\n",
      " [8 2 3 6 8 3]]\n",
      "----------------\n",
      "[[3 0 1 0]\n",
      " [5 6 8 8]\n",
      " [5 3 1 2]]\n"
     ]
    }
   ],
   "source": [
    "#Получение массива без крайних рядов и колонок\n",
    "\n",
    "data = np.random.randint(low=0, high=10, size=(5, 6))\n",
    "print(data)\n",
    "new_data=(data[[1,2,3],:])\n",
    "new_data=(new_data[:,[1,2,3,4]])\n",
    "print('----------------')\n",
    "print(new_data)"
   ]
  },
  {
   "cell_type": "code",
   "execution_count": 277,
   "metadata": {},
   "outputs": [
    {
     "name": "stdout",
     "output_type": "stream",
     "text": [
      "[[0 4 9 2 0 4]\n",
      " [2 4 9 1 6 3]\n",
      " [3 3 3 9 5 0]]\n",
      "----------------\n",
      "[[4 0 9 2 0 4]\n",
      " [4 2 9 1 6 3]\n",
      " [3 3 3 9 5 0]]\n"
     ]
    }
   ],
   "source": [
    "#Перемешивание колонок\n",
    "\n",
    "data = np.random.randint(low=0, high=10, size=(3, 6))\n",
    "print(data)\n",
    "data1=np.transpose(data)\n",
    "new=np.random.permutation(data1)\n",
    "new1=np.transpose(new)\n",
    "print('----------------')\n",
    "print(new1)"
   ]
  },
  {
   "cell_type": "code",
   "execution_count": 279,
   "metadata": {},
   "outputs": [
    {
     "name": "stdout",
     "output_type": "stream",
     "text": [
      "int32\n"
     ]
    }
   ],
   "source": [
    "# Тип массива\n",
    "arr = np.array([[1, 2, 3, 4], [5, 6, 7, 8], [9, 10, 11, 12]])\n",
    "print(arr.dtype)"
   ]
  },
  {
   "cell_type": "code",
   "execution_count": 280,
   "metadata": {},
   "outputs": [
    {
     "name": "stdout",
     "output_type": "stream",
     "text": [
      "float64\n"
     ]
    }
   ],
   "source": [
    "# Тип массива\n",
    "arr = np.array([[1.5, 2, 3, 4], [5, 6, 7, 8], [9, 10, 11, 12]])\n",
    "print(arr.dtype)"
   ]
  },
  {
   "cell_type": "code",
   "execution_count": 281,
   "metadata": {},
   "outputs": [
    {
     "name": "stdout",
     "output_type": "stream",
     "text": [
      "[[ 1  1  2]\n",
      " [-1  2 -1]]\n",
      "int32\n"
     ]
    }
   ],
   "source": [
    "arr = np.array([[1.1, 1.6, 2.4], [-1.7, 2.6, -1.2]], dtype=int)\n",
    "print(arr)\n",
    "print(arr.dtype)"
   ]
  },
  {
   "cell_type": "code",
   "execution_count": 282,
   "metadata": {},
   "outputs": [
    {
     "name": "stdout",
     "output_type": "stream",
     "text": [
      "[[ 1.1  1.6  2.4]\n",
      " [-1.7  2.6 -1.2]]\n",
      "float64\n",
      "----------\n",
      "[[ 1  1  2]\n",
      " [-1  2 -1]]\n",
      "int32\n"
     ]
    }
   ],
   "source": [
    "arr = np.array([[1.1, 1.6, 2.4], [-1.7, 2.6, -1.2]])\n",
    "print(arr)\n",
    "print(arr.dtype)\n",
    "print('----------')\n",
    "arr = arr.astype(int)\n",
    "print(arr)\n",
    "print(arr.dtype)"
   ]
  },
  {
   "cell_type": "code",
   "execution_count": 283,
   "metadata": {},
   "outputs": [
    {
     "name": "stdout",
     "output_type": "stream",
     "text": [
      "[[ 1  1  2]\n",
      " [-1  2 -1]]\n",
      "----------\n",
      "[[ 1 10  2]\n",
      " [-1  2 -1]]\n"
     ]
    }
   ],
   "source": [
    "arr = np.array([[1.1, 1.6, 2.4], [-1.7, 2.6, -1.2]], dtype=int)\n",
    "print(arr)\n",
    "print('----------')\n",
    "arr[0, 1] = 10.12\n",
    "print(arr)"
   ]
  },
  {
   "cell_type": "code",
   "execution_count": 284,
   "metadata": {},
   "outputs": [
    {
     "name": "stdout",
     "output_type": "stream",
     "text": [
      "[[ 1  2  3  4]\n",
      " [ 5  6  7  8]\n",
      " [ 9 10 11 12]]\n",
      "----------\n",
      "[[False False False False]\n",
      " [False False  True  True]\n",
      " [ True  True  True  True]]\n",
      "  \n",
      "bool\n"
     ]
    }
   ],
   "source": [
    "# Булевы операции\n",
    "arr = np.array([[1, 2, 3, 4], [5, 6, 7, 8], [9, 10, 11, 12]])\n",
    "print(arr)\n",
    "result = arr > 6\n",
    "print('----------')\n",
    "print(result)\n",
    "print('  ')\n",
    "print(result.dtype)"
   ]
  },
  {
   "cell_type": "code",
   "execution_count": 285,
   "metadata": {},
   "outputs": [
    {
     "name": "stdout",
     "output_type": "stream",
     "text": [
      "[[False False False False]\n",
      " [False False  True  True]\n",
      " [ True  True  True  True]]\n",
      "  \n",
      "[[ True  True  True  True]\n",
      " [ True  True  True  True]\n",
      " [ True False False False]]\n",
      "----------\n",
      "[[False False False False]\n",
      " [False False  True  True]\n",
      " [ True False False False]]\n",
      "  \n",
      "[[False False False False]\n",
      " [False False  True  True]\n",
      " [ True False False False]]\n"
     ]
    }
   ],
   "source": [
    "result_1 = arr > 6\n",
    "result_2 = arr < 10\n",
    "print(result_1)\n",
    "print('  ')\n",
    "print(result_2)\n",
    "print('----------')\n",
    "print(result_1 & result_2)\n",
    "print('  ')\n",
    "print((arr > 6) & (arr < 10))"
   ]
  },
  {
   "cell_type": "code",
   "execution_count": 286,
   "metadata": {},
   "outputs": [
    {
     "name": "stdout",
     "output_type": "stream",
     "text": [
      "[[ 1  2  3  4]\n",
      " [ 5  6  7  8]\n",
      " [ 9 10 11 12]]\n",
      "----------\n",
      "[array([[False, False, False, False],\n",
      "       [False,  True,  True, False],\n",
      "       [False, False, False, False]])]\n",
      "   \n",
      "True\n"
     ]
    }
   ],
   "source": [
    "# Определить, имеется ли хоть одно значение больше пяти и меньше восьми\n",
    "arr = np.array([[1, 2, 3, 4], [5, 6, 7, 8], [9, 10, 11, 12]])\n",
    "print(arr)\n",
    "print('----------')\n",
    "arr_sravn=[(arr > 5) & (arr < 8)]\n",
    "print(arr_sravn)\n",
    "print('   ')\n",
    "print(np.any(arr_sravn))\n"
   ]
  },
  {
   "cell_type": "code",
   "execution_count": 287,
   "metadata": {},
   "outputs": [
    {
     "name": "stdout",
     "output_type": "stream",
     "text": [
      "[[False False False False]\n",
      " [False False  True  True]\n",
      " [ True  True  True  True]]\n",
      "   \n",
      "[ 7  8  9 10 11 12]\n"
     ]
    }
   ],
   "source": [
    "arr = np.array([[1, 2, 3, 4], [5, 6, 7, 8], [9, 10, 11, 12]])\n",
    "mask = arr > 6\n",
    "print(mask)\n",
    "print('   ')\n",
    "print(arr[mask])"
   ]
  },
  {
   "cell_type": "code",
   "execution_count": 288,
   "metadata": {},
   "outputs": [
    {
     "name": "stdout",
     "output_type": "stream",
     "text": [
      "[[1 2 3 4]\n",
      " [5 6 7 8]]\n",
      "[1 2 3 4 5 6 7 8]\n"
     ]
    }
   ],
   "source": [
    "# Объединение массива в строку\n",
    "arr = np.array([[1, 2, 3, 4], [5, 6, 7, 8]])\n",
    "print(arr)\n",
    "print(arr.flatten())"
   ]
  },
  {
   "cell_type": "code",
   "execution_count": 292,
   "metadata": {},
   "outputs": [
    {
     "name": "stdout",
     "output_type": "stream",
     "text": [
      "[[ 6.  8.]\n",
      " [10. 12.]]\n",
      "[[ 6.  8.]\n",
      " [10. 12.]]\n",
      "-----\n",
      "[[-4. -4.]\n",
      " [-4. -4.]]\n",
      "[[-4. -4.]\n",
      " [-4. -4.]]\n",
      "-----\n",
      "[[ 5. 12.]\n",
      " [21. 32.]]\n",
      "[[ 5. 12.]\n",
      " [21. 32.]]\n",
      "-----\n",
      "[[0.2        0.33333333]\n",
      " [0.42857143 0.5       ]]\n",
      "[[0.2        0.33333333]\n",
      " [0.42857143 0.5       ]]\n",
      "-----\n",
      "[[1.         1.41421356]\n",
      " [1.73205081 2.        ]]\n",
      "-----\n",
      "[[19. 22.]\n",
      " [43. 50.]]\n",
      "[[19. 22.]\n",
      " [43. 50.]]\n",
      "[[19. 22.]\n",
      " [43. 50.]]\n"
     ]
    }
   ],
   "source": [
    "# Операции с матрицами\n",
    "x = np.array([[1,2],[3,4]], dtype=np.float64)\n",
    "y = np.array([[5,6],[7,8]], dtype=np.float64)\n",
    "# Сложение\n",
    "print(x + y)\n",
    "print(np.add(x, y))\n",
    "print('-----')\n",
    "# Вычитание\n",
    "print(x - y)\n",
    "print(np.subtract(x, y))\n",
    "print('-----')\n",
    "# Умножение\n",
    "print(x * y)\n",
    "print(np.multiply(x, y))\n",
    "print('-----')\n",
    "# Деление\n",
    "print(x / y)\n",
    "print(np.divide(x, y))\n",
    "print('-----')\n",
    "# поэлементное извлечение корня\n",
    "print(np.sqrt(x))\n",
    "print('-----')\n",
    "# Матричное умножение\n",
    "print(x @ y)\n",
    "print(x.dot(y))\n",
    "print(np.dot(x, y))"
   ]
  },
  {
   "cell_type": "code",
   "execution_count": 290,
   "metadata": {},
   "outputs": [
    {
     "name": "stdout",
     "output_type": "stream",
     "text": [
      "[[1.5 3. ]\n",
      " [4.5 6. ]]\n"
     ]
    }
   ],
   "source": [
    "# Умножение матрицы на число\n",
    "x = np.array([[1,2],[3,4]], dtype=np.float64)\n",
    "k = 1.5\n",
    "print(k*x)"
   ]
  },
  {
   "cell_type": "code",
   "execution_count": 293,
   "metadata": {},
   "outputs": [
    {
     "name": "stdout",
     "output_type": "stream",
     "text": [
      "[ 5. 11.]\n",
      "  \n",
      "[ 5. 11.]\n",
      "  \n",
      "[ 5. 11.]\n"
     ]
    }
   ],
   "source": [
    "x = np.array([[1,2],[3,4]], dtype=np.float64)\n",
    "v = np.array([1, 2])\n",
    "print(x @ v)\n",
    "print('  ')\n",
    "print(x.dot(v))\n",
    "print('  ')\n",
    "print(np.dot(x, v))"
   ]
  },
  {
   "cell_type": "code",
   "execution_count": 294,
   "metadata": {},
   "outputs": [
    {
     "name": "stdout",
     "output_type": "stream",
     "text": [
      "11\n",
      "  \n",
      "11\n",
      "  \n",
      "11\n"
     ]
    }
   ],
   "source": [
    "w = np.array([3, 4])\n",
    "\n",
    "print(w @ v)\n",
    "print('  ')\n",
    "print(w.dot(v))\n",
    "print('  ')\n",
    "print(np.dot(w, v))"
   ]
  },
  {
   "cell_type": "code",
   "execution_count": 295,
   "metadata": {},
   "outputs": [
    {
     "name": "stdout",
     "output_type": "stream",
     "text": [
      "[[1 2 3]\n",
      " [4 5 6]]\n",
      "(2, 3)\n",
      "--------\n",
      "[[1 4]\n",
      " [2 5]\n",
      " [3 6]]\n",
      "[[1 4]\n",
      " [2 5]\n",
      " [3 6]]\n",
      "(3, 2)\n"
     ]
    }
   ],
   "source": [
    "x = np.array([[1, 2, 3], [4, 5, 6]])\n",
    "print(x)\n",
    "print(x.shape)\n",
    "print('--------')\n",
    "print(np.transpose(x))\n",
    "print(x.T)\n",
    "print(x.T.shape)"
   ]
  },
  {
   "cell_type": "code",
   "execution_count": 297,
   "metadata": {},
   "outputs": [
    {
     "name": "stdout",
     "output_type": "stream",
     "text": [
      "[[1 2 3]\n",
      " [5 4 3]]\n",
      "3.0\n",
      "3.0\n",
      "18\n",
      "18\n",
      "[3. 3. 3.]\n",
      "[2. 4.]\n"
     ]
    }
   ],
   "source": [
    "x = np.array([[1, 2, 3], [5, 4, 3]])\n",
    "print(x)\n",
    "# Возьмем среднее значение всего массива\n",
    "print(np.mean(x))\n",
    "print(np.mean(x, axis=None))\n",
    "# Получим сумму значений всего массива\n",
    "print(np.sum(x))\n",
    "print(np.sum(x, axis=None))\n",
    "# Получим среднее по каждому столбцу\n",
    "print(np.mean(x, axis=0))\n",
    "# Получим среднее по каждой строке\n",
    "print(np.mean(x, axis=1))"
   ]
  },
  {
   "cell_type": "code",
   "execution_count": 298,
   "metadata": {},
   "outputs": [
    {
     "name": "stdout",
     "output_type": "stream",
     "text": [
      "[[1 3 1 4 4 0]\n",
      " [1 3 0 4 1 3]\n",
      " [3 0 1 2 1 1]]\n",
      "   \n",
      "[ 5  6  2 10  6  4]\n"
     ]
    }
   ],
   "source": [
    "#Операция получения суммы элементов по всем столбцам\n",
    "data = np.random.randint(low=0, high=5, size=(3, 6))\n",
    "print(data)\n",
    "print('   ')\n",
    "print(np.sum(data, axis=0))"
   ]
  },
  {
   "cell_type": "code",
   "execution_count": 300,
   "metadata": {},
   "outputs": [
    {
     "name": "stdout",
     "output_type": "stream",
     "text": [
      "[0 1 2 3]\n",
      "[[1. 1. 1. 1.]\n",
      " [1. 1. 1. 1.]\n",
      " [1. 1. 1. 1.]]\n",
      "    \n",
      "[[1. 1. 1. 1.]\n",
      " [1. 1. 1. 1.]\n",
      " [1. 1. 1. 1.]]\n",
      "[[0. 1. 2. 3.]\n",
      " [0. 1. 2. 3.]\n",
      " [0. 1. 2. 3.]]\n",
      "3\n"
     ]
    }
   ],
   "source": [
    "# Трансляция\n",
    "vec = np.arange(4)\n",
    "mtrx = np.ones((3, 4))\n",
    "print(vec)\n",
    "print(mtrx)\n",
    "print('    ')\n",
    "result = np.empty_like(mtrx)\n",
    "print(result)\n",
    "for i_row in range(mtrx.shape[0]):\n",
    "    result[i_row,:] = mtrx[i_row,:] * vec\n",
    "\n",
    "print(result)\n",
    "print(mtrx.shape[0])"
   ]
  },
  {
   "cell_type": "code",
   "execution_count": 303,
   "metadata": {},
   "outputs": [
    {
     "name": "stdout",
     "output_type": "stream",
     "text": [
      "[[0 1 2 3]\n",
      " [0 1 2 3]\n",
      " [0 1 2 3]]\n",
      "   \n",
      "[[0. 1. 2. 3.]\n",
      " [0. 1. 2. 3.]\n",
      " [0. 1. 2. 3.]]\n",
      "   \n",
      "[[0. 1. 2. 3.]\n",
      " [0. 1. 2. 3.]\n",
      " [0. 1. 2. 3.]]\n",
      "   \n",
      "[[2. 2. 2. 2.]\n",
      " [2. 2. 2. 2.]\n",
      " [2. 2. 2. 2.]]\n"
     ]
    }
   ],
   "source": [
    "# Умножение вектора на матрицу с применением трансляции\n",
    "vec_m = np.tile(vec, reps=(3, 1))\n",
    "print(vec_m)\n",
    "print('   ')\n",
    "print(vec_m * mtrx)\n",
    "print('   ')\n",
    "print(vec * mtrx)\n",
    "print('   ')\n",
    "print(2 * mtrx)"
   ]
  },
  {
   "cell_type": "code",
   "execution_count": 305,
   "metadata": {},
   "outputs": [
    {
     "name": "stdout",
     "output_type": "stream",
     "text": [
      "(4, 3, 2)\n"
     ]
    }
   ],
   "source": [
    "# Умножение с применением трансляции\n",
    "x = np.ones((4, 1, 1))\n",
    "y = np.random.randint(0, 5, size=(4, 3, 2))\n",
    "\n",
    "print((x*y).shape)"
   ]
  },
  {
   "cell_type": "code",
   "execution_count": 309,
   "metadata": {},
   "outputs": [
    {
     "name": "stdout",
     "output_type": "stream",
     "text": [
      "[ 0  1  2  3  4  5  6  7  8  9 10 11 12 13 14 15 16 17 18 19]\n",
      "[[ 0  1  2  3  4]\n",
      " [ 5  6  7  8  9]\n",
      " [10 11 12 13 14]\n",
      " [15 16 17 18 19]]\n",
      "----\n",
      "[[ 0  1  2  3  4]\n",
      " [ 5  6  7  8  9]\n",
      " [10 11 12 13 14]\n",
      " [15 16 17 18 19]]\n",
      "----\n",
      "[[ 0  1  2  3  4]\n",
      " [ 5  6  7  8  9]\n",
      " [10 11 12 13 14]\n",
      " [15 16 17 18 19]]\n"
     ]
    }
   ],
   "source": [
    "# Изменение размерности\n",
    "arr = np.arange(20)\n",
    "print(arr)\n",
    "mtrx = np.ndarray((4, 5), dtype=np.int32)\n",
    "mtrx[0, :] = arr[:5]\n",
    "mtrx[1, :] = arr[5:10]\n",
    "mtrx[2, :] = arr[10:15]\n",
    "mtrx[3, :] = arr[15:]\n",
    "\n",
    "print(mtrx)\n",
    "print('----')\n",
    "print(arr.reshape((4, 5)))\n",
    "print('----')\n",
    "print(arr.reshape((4, -1)))"
   ]
  },
  {
   "cell_type": "code",
   "execution_count": 310,
   "metadata": {},
   "outputs": [
    {
     "name": "stdout",
     "output_type": "stream",
     "text": [
      "[[0 1 2 3 4]\n",
      " [5 6 7 8 9]]\n",
      "[[ 0  1  2  3  4]\n",
      " [ 5  6  7  8  9]\n",
      " [10 11 12 13 14]]\n",
      "-------\n",
      "[[ 0  1  2  3  4]\n",
      " [ 5  6  7  8  9]\n",
      " [ 0  1  2  3  4]\n",
      " [ 5  6  7  8  9]\n",
      " [10 11 12 13 14]]\n"
     ]
    }
   ],
   "source": [
    "# Объединение массивов\n",
    "x = np.arange(10).reshape((2, 5))\n",
    "y = np.arange(15).reshape((3, 5))\n",
    "\n",
    "print(x)\n",
    "print(y)\n",
    "print('-------')\n",
    "print(np.concatenate((x, y), axis=0))"
   ]
  },
  {
   "cell_type": "code",
   "execution_count": 311,
   "metadata": {},
   "outputs": [
    {
     "name": "stdout",
     "output_type": "stream",
     "text": [
      "[[0 1 2]\n",
      " [3 4 5]\n",
      " [6 7 8]]\n",
      "    \n",
      "[[ 0  1  2  3]\n",
      " [ 4  5  6  7]\n",
      " [ 8  9 10 11]]\n",
      "    \n",
      "[[ 0  1  2  3  4]\n",
      " [ 5  6  7  8  9]\n",
      " [10 11 12 13 14]]\n",
      " \n",
      "[[ 0  1  2  0  1  2  3  0  1  2  3  4]\n",
      " [ 3  4  5  4  5  6  7  5  6  7  8  9]\n",
      " [ 6  7  8  8  9 10 11 10 11 12 13 14]]\n"
     ]
    }
   ],
   "source": [
    "# Объединить три массива вдоль колонок\n",
    "x = np.arange(9).reshape((3, 3))\n",
    "y = np.arange(12).reshape((3, 4))\n",
    "z = np.arange(15).reshape((3, 5))\n",
    "\n",
    "print(x)\n",
    "print('    ')\n",
    "print(y)\n",
    "print('    ')\n",
    "print(z)\n",
    "print(' ')\n",
    "print(np.concatenate((x, y,z), axis=1))"
   ]
  },
  {
   "cell_type": "code",
   "execution_count": 313,
   "metadata": {},
   "outputs": [
    {
     "name": "stdout",
     "output_type": "stream",
     "text": [
      "[[1 2 3]\n",
      " [4 5 6]\n",
      " [7 8 9]]\n",
      "    \n",
      "[[1. 1. 2. 3.]\n",
      " [1. 4. 5. 6.]\n",
      " [1. 7. 8. 9.]]\n"
     ]
    }
   ],
   "source": [
    "# Напишите реализацию добавления стобца единиц к матрице слева:\n",
    "x = np.arange(1, 10).reshape((3, 3))\n",
    "print(x)\n",
    "y = np.ones((3,1))\n",
    "print('    ')\n",
    "print(np.concatenate((y,x), axis=1))"
   ]
  },
  {
   "cell_type": "code",
   "execution_count": 314,
   "metadata": {},
   "outputs": [
    {
     "name": "stdout",
     "output_type": "stream",
     "text": [
      "[ 2  4  5  1  2  7  5  0 -1  3  5]\n",
      "[-1  0  1  2  2  3  4  5  5  5  7]\n"
     ]
    }
   ],
   "source": [
    "# Сортировка массива\n",
    "unsorted_arr = np.array([2, 4, 5, 1, 2, 7, 5, 0, -1, 3, 5])\n",
    "sorted_arr = np.sort(unsorted_arr)\n",
    "print(unsorted_arr)\n",
    "print(sorted_arr)"
   ]
  },
  {
   "cell_type": "code",
   "execution_count": 316,
   "metadata": {},
   "outputs": [
    {
     "name": "stdout",
     "output_type": "stream",
     "text": [
      "[ 8  7  3  0  4  9  1  2  6 10  5]\n",
      "[-1  0  1  2  2  3  4  5  5  5  7]\n",
      "5\n",
      "-1\n"
     ]
    }
   ],
   "source": [
    "sorted_indices = np.argsort(unsorted_arr)\n",
    "print(sorted_indices)\n",
    "\n",
    "# А теперь воспользуемся индексами и отобразим исходный массив с индексацией\n",
    "print(unsorted_arr[sorted_indices])\n",
    "\n",
    "# Максимальный элемент\n",
    "print(np.argmax(unsorted_arr))\n",
    "\n",
    "# Минимальный элемент\n",
    "print(np.min(unsorted_arr))"
   ]
  },
  {
   "cell_type": "code",
   "execution_count": 317,
   "metadata": {},
   "outputs": [
    {
     "name": "stdout",
     "output_type": "stream",
     "text": [
      "[[11 -1  1  3  5]\n",
      " [ 6  1  0 -1 10]\n",
      " [ 1  3  2  3  6]\n",
      " [ 5  2  7  8  9]]\n",
      " \n",
      "[0 2 3 3 1]\n"
     ]
    }
   ],
   "source": [
    "# найдите индексы максимальных элементов в каждом столбце 2D матрицы\n",
    "arr = np.array([\n",
    "    [11, -1, 1, 3, 5],\n",
    "    [6, 1, 0, -1, 10],\n",
    "    [1, 3, 2, 3, 6],\n",
    "    [5, 2, 7, 8, 9],\n",
    "])\n",
    "print(arr)\n",
    "print(' ')\n",
    "print(np.argmax(arr, axis=0))"
   ]
  },
  {
   "cell_type": "code",
   "execution_count": 318,
   "metadata": {},
   "outputs": [
    {
     "name": "stdout",
     "output_type": "stream",
     "text": [
      "[[11  2  1  3  5]\n",
      " [ 6  2  0 -1 10]\n",
      " [ 1  3  2  3  5]\n",
      " [ 5  2  7  8  9]]\n",
      " \n",
      "[[ 1  2  0 -1  5]\n",
      " [ 5  2  1  3  5]\n",
      " [ 6  2  2  3  9]\n",
      " [11  3  7  8 10]]\n"
     ]
    }
   ],
   "source": [
    "# Напишите код сортировки массива по столбцам:\n",
    "arr = np.array([\n",
    "    [11, 2, 1, 3, 5],\n",
    "    [6, 2, 0, -1, 10],\n",
    "    [1, 3, 2, 3, 5],\n",
    "    [5, 2, 7, 8, 9],\n",
    "])\n",
    "print(arr)\n",
    "print(' ')\n",
    "print(np.sort(arr, axis=0))"
   ]
  },
  {
   "cell_type": "code",
   "execution_count": 319,
   "metadata": {},
   "outputs": [
    {
     "name": "stdout",
     "output_type": "stream",
     "text": [
      "[[-4  4 14 -7  6 -6 15]\n",
      " [10 -5 18 13  0 16  9]\n",
      " [17 17 -5 17 -9 15 12]\n",
      " [-3 -8 18 -6 -4 14 12]\n",
      " [16  6 -6 -3 -6 -8  7]]\n"
     ]
    }
   ],
   "source": [
    "#Создайте массив, состоящий из случайных элементов в диапазоне [-10; 20] размером (5, 7)\n",
    "mass=np.random.randint(low=-10, high=20, size=(5,7))\n",
    "print(mass)"
   ]
  },
  {
   "cell_type": "code",
   "execution_count": 320,
   "metadata": {},
   "outputs": [
    {
     "name": "stdout",
     "output_type": "stream",
     "text": [
      "[[ 1  2  3  4  5]\n",
      " [ 6  7  8  9 10]\n",
      " [11 12 13 14 15]]\n",
      " \n",
      "[[ 0.  0.  0.  0.  0.  0.  0.]\n",
      " [ 0.  1.  2.  3.  4.  5.  0.]\n",
      " [ 0.  6.  7.  8.  9. 10.  0.]\n",
      " [ 0. 11. 12. 13. 14. 15.  0.]\n",
      " [ 0.  0.  0.  0.  0.  0.  0.]]\n"
     ]
    }
   ],
   "source": [
    "#Добавьте границу в виде нулей со всех сторон 2D массива:\n",
    "data = np.arange(1, 16).reshape((3, 5))\n",
    "print(data)\n",
    "mass_zero=np.zeros((data.shape[0],1))\n",
    "cont=np.concatenate((mass_zero,data,mass_zero),axis=1)\n",
    "new_mass_zero=np.zeros((1,cont.shape[1]))\n",
    "print(' ')\n",
    "print(np.concatenate((new_mass_zero,cont,new_mass_zero),axis=0))"
   ]
  },
  {
   "cell_type": "code",
   "execution_count": 321,
   "metadata": {},
   "outputs": [
    {
     "name": "stdout",
     "output_type": "stream",
     "text": [
      "[[ 1  2  3  4  5]\n",
      " [ 6  7  8  9 10]\n",
      " [11 12 13 14 15]]\n",
      " \n",
      "[[2 2 3 4 5]\n",
      " [6 6 6 6 6]\n",
      " [6 6 6 6 6]]\n"
     ]
    }
   ],
   "source": [
    "#произведите ограничение массива, чтобы в нем значения были не более шести и не менее двух:\n",
    "data = np.arange(1, 16).reshape((3, 5))\n",
    "print(data)\n",
    "print(' ')\n",
    "print(np.clip(data,2,6))"
   ]
  },
  {
   "cell_type": "code",
   "execution_count": 323,
   "metadata": {},
   "outputs": [
    {
     "name": "stdout",
     "output_type": "stream",
     "text": [
      "[[2 2 2 2 2]\n",
      " [2 2 2 2 2]\n",
      " [2 2 2 2 2]]\n",
      "--------\n",
      "[[ 1  2  4  8 16]\n",
      " [ 1  2  4  8 16]\n",
      " [ 1  2  4  8 16]]\n"
     ]
    }
   ],
   "source": [
    "#роизведите модификацию массива так, чтобы значение в колонке результата соответствовало исходному значению, возведенному в степень индекса колонки\n",
    "data = np.full((3, 5), fill_value=2, dtype=np.int32)\n",
    "print(data)\n",
    "\n",
    "new_data=np.empty_like(data)\n",
    "for i in range(data.shape[1]):\n",
    "    new_data[:,i]=new_data[:,i]**i\n",
    "\n",
    "print('--------')\n",
    "print(new_data)"
   ]
  },
  {
   "cell_type": "code",
   "execution_count": 324,
   "metadata": {},
   "outputs": [
    {
     "name": "stdout",
     "output_type": "stream",
     "text": [
      "[[2 2 2 2 2]\n",
      " [2 2 2 2 2]\n",
      " [2 2 2 2 2]]\n",
      " \n",
      "[[0 2 4 6 8]\n",
      " [0 2 4 6 8]\n",
      " [0 2 4 6 8]]\n"
     ]
    }
   ],
   "source": [
    "#Умножьте каждую колонку на ее индекс:\n",
    "data = np.full((3, 5), fill_value=2, dtype=np.int32)\n",
    "print(data)\n",
    "index=list(range(data.shape[1]))\n",
    "new_data=np.multiply(data,index)\n",
    "print(' ')\n",
    "print(new_data)"
   ]
  },
  {
   "cell_type": "code",
   "execution_count": 325,
   "metadata": {},
   "outputs": [
    {
     "name": "stdout",
     "output_type": "stream",
     "text": [
      "[[1 1 1 1]\n",
      " [2 2 2 2]\n",
      " [3 3 3 3]\n",
      " [4 4 4 4]\n",
      " [5 5 5 5]\n",
      " [6 6 6 6]\n",
      " [7 7 7 7]]\n",
      " \n",
      "[[ 1  2  1  2]\n",
      " [ 2  2  2  2]\n",
      " [ 3  6  3  6]\n",
      " [ 4  4  4  4]\n",
      " [ 5 10  5 10]\n",
      " [ 6  6  6  6]\n",
      " [ 7 14  7 14]]\n"
     ]
    }
   ],
   "source": [
    "#Умножьте каждый четный ряд в матрице на вектор:\n",
    "data = np.repeat(np.arange(1, 8), 4).reshape(7, 4)\n",
    "vec = np.array([1, 2, 1, 2])\n",
    "new_data=data.copy()\n",
    "print(data)\n",
    "for i in range(data.shape[0]):\n",
    "    if i%2==0:\n",
    "        new_data[i,:]=np.multiply(new_data[i,:],vec)\n",
    "print(' ')\n",
    "print(new_data)"
   ]
  },
  {
   "cell_type": "code",
   "execution_count": 326,
   "metadata": {},
   "outputs": [
    {
     "name": "stdout",
     "output_type": "stream",
     "text": [
      "[[20 22  2 14 25  8]\n",
      " [ 7 25 23  3 22 15]\n",
      " [ 8 16  9 22  0  9]\n",
      " [ 4 24 24 28  3 40]]\n",
      " \n",
      "[[2 5 3 0 1 4]\n",
      " [3 0 5 4 2 1]\n",
      " [4 0 2 5 1 3]\n",
      " [4 0 1 2 3 5]]\n",
      " \n",
      "[[4 1]\n",
      " [1 2]\n",
      " [3 1]\n",
      " [5 3]]\n"
     ]
    }
   ],
   "source": [
    "#Определите индексы двух наибольших элементов в матрице по каждому ряду\n",
    "data = np.array([[20, 22,  2, 14, 25,  8],\n",
    "                [ 7, 25, 23,  3, 22, 15],\n",
    "                [ 8, 16,  9, 22,  0,  9],\n",
    "                [ 4, 24, 24, 28,  3, 40]])\n",
    "print(data)\n",
    "new_data=np.argsort(data, axis=1)\n",
    "print(' ')\n",
    "print(new_data)\n",
    "print(' ')\n",
    "print(new_data[:,[-1,-2]])"
   ]
  },
  {
   "cell_type": "code",
   "execution_count": 327,
   "metadata": {},
   "outputs": [
    {
     "name": "stdout",
     "output_type": "stream",
     "text": [
      "[[20 22  2 14 25  8]\n",
      " [ 7 25 23  3 22 15]\n",
      " [ 8 16  9 22  0  9]\n",
      " [ 4 24 24 28  3 40]]\n",
      " \n",
      "[[22  8]\n",
      " [25 15]\n",
      " [16  9]\n",
      " [24 40]]\n"
     ]
    }
   ],
   "source": [
    "#Выберите две случайные колонки из массива:\n",
    "\n",
    "data = np.array([[20, 22,  2, 14, 25,  8],\n",
    "                [ 7, 25, 23,  3, 22, 15],\n",
    "                [ 8, 16,  9, 22,  0,  9],\n",
    "                [ 4, 24, 24, 28,  3, 40]])\n",
    "print(data)\n",
    "new_data=data[:,[1,-1]]\n",
    "print(' ')\n",
    "print(new_data)"
   ]
  },
  {
   "cell_type": "code",
   "execution_count": null,
   "metadata": {},
   "outputs": [],
   "source": []
  },
  {
   "cell_type": "code",
   "execution_count": 328,
   "metadata": {
    "scrolled": true
   },
   "outputs": [
    {
     "name": "stdout",
     "output_type": "stream",
     "text": [
      "[[0 1 2]\n",
      " [3 4 5]\n",
      " [6 7 8]]\n",
      " \n",
      "[[0 1 2]\n",
      " [0 1 2]\n",
      " [0 1 2]\n",
      " [3 4 5]\n",
      " [6 7 8]\n",
      " [6 7 8]\n",
      " [3 4 5]\n",
      " [6 7 8]\n",
      " [3 4 5]\n",
      " [6 7 8]]\n"
     ]
    }
   ],
   "source": [
    "#Создайте массив размером (10, 3), который состоит из повторяющихся рядов исходного массива:\n",
    "\n",
    "data = np.arange(9).reshape(3, 3)\n",
    "print(data)\n",
    "new_data = np.tile(data, reps=(3, 1))\n",
    "new_data1=np.random.permutation(np.concatenate((new_data[-1:,],new_data), axis=0))\n",
    "print(' ')\n",
    "print(new_data1)"
   ]
  },
  {
   "cell_type": "code",
   "execution_count": 329,
   "metadata": {},
   "outputs": [
    {
     "name": "stdout",
     "output_type": "stream",
     "text": [
      "[[20 22  2 14 25  8]\n",
      " [ 7 25 23  3 22 15]\n",
      " [ 8 16  9 22  0  9]\n",
      " [14  9 33 21  7  6]\n",
      " [ 4 24 24 28  3 40]]\n",
      "  \n",
      "[[23 22]\n",
      " [ 9  0]\n",
      " [33  7]]\n"
     ]
    }
   ],
   "source": [
    "#Соберите массив, состоящий из элементов 2й и 4й колонок и строк с 1й по 3ю:\n",
    "data = np.array([[20, 22,  2, 14, 25,  8],\n",
    "                [ 7, 25, 23,  3, 22, 15],\n",
    "                [ 8, 16,  9, 22,  0,  9],\n",
    "                [ 14, 9,  33, 21,  7,  6],\n",
    "                [ 4, 24, 24, 28,  3, 40]])\n",
    "print(data)\n",
    "print('  ')\n",
    "new_data=data[:,[2,4]]\n",
    "new_data=new_data[[1,2,3],:]\n",
    "print(new_data)"
   ]
  },
  {
   "cell_type": "code",
   "execution_count": 332,
   "metadata": {},
   "outputs": [
    {
     "name": "stdout",
     "output_type": "stream",
     "text": [
      "[[20 22  2 14 25  8]\n",
      " [ 7 25 23  3 22 15]\n",
      " [ 8 16  9 22  0  9]\n",
      " [14  9 33 21  7  6]\n",
      " [ 4 24 24 28  3 40]]\n",
      " \n",
      "[[20 22  2 14  3 40]\n",
      " [ 7 25 23  3  7  6]\n",
      " [ 8 16  9 22  0  9]\n",
      " [14  9 33 21 22 15]\n",
      " [ 4 24 24 28 25  8]]\n"
     ]
    }
   ],
   "source": [
    "#Инвертируйте порядок элементов в последних двух колонках:\n",
    "data = np.array([[20, 22,  2, 14, 25,  8],\n",
    "                [ 7, 25, 23,  3, 22, 15],\n",
    "                [ 8, 16,  9, 22,  0,  9],\n",
    "                [ 14, 9,  33, 21,  7,  6],\n",
    "                [ 4, 24, 24, 28,  3, 40]])\n",
    "print(data)\n",
    "copy_data=data[:,[0,1,2,3]] #копируем часть массива, которая остается без изменений\n",
    "new_data=data[:,[-2,-1]] #копируем в отдельный массив два последних столбца\n",
    "stroka=new_data.flatten() # преобразуем два столбца в одну строку\n",
    "revers_stroka=stroka[(stroka.shape[0])::-1] #переворачиваем строку\n",
    "mtrx=revers_stroka.reshape(new_data.shape[0],new_data.shape[1]) #восстанавливаем строку в матрицу 5 на 2\n",
    "mtrx=mtrx[:,[0,1]]=mtrx[:,[1,0]] #меняем столбцы матрицы местами\n",
    "result=np.concatenate((copy_data,mtrx),axis=1) #присоединяем к неизменной части матрицы два преобразованных последних столбца\n",
    "print(' ')\n",
    "print(result)"
   ]
  },
  {
   "cell_type": "code",
   "execution_count": null,
   "metadata": {},
   "outputs": [],
   "source": []
  }
 ],
 "metadata": {
  "kernelspec": {
   "display_name": "Python 3",
   "language": "python",
   "name": "python3"
  },
  "language_info": {
   "codemirror_mode": {
    "name": "ipython",
    "version": 3
   },
   "file_extension": ".py",
   "mimetype": "text/x-python",
   "name": "python",
   "nbconvert_exporter": "python",
   "pygments_lexer": "ipython3",
   "version": "3.8.3"
  }
 },
 "nbformat": 4,
 "nbformat_minor": 4
}
