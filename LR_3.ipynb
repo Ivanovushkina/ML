{
 "cells": [
  {
   "cell_type": "code",
   "execution_count": 1,
   "metadata": {},
   "outputs": [],
   "source": [
    "# Импорт необходимых модулей \n",
    "import matplotlib\n",
    "import seaborn as sns\n",
    "import matplotlib.pyplot as plt\n",
    "import numpy as np\n",
    "import pandas as pd\n",
    "\n",
    "# Настройки для визуализации\n",
    "# Если используется темная тема - лучше текст сделать белым\n",
    "TEXT_COLOR = 'black'\n",
    "\n",
    "matplotlib.rcParams['figure.figsize'] = (15, 10)\n",
    "matplotlib.rcParams['text.color'] = 'black'\n",
    "matplotlib.rcParams['font.size'] = 14\n",
    "matplotlib.rcParams['axes.labelcolor'] = TEXT_COLOR\n",
    "matplotlib.rcParams['xtick.color'] = TEXT_COLOR\n",
    "matplotlib.rcParams['ytick.color'] = TEXT_COLOR\n",
    "\n",
    "# Зафиксируем состояние случайных чисел\n",
    "RANDOM_STATE = 42\n",
    "np.random.seed(RANDOM_STATE)"
   ]
  },
  {
   "cell_type": "markdown",
   "metadata": {},
   "source": [
    "# Случайные леса на Титанике"
   ]
  },
  {
   "cell_type": "code",
   "execution_count": 2,
   "metadata": {},
   "outputs": [
    {
     "data": {
      "text/html": [
       "<div>\n",
       "<style scoped>\n",
       "    .dataframe tbody tr th:only-of-type {\n",
       "        vertical-align: middle;\n",
       "    }\n",
       "\n",
       "    .dataframe tbody tr th {\n",
       "        vertical-align: top;\n",
       "    }\n",
       "\n",
       "    .dataframe thead th {\n",
       "        text-align: right;\n",
       "    }\n",
       "</style>\n",
       "<table border=\"1\" class=\"dataframe\">\n",
       "  <thead>\n",
       "    <tr style=\"text-align: right;\">\n",
       "      <th></th>\n",
       "      <th>PassengerId</th>\n",
       "      <th>Survived</th>\n",
       "      <th>Pclass</th>\n",
       "      <th>Name</th>\n",
       "      <th>Sex</th>\n",
       "      <th>Age</th>\n",
       "      <th>SibSp</th>\n",
       "      <th>Parch</th>\n",
       "      <th>Ticket</th>\n",
       "      <th>Fare</th>\n",
       "      <th>Cabin</th>\n",
       "      <th>Embarked</th>\n",
       "    </tr>\n",
       "  </thead>\n",
       "  <tbody>\n",
       "    <tr>\n",
       "      <th>0</th>\n",
       "      <td>1</td>\n",
       "      <td>0</td>\n",
       "      <td>3</td>\n",
       "      <td>Braund, Mr. Owen Harris</td>\n",
       "      <td>male</td>\n",
       "      <td>22.0</td>\n",
       "      <td>1</td>\n",
       "      <td>0</td>\n",
       "      <td>A/5 21171</td>\n",
       "      <td>7.2500</td>\n",
       "      <td>NaN</td>\n",
       "      <td>S</td>\n",
       "    </tr>\n",
       "    <tr>\n",
       "      <th>1</th>\n",
       "      <td>2</td>\n",
       "      <td>1</td>\n",
       "      <td>1</td>\n",
       "      <td>Cumings, Mrs. John Bradley (Florence Briggs Th...</td>\n",
       "      <td>female</td>\n",
       "      <td>38.0</td>\n",
       "      <td>1</td>\n",
       "      <td>0</td>\n",
       "      <td>PC 17599</td>\n",
       "      <td>71.2833</td>\n",
       "      <td>C85</td>\n",
       "      <td>C</td>\n",
       "    </tr>\n",
       "    <tr>\n",
       "      <th>2</th>\n",
       "      <td>3</td>\n",
       "      <td>1</td>\n",
       "      <td>3</td>\n",
       "      <td>Heikkinen, Miss. Laina</td>\n",
       "      <td>female</td>\n",
       "      <td>26.0</td>\n",
       "      <td>0</td>\n",
       "      <td>0</td>\n",
       "      <td>STON/O2. 3101282</td>\n",
       "      <td>7.9250</td>\n",
       "      <td>NaN</td>\n",
       "      <td>S</td>\n",
       "    </tr>\n",
       "    <tr>\n",
       "      <th>3</th>\n",
       "      <td>4</td>\n",
       "      <td>1</td>\n",
       "      <td>1</td>\n",
       "      <td>Futrelle, Mrs. Jacques Heath (Lily May Peel)</td>\n",
       "      <td>female</td>\n",
       "      <td>35.0</td>\n",
       "      <td>1</td>\n",
       "      <td>0</td>\n",
       "      <td>113803</td>\n",
       "      <td>53.1000</td>\n",
       "      <td>C123</td>\n",
       "      <td>S</td>\n",
       "    </tr>\n",
       "    <tr>\n",
       "      <th>4</th>\n",
       "      <td>5</td>\n",
       "      <td>0</td>\n",
       "      <td>3</td>\n",
       "      <td>Allen, Mr. William Henry</td>\n",
       "      <td>male</td>\n",
       "      <td>35.0</td>\n",
       "      <td>0</td>\n",
       "      <td>0</td>\n",
       "      <td>373450</td>\n",
       "      <td>8.0500</td>\n",
       "      <td>NaN</td>\n",
       "      <td>S</td>\n",
       "    </tr>\n",
       "  </tbody>\n",
       "</table>\n",
       "</div>"
      ],
      "text/plain": [
       "   PassengerId  Survived  Pclass  \\\n",
       "0            1         0       3   \n",
       "1            2         1       1   \n",
       "2            3         1       3   \n",
       "3            4         1       1   \n",
       "4            5         0       3   \n",
       "\n",
       "                                                Name     Sex   Age  SibSp  \\\n",
       "0                            Braund, Mr. Owen Harris    male  22.0      1   \n",
       "1  Cumings, Mrs. John Bradley (Florence Briggs Th...  female  38.0      1   \n",
       "2                             Heikkinen, Miss. Laina  female  26.0      0   \n",
       "3       Futrelle, Mrs. Jacques Heath (Lily May Peel)  female  35.0      1   \n",
       "4                           Allen, Mr. William Henry    male  35.0      0   \n",
       "\n",
       "   Parch            Ticket     Fare Cabin Embarked  \n",
       "0      0         A/5 21171   7.2500   NaN        S  \n",
       "1      0          PC 17599  71.2833   C85        C  \n",
       "2      0  STON/O2. 3101282   7.9250   NaN        S  \n",
       "3      0            113803  53.1000  C123        S  \n",
       "4      0            373450   8.0500   NaN        S  "
      ]
     },
     "execution_count": 2,
     "metadata": {},
     "output_type": "execute_result"
    }
   ],
   "source": [
    "URL = 'https://raw.githubusercontent.com/KaiL4eK/ml_edu/master/datasets/Titanic_train.csv'\n",
    "src_df = pd.read_csv(URL)\n",
    "src_df.head()"
   ]
  },
  {
   "cell_type": "code",
   "execution_count": 3,
   "metadata": {},
   "outputs": [
    {
     "name": "stdout",
     "output_type": "stream",
     "text": [
      "Shape of data: (891, 12)\n",
      "Index(['PassengerId', 'Survived', 'Pclass', 'Name', 'Sex', 'Age', 'SibSp',\n",
      "       'Parch', 'Ticket', 'Fare', 'Cabin', 'Embarked'],\n",
      "      dtype='object')\n"
     ]
    }
   ],
   "source": [
    "print(f'Shape of data: {src_df.shape}')\n",
    "print(src_df.columns)"
   ]
  },
  {
   "cell_type": "code",
   "execution_count": 4,
   "metadata": {},
   "outputs": [
    {
     "name": "stdout",
     "output_type": "stream",
     "text": [
      "<class 'pandas.core.frame.DataFrame'>\n",
      "RangeIndex: 891 entries, 0 to 890\n",
      "Data columns (total 12 columns):\n",
      " #   Column       Non-Null Count  Dtype  \n",
      "---  ------       --------------  -----  \n",
      " 0   PassengerId  891 non-null    int64  \n",
      " 1   Survived     891 non-null    int64  \n",
      " 2   Pclass       891 non-null    int64  \n",
      " 3   Name         891 non-null    object \n",
      " 4   Sex          891 non-null    object \n",
      " 5   Age          714 non-null    float64\n",
      " 6   SibSp        891 non-null    int64  \n",
      " 7   Parch        891 non-null    int64  \n",
      " 8   Ticket       891 non-null    object \n",
      " 9   Fare         891 non-null    float64\n",
      " 10  Cabin        204 non-null    object \n",
      " 11  Embarked     889 non-null    object \n",
      "dtypes: float64(2), int64(5), object(5)\n",
      "memory usage: 83.7+ KB\n"
     ]
    }
   ],
   "source": [
    "src_df.info()"
   ]
  },
  {
   "cell_type": "markdown",
   "metadata": {},
   "source": [
    "## Базовый анализ данных"
   ]
  },
  {
   "cell_type": "markdown",
   "metadata": {},
   "source": [
    "## Анализ признаков"
   ]
  },
  {
   "cell_type": "code",
   "execution_count": 5,
   "metadata": {},
   "outputs": [
    {
     "name": "stdout",
     "output_type": "stream",
     "text": [
      "891\n",
      "891\n"
     ]
    },
    {
     "data": {
      "text/plain": [
       "0    1\n",
       "1    2\n",
       "2    3\n",
       "3    4\n",
       "4    5\n",
       "Name: PassengerId, dtype: int64"
      ]
     },
     "execution_count": 5,
     "metadata": {},
     "output_type": "execute_result"
    }
   ],
   "source": [
    "print(src_df['PassengerId'].nunique())\n",
    "print(src_df['PassengerId'].count())\n",
    "src_df['PassengerId'].head()"
   ]
  },
  {
   "cell_type": "markdown",
   "metadata": {},
   "source": [
    "## Заполнение пропусков"
   ]
  },
  {
   "cell_type": "code",
   "execution_count": 6,
   "metadata": {},
   "outputs": [
    {
     "data": {
      "text/plain": [
       "PassengerId      0\n",
       "Survived         0\n",
       "Pclass           0\n",
       "Name             0\n",
       "Sex              0\n",
       "Age            177\n",
       "SibSp            0\n",
       "Parch            0\n",
       "Ticket           0\n",
       "Fare             0\n",
       "Cabin          687\n",
       "Embarked         2\n",
       "dtype: int64"
      ]
     },
     "execution_count": 6,
     "metadata": {},
     "output_type": "execute_result"
    }
   ],
   "source": [
    "src_df.isnull().sum()"
   ]
  },
  {
   "cell_type": "markdown",
   "metadata": {},
   "source": [
    "Так, например, признак Age имеет 177 пропущенных значений, что является достаточно большим количеством, чтобы исключить записи с пропусками. Признак также невозможно исключить, так как он имеет информативный характер (возраст часто связывают со способностью к выживанию). Таким образом, можно воспользоваться sklearn.impute.SimpleImputer со стратегией заполнения mean, чтобы заполнить пропущенные данные на основе статистики остальных данных данного признака."
   ]
  },
  {
   "cell_type": "code",
   "execution_count": 7,
   "metadata": {},
   "outputs": [
    {
     "name": "stdout",
     "output_type": "stream",
     "text": [
      "(891, 1)\n"
     ]
    },
    {
     "data": {
      "text/plain": [
       "PassengerId      0\n",
       "Survived         0\n",
       "Pclass           0\n",
       "Name             0\n",
       "Sex              0\n",
       "Age              0\n",
       "SibSp            0\n",
       "Parch            0\n",
       "Ticket           0\n",
       "Fare             0\n",
       "Cabin          687\n",
       "Embarked         2\n",
       "dtype: int64"
      ]
     },
     "execution_count": 7,
     "metadata": {},
     "output_type": "execute_result"
    }
   ],
   "source": [
    "from sklearn.impute import SimpleImputer\n",
    "\n",
    "imp = SimpleImputer(strategy='mean')\n",
    "# Двойные скобки использованы, чтобы передать в fit() 2D массив\n",
    "X_in = src_df[['Age']]\n",
    "print(X_in.shape)\n",
    "\n",
    "src_df['Age'] = imp.fit_transform(X_in)\n",
    "src_df.isnull().sum()"
   ]
  },
  {
   "cell_type": "markdown",
   "metadata": {},
   "source": [
    "Для категориальных признаков наиболее простым методом является стратегия most_frequent, когда берется наиболее частое значение:"
   ]
  },
  {
   "cell_type": "code",
   "execution_count": 8,
   "metadata": {},
   "outputs": [
    {
     "data": {
      "text/plain": [
       "PassengerId      0\n",
       "Survived         0\n",
       "Pclass           0\n",
       "Name             0\n",
       "Sex              0\n",
       "Age              0\n",
       "SibSp            0\n",
       "Parch            0\n",
       "Ticket           0\n",
       "Fare             0\n",
       "Cabin          687\n",
       "Embarked         0\n",
       "dtype: int64"
      ]
     },
     "execution_count": 8,
     "metadata": {},
     "output_type": "execute_result"
    }
   ],
   "source": [
    "imp = SimpleImputer(strategy='most_frequent')\n",
    "src_df['Embarked'] = imp.fit_transform(src_df[['Embarked']])\n",
    "\n",
    "src_df.isnull().sum()"
   ]
  },
  {
   "cell_type": "markdown",
   "metadata": {},
   "source": [
    "Другим методом работы с пропусками является исключение признаков из-за слишком большого количества пропусков:"
   ]
  },
  {
   "cell_type": "code",
   "execution_count": 9,
   "metadata": {},
   "outputs": [
    {
     "data": {
      "text/plain": [
       "0.7710437710437711"
      ]
     },
     "execution_count": 9,
     "metadata": {},
     "output_type": "execute_result"
    }
   ],
   "source": [
    "src_df['Cabin'].isnull().sum()/src_df.shape[0]"
   ]
  },
  {
   "cell_type": "markdown",
   "metadata": {},
   "source": [
    "## Кодирование признаков"
   ]
  },
  {
   "cell_type": "markdown",
   "metadata": {},
   "source": [
    "Рассмотрим категориальный признак:"
   ]
  },
  {
   "cell_type": "code",
   "execution_count": 10,
   "metadata": {},
   "outputs": [
    {
     "name": "stdout",
     "output_type": "stream",
     "text": [
      "<class 'pandas.core.frame.DataFrame'>\n",
      "RangeIndex: 891 entries, 0 to 890\n",
      "Data columns (total 12 columns):\n",
      " #   Column       Non-Null Count  Dtype  \n",
      "---  ------       --------------  -----  \n",
      " 0   PassengerId  891 non-null    int64  \n",
      " 1   Survived     891 non-null    int64  \n",
      " 2   Pclass       891 non-null    int64  \n",
      " 3   Name         891 non-null    object \n",
      " 4   Sex          891 non-null    object \n",
      " 5   Age          891 non-null    float64\n",
      " 6   SibSp        891 non-null    int64  \n",
      " 7   Parch        891 non-null    int64  \n",
      " 8   Ticket       891 non-null    object \n",
      " 9   Fare         891 non-null    float64\n",
      " 10  Cabin        204 non-null    object \n",
      " 11  Embarked     891 non-null    object \n",
      "dtypes: float64(2), int64(5), object(5)\n",
      "memory usage: 83.7+ KB\n"
     ]
    },
    {
     "data": {
      "text/plain": [
       "S    646\n",
       "C    168\n",
       "Q     77\n",
       "Name: Embarked, dtype: int64"
      ]
     },
     "execution_count": 10,
     "metadata": {},
     "output_type": "execute_result"
    }
   ],
   "source": [
    "src_df.info()\n",
    "src_df['Embarked'].value_counts()"
   ]
  },
  {
   "cell_type": "markdown",
   "metadata": {},
   "source": [
    "кодирование One-Hot"
   ]
  },
  {
   "cell_type": "code",
   "execution_count": 11,
   "metadata": {},
   "outputs": [
    {
     "name": "stdout",
     "output_type": "stream",
     "text": [
      "(891, 1)\n"
     ]
    },
    {
     "data": {
      "text/plain": [
       "OneHotEncoder(sparse=False)"
      ]
     },
     "execution_count": 11,
     "metadata": {},
     "output_type": "execute_result"
    }
   ],
   "source": [
    "from sklearn.preprocessing import OneHotEncoder\n",
    "\n",
    "# Мы отключим создание разреженного представления, но оно оптимальнее для хранения\n",
    "# Поэтому для отладки лучше использовать и проверять dense представление,\n",
    "#   а для работы в конечном представлении - sparse\n",
    "oh_enc = OneHotEncoder(sparse=False)\n",
    "\n",
    "# Любой энкодер ненавидит пропуски в данных, поэтому перед использованием\n",
    "#   заполните пропуски в данных\n",
    "X_sample = src_df[['Embarked']]\n",
    "print(X_sample.shape)\n",
    "\n",
    "oh_enc.fit(X_sample)"
   ]
  },
  {
   "cell_type": "code",
   "execution_count": 12,
   "metadata": {},
   "outputs": [
    {
     "data": {
      "text/plain": [
       "[array(['C', 'Q', 'S'], dtype=object)]"
      ]
     },
     "execution_count": 12,
     "metadata": {},
     "output_type": "execute_result"
    }
   ],
   "source": [
    "# Можно проверить, какие есть категории\n",
    "oh_enc.categories_"
   ]
  },
  {
   "cell_type": "code",
   "execution_count": 13,
   "metadata": {},
   "outputs": [
    {
     "name": "stdout",
     "output_type": "stream",
     "text": [
      "  Embarked\n",
      "0        S\n",
      "1        C\n",
      "2        S\n",
      "3        S\n",
      "4        S\n",
      "5        Q\n",
      "[[0. 0. 1.]\n",
      " [1. 0. 0.]\n",
      " [0. 0. 1.]\n",
      " [0. 0. 1.]\n",
      " [0. 0. 1.]\n",
      " [0. 1. 0.]]\n"
     ]
    }
   ],
   "source": [
    "# Также посмотреть, что происходит после кодирования с данными\n",
    "X_sample_ohe = oh_enc.transform(X_sample)\n",
    "\n",
    "print(X_sample[:6])\n",
    "print(X_sample_ohe[:6])"
   ]
  },
  {
   "cell_type": "markdown",
   "metadata": {},
   "source": [
    "Поменяем False на True"
   ]
  },
  {
   "cell_type": "code",
   "execution_count": 14,
   "metadata": {},
   "outputs": [
    {
     "name": "stdout",
     "output_type": "stream",
     "text": [
      "(891, 1)\n"
     ]
    },
    {
     "data": {
      "text/plain": [
       "OneHotEncoder()"
      ]
     },
     "execution_count": 14,
     "metadata": {},
     "output_type": "execute_result"
    }
   ],
   "source": [
    "from sklearn.preprocessing import OneHotEncoder\n",
    "\n",
    "# Мы отключим создание разреженного представления, но оно оптимальнее для хранения\n",
    "# Поэтому для отладки лучше использовать и проверять dense представление,\n",
    "#   а для работы в конечном представлении - sparse\n",
    "oh_enc_new = OneHotEncoder(sparse=True)\n",
    "\n",
    "# Любой энкодер ненавидит пропуски в данных, поэтому перед использованием\n",
    "#   заполните пропуски в данных\n",
    "X_sample = src_df[['Embarked']]\n",
    "print(X_sample.shape)\n",
    "\n",
    "oh_enc_new.fit(X_sample)"
   ]
  },
  {
   "cell_type": "code",
   "execution_count": 15,
   "metadata": {},
   "outputs": [
    {
     "data": {
      "text/plain": [
       "[array(['C', 'Q', 'S'], dtype=object)]"
      ]
     },
     "execution_count": 15,
     "metadata": {},
     "output_type": "execute_result"
    }
   ],
   "source": [
    "# Можно проверить, какие есть категории\n",
    "oh_enc_new.categories_"
   ]
  },
  {
   "cell_type": "code",
   "execution_count": 16,
   "metadata": {},
   "outputs": [
    {
     "name": "stdout",
     "output_type": "stream",
     "text": [
      "  Embarked\n",
      "0        S\n",
      "1        C\n",
      "2        S\n",
      "3        S\n",
      "4        S\n",
      "5        Q\n",
      "  (0, 2)\t1.0\n",
      "  (1, 0)\t1.0\n",
      "  (2, 2)\t1.0\n",
      "  (3, 2)\t1.0\n",
      "  (4, 2)\t1.0\n",
      "  (5, 1)\t1.0\n"
     ]
    }
   ],
   "source": [
    "# Также посмотреть, что происходит после кодирования с данными\n",
    "X_sample_ohe = oh_enc_new.transform(X_sample)\n",
    "\n",
    "print(X_sample[:6])\n",
    "print(X_sample_ohe[:6])"
   ]
  },
  {
   "cell_type": "markdown",
   "metadata": {},
   "source": [
    "Еще одним важным аргументом является поведение энкодера при поступлении новых данных, которые он раньше не видел. Тут многое зависит от задачи, но можно сделать так, чтобы он выдавал ошибку или игнорировал новую категорию, которая не была в обучающих данных:"
   ]
  },
  {
   "cell_type": "code",
   "execution_count": 17,
   "metadata": {},
   "outputs": [
    {
     "name": "stdout",
     "output_type": "stream",
     "text": [
      "Error happened: Found unknown categories ['K'] in column 0 during transform\n"
     ]
    }
   ],
   "source": [
    "# Кидаем исключение, если появилась ранее невиданная категория\n",
    "oh_enc = OneHotEncoder(sparse=False, handle_unknown='error')\n",
    "oh_enc.fit(src_df[['Embarked']])\n",
    "\n",
    "# Воспользуемся try-except, чтобы поймать ошибку\n",
    "try:\n",
    "    print(oh_enc.transform(np.array([['K']])))\n",
    "except Exception as e:\n",
    "    print(f'Error happened: {e}')"
   ]
  },
  {
   "cell_type": "code",
   "execution_count": 18,
   "metadata": {},
   "outputs": [
    {
     "name": "stdout",
     "output_type": "stream",
     "text": [
      "[[0. 0. 0.]]\n"
     ]
    }
   ],
   "source": [
    "# Или просто игнорируем\n",
    "oh_enc = OneHotEncoder(sparse=False, handle_unknown='ignore')\n",
    "oh_enc.fit(src_df[['Embarked']])\n",
    "\n",
    "# Воспользуемся try-except, чтобы поймать ошибку\n",
    "try:\n",
    "    print(oh_enc.transform(np.array([['K']])))\n",
    "except Exception as e:\n",
    "    print(f'Error happened: {e}')"
   ]
  },
  {
   "cell_type": "code",
   "execution_count": 19,
   "metadata": {},
   "outputs": [
    {
     "name": "stdout",
     "output_type": "stream",
     "text": [
      "  Embarked\n",
      "0        S\n",
      "1        C\n",
      "2        S\n",
      "3        S\n",
      "4        S\n",
      "5        Q\n",
      "[[0. 0.]\n",
      " [1. 0.]\n",
      " [0. 0.]\n",
      " [0. 0.]\n",
      " [0. 0.]\n",
      " [0. 1.]]\n"
     ]
    }
   ],
   "source": [
    "# Или просто игнорируем\n",
    "oh_enc = OneHotEncoder(sparse=False, handle_unknown='ignore', categories=[['C', 'Q']])\n",
    "X_sample = src_df[['Embarked']]\n",
    "oh_enc.fit(X_sample)\n",
    "\n",
    "X_sample_ohe = oh_enc.transform(X_sample)\n",
    "\n",
    "print(X_sample[:6])\n",
    "print(X_sample_ohe[:6])"
   ]
  },
  {
   "cell_type": "markdown",
   "metadata": {},
   "source": [
    "## Полноценная предобработка"
   ]
  },
  {
   "cell_type": "markdown",
   "metadata": {},
   "source": [
    "Пайплайн позволяет собирать несколько этапов обработки/моделей воедино, чтобы затем пользоваться им как единым целым! Для примера наша обработка категориальных признаков может состоять из двух этапов"
   ]
  },
  {
   "cell_type": "code",
   "execution_count": 20,
   "metadata": {},
   "outputs": [],
   "source": [
    "from sklearn.pipeline import Pipeline\n",
    "\n",
    "categorical_features = ['Sex', 'Embarked']\n",
    "\n",
    "# Создаем обработчик категориальный признаков\n",
    "# Так как имеются пропущенные данные в Embarked - \n",
    "#   создадим Pipeline для выполнения нескольких шагов\n",
    "categorical_transformer = Pipeline(\n",
    "    # Шаги в Pipeline указываются как кортежи, каждый из которых\n",
    "    #   представляет собой (имя шага, трансформер)\n",
    "    steps=[\n",
    "        ('imp', SimpleImputer(strategy='most_frequent')),\n",
    "        # Опять sparse для отладки = False\n",
    "        ('enc', OneHotEncoder(sparse=False, handle_unknown='error')),                   \n",
    "])"
   ]
  },
  {
   "cell_type": "code",
   "execution_count": 21,
   "metadata": {},
   "outputs": [
    {
     "name": "stdout",
     "output_type": "stream",
     "text": [
      "      Sex Embarked\n",
      "0    male        S\n",
      "1  female        C\n",
      "2  female        S\n",
      "[[0. 1. 0. 0. 1.]\n",
      " [1. 0. 1. 0. 0.]\n",
      " [1. 0. 0. 0. 1.]]\n"
     ]
    }
   ],
   "source": [
    "URL = 'https://raw.githubusercontent.com/KaiL4eK/ml_edu/master/datasets/Titanic_train.csv'\n",
    "df = pd.read_csv(URL)\n",
    "\n",
    "categorical_transformer.fit(df[categorical_features])\n",
    "\n",
    "X_transformed = categorical_transformer.transform(df[categorical_features])\n",
    "print(df[categorical_features][:3])\n",
    "print(X_transformed[:3])"
   ]
  },
  {
   "cell_type": "code",
   "execution_count": 22,
   "metadata": {},
   "outputs": [
    {
     "data": {
      "text/plain": [
       "[array(['female', 'male'], dtype=object), array(['C', 'Q', 'S'], dtype=object)]"
      ]
     },
     "execution_count": 22,
     "metadata": {},
     "output_type": "execute_result"
    }
   ],
   "source": [
    "# До конкретных шагов можно добраться через атрибут named_steps\n",
    "categorical_transformer.named_steps['enc'].categories_"
   ]
  },
  {
   "cell_type": "code",
   "execution_count": 23,
   "metadata": {},
   "outputs": [
    {
     "data": {
      "text/plain": [
       "array(['Sex_female', 'Sex_male', 'Embarked_C', 'Embarked_Q', 'Embarked_S'],\n",
       "      dtype=object)"
      ]
     },
     "execution_count": 23,
     "metadata": {},
     "output_type": "execute_result"
    }
   ],
   "source": [
    "# Или посмотреть названия признаков после кодирования\n",
    "categorical_transformer.named_steps['enc'].get_feature_names(categorical_features)"
   ]
  },
  {
   "cell_type": "markdown",
   "metadata": {},
   "source": [
    "Теперь перейдем к другому классу - преобразователь колонок! Его применение в том, чтобы также собирать шаги обработки, но уже указывая, на какие колонки, какая обработка. То есть в пайплайн мы явно передавали данные. ColumnTransformer позволяет настроить всю линию предобработки, указывая, какую колонку, чем обрабатывать:"
   ]
  },
  {
   "cell_type": "code",
   "execution_count": 24,
   "metadata": {},
   "outputs": [
    {
     "name": "stdout",
     "output_type": "stream",
     "text": [
      "<class 'numpy.ndarray'>\n"
     ]
    }
   ],
   "source": [
    "from sklearn.compose import ColumnTransformer\n",
    "\n",
    "# Составляет список признаков для обработки\n",
    "categorical_features = ['Sex', 'Embarked']\n",
    "numeric_features = ['Age', 'Fare']\n",
    "\n",
    "# Создаем обработчик категориальных признаков\n",
    "categorical_transformer = Pipeline(\n",
    "    steps=[\n",
    "        ('imp', SimpleImputer(strategy='most_frequent')),\n",
    "        ('enc', OneHotEncoder(handle_unknown='error')),                   \n",
    "])\n",
    "\n",
    "# Численные значения имеют пропуски, заполним стратегией медианы\n",
    "numeric_transformer = SimpleImputer(strategy='median')\n",
    "\n",
    "# Создаем конечный конвертер, который будет использован для \n",
    "#   предобработки\n",
    "preprocessor = ColumnTransformer(\n",
    "    # Список конвертеров, каждый кортеж содержит\n",
    "    #   имя, конвертер и признаки, на которые он будет применен\n",
    "    transformers=[\n",
    "        ('cat', categorical_transformer, categorical_features),\n",
    "        ('num', numeric_transformer, numeric_features)\n",
    "    ],\n",
    "    # Признаки, не указанные ни в одном из конвертеров будут удалены\n",
    "    remainder='drop'\n",
    ")\n",
    "\n",
    "preprocessor.fit(df)\n",
    "\n",
    "X_data = preprocessor.transform(df)\n",
    "print(type(X_data))"
   ]
  },
  {
   "cell_type": "markdown",
   "metadata": {},
   "source": [
    "На выходе конвертера получается числовая матрица numpy, которую можно уже передавать на вход модели. При этом трансформер колонок позволяет также получать доступ до своих составляющих через атрибут named_transformers_:"
   ]
  },
  {
   "cell_type": "code",
   "execution_count": 25,
   "metadata": {},
   "outputs": [
    {
     "name": "stdout",
     "output_type": "stream",
     "text": [
      "[array(['female', 'male'], dtype=object), array(['C', 'Q', 'S'], dtype=object)]\n"
     ]
    }
   ],
   "source": [
    "# Получим объект пайплайна категориальных признаков\n",
    "pipe = preprocessor.named_transformers_['cat']\n",
    "# Отобразим категории OHE для шага кодирования\n",
    "print(pipe.named_steps['enc'].categories_)"
   ]
  },
  {
   "cell_type": "code",
   "execution_count": 26,
   "metadata": {},
   "outputs": [
    {
     "data": {
      "text/html": [
       "<div>\n",
       "<style scoped>\n",
       "    .dataframe tbody tr th:only-of-type {\n",
       "        vertical-align: middle;\n",
       "    }\n",
       "\n",
       "    .dataframe tbody tr th {\n",
       "        vertical-align: top;\n",
       "    }\n",
       "\n",
       "    .dataframe thead th {\n",
       "        text-align: right;\n",
       "    }\n",
       "</style>\n",
       "<table border=\"1\" class=\"dataframe\">\n",
       "  <thead>\n",
       "    <tr style=\"text-align: right;\">\n",
       "      <th></th>\n",
       "      <th>Sex_female</th>\n",
       "      <th>Sex_male</th>\n",
       "      <th>Embarked_C</th>\n",
       "      <th>Embarked_Q</th>\n",
       "      <th>Embarked_S</th>\n",
       "      <th>Age</th>\n",
       "      <th>Fare</th>\n",
       "    </tr>\n",
       "  </thead>\n",
       "  <tbody>\n",
       "    <tr>\n",
       "      <th>0</th>\n",
       "      <td>0.0</td>\n",
       "      <td>1.0</td>\n",
       "      <td>0.0</td>\n",
       "      <td>0.0</td>\n",
       "      <td>1.0</td>\n",
       "      <td>22.0</td>\n",
       "      <td>7.2500</td>\n",
       "    </tr>\n",
       "    <tr>\n",
       "      <th>1</th>\n",
       "      <td>1.0</td>\n",
       "      <td>0.0</td>\n",
       "      <td>1.0</td>\n",
       "      <td>0.0</td>\n",
       "      <td>0.0</td>\n",
       "      <td>38.0</td>\n",
       "      <td>71.2833</td>\n",
       "    </tr>\n",
       "    <tr>\n",
       "      <th>2</th>\n",
       "      <td>1.0</td>\n",
       "      <td>0.0</td>\n",
       "      <td>0.0</td>\n",
       "      <td>0.0</td>\n",
       "      <td>1.0</td>\n",
       "      <td>26.0</td>\n",
       "      <td>7.9250</td>\n",
       "    </tr>\n",
       "    <tr>\n",
       "      <th>3</th>\n",
       "      <td>1.0</td>\n",
       "      <td>0.0</td>\n",
       "      <td>0.0</td>\n",
       "      <td>0.0</td>\n",
       "      <td>1.0</td>\n",
       "      <td>35.0</td>\n",
       "      <td>53.1000</td>\n",
       "    </tr>\n",
       "    <tr>\n",
       "      <th>4</th>\n",
       "      <td>0.0</td>\n",
       "      <td>1.0</td>\n",
       "      <td>0.0</td>\n",
       "      <td>0.0</td>\n",
       "      <td>1.0</td>\n",
       "      <td>35.0</td>\n",
       "      <td>8.0500</td>\n",
       "    </tr>\n",
       "  </tbody>\n",
       "</table>\n",
       "</div>"
      ],
      "text/plain": [
       "   Sex_female  Sex_male  Embarked_C  Embarked_Q  Embarked_S   Age     Fare\n",
       "0         0.0       1.0         0.0         0.0         1.0  22.0   7.2500\n",
       "1         1.0       0.0         1.0         0.0         0.0  38.0  71.2833\n",
       "2         1.0       0.0         0.0         0.0         1.0  26.0   7.9250\n",
       "3         1.0       0.0         0.0         0.0         1.0  35.0  53.1000\n",
       "4         0.0       1.0         0.0         0.0         1.0  35.0   8.0500"
      ]
     },
     "execution_count": 26,
     "metadata": {},
     "output_type": "execute_result"
    }
   ],
   "source": [
    "\n",
    "# Для того, чтобы получить имена признаков, воспользуемся функцией\n",
    "#   OneHotEncoder.get_feature_names()\n",
    "# Чтобы ею воспользоваться, необходимо добраться до объекта через атрибуты\n",
    "#   - ColumnTransformer.named_transformers_ + ключ имени\n",
    "#   - Pipeline.named_steps + ключ шага\n",
    "ohe_column_names = preprocessor \\\n",
    "    .named_transformers_['cat'] \\\n",
    "    .named_steps['enc'] \\\n",
    "    .get_feature_names(categorical_features)\n",
    "\n",
    "recovered_feat_names = \\\n",
    "    list(ohe_column_names) + \\\n",
    "    list(numeric_features)\n",
    "\n",
    "df_enc = pd.DataFrame(X_data, columns=recovered_feat_names)\n",
    "\n",
    "df_enc.head()"
   ]
  },
  {
   "cell_type": "code",
   "execution_count": 27,
   "metadata": {},
   "outputs": [
    {
     "data": {
      "text/html": [
       "<div>\n",
       "<style scoped>\n",
       "    .dataframe tbody tr th:only-of-type {\n",
       "        vertical-align: middle;\n",
       "    }\n",
       "\n",
       "    .dataframe tbody tr th {\n",
       "        vertical-align: top;\n",
       "    }\n",
       "\n",
       "    .dataframe thead th {\n",
       "        text-align: right;\n",
       "    }\n",
       "</style>\n",
       "<table border=\"1\" class=\"dataframe\">\n",
       "  <thead>\n",
       "    <tr style=\"text-align: right;\">\n",
       "      <th></th>\n",
       "      <th>Sex</th>\n",
       "      <th>Embarked</th>\n",
       "      <th>Age</th>\n",
       "      <th>Fare</th>\n",
       "    </tr>\n",
       "  </thead>\n",
       "  <tbody>\n",
       "    <tr>\n",
       "      <th>0</th>\n",
       "      <td>male</td>\n",
       "      <td>S</td>\n",
       "      <td>22.0</td>\n",
       "      <td>7.2500</td>\n",
       "    </tr>\n",
       "    <tr>\n",
       "      <th>1</th>\n",
       "      <td>female</td>\n",
       "      <td>C</td>\n",
       "      <td>38.0</td>\n",
       "      <td>71.2833</td>\n",
       "    </tr>\n",
       "    <tr>\n",
       "      <th>2</th>\n",
       "      <td>female</td>\n",
       "      <td>S</td>\n",
       "      <td>26.0</td>\n",
       "      <td>7.9250</td>\n",
       "    </tr>\n",
       "    <tr>\n",
       "      <th>3</th>\n",
       "      <td>female</td>\n",
       "      <td>S</td>\n",
       "      <td>35.0</td>\n",
       "      <td>53.1000</td>\n",
       "    </tr>\n",
       "    <tr>\n",
       "      <th>4</th>\n",
       "      <td>male</td>\n",
       "      <td>S</td>\n",
       "      <td>35.0</td>\n",
       "      <td>8.0500</td>\n",
       "    </tr>\n",
       "  </tbody>\n",
       "</table>\n",
       "</div>"
      ],
      "text/plain": [
       "      Sex Embarked   Age     Fare\n",
       "0    male        S  22.0   7.2500\n",
       "1  female        C  38.0  71.2833\n",
       "2  female        S  26.0   7.9250\n",
       "3  female        S  35.0  53.1000\n",
       "4    male        S  35.0   8.0500"
      ]
     },
     "execution_count": 27,
     "metadata": {},
     "output_type": "execute_result"
    }
   ],
   "source": [
    "# Для сравнения выведем исходные данные\n",
    "df[categorical_features + numeric_features].head()"
   ]
  },
  {
   "cell_type": "markdown",
   "metadata": {},
   "source": [
    "## Разработка модели случайного леса"
   ]
  },
  {
   "cell_type": "code",
   "execution_count": 28,
   "metadata": {},
   "outputs": [
    {
     "data": {
      "text/plain": [
       "[Text(418.5, 453.0, 'X[0] <= 0.5\\ngini = 0.5\\nsamples = 4\\nvalue = [2, 2]\\nclass = 0'),\n",
       " Text(209.25, 271.8, 'X[1] <= 0.5\\ngini = 0.5\\nsamples = 2\\nvalue = [1, 1]\\nclass = 0'),\n",
       " Text(104.625, 90.59999999999997, 'gini = 0.0\\nsamples = 1\\nvalue = [1, 0]\\nclass = 0'),\n",
       " Text(313.875, 90.59999999999997, 'gini = 0.0\\nsamples = 1\\nvalue = [0, 1]\\nclass = 1'),\n",
       " Text(627.75, 271.8, 'X[1] <= 0.5\\ngini = 0.5\\nsamples = 2\\nvalue = [1, 1]\\nclass = 0'),\n",
       " Text(523.125, 90.59999999999997, 'gini = 0.0\\nsamples = 1\\nvalue = [0, 1]\\nclass = 1'),\n",
       " Text(732.375, 90.59999999999997, 'gini = 0.0\\nsamples = 1\\nvalue = [1, 0]\\nclass = 0')]"
      ]
     },
     "execution_count": 28,
     "metadata": {},
     "output_type": "execute_result"
    },
    {
     "data": {
      "image/png": "[encoded data removed]",
      "text/plain": [
       "<Figure size 360x360 with 1 Axes>"
      ]
     },
     "metadata": {
      "needs_background": "light"
     },
     "output_type": "display_data"
    },
    {
     "data": {
      "image/png": "[encoded data removed]",
      "text/plain": [
       "<Figure size 1080x720 with 1 Axes>"
      ]
     },
     "metadata": {
      "needs_background": "light"
     },
     "output_type": "display_data"
    }
   ],
   "source": [
    "import numpy as np\n",
    "\n",
    "# Пример решающего дерева на основе задачи XOR\n",
    "X = np.array([\n",
    "     [1, 1],\n",
    "     [1, 0],\n",
    "     [0, 1],\n",
    "     [0, 0]\n",
    "])\n",
    "\n",
    "y = np.array([\n",
    "     0,\n",
    "     1,\n",
    "     1,\n",
    "     0\n",
    "])\n",
    "\n",
    "plt.figure(figsize=[5,5])\n",
    "plt.scatter(X[y==1, 0], X[y==1, 1], marker='o')\n",
    "plt.scatter(X[y==0, 0], X[y==0, 1], marker='x')\n",
    "plt.xlabel('X[0]')\n",
    "plt.ylabel('X[1]')\n",
    "plt.xlim([-0.5, 1.5])\n",
    "plt.grid()\n",
    "\n",
    "from sklearn.tree import DecisionTreeClassifier, plot_tree\n",
    "\n",
    "tree = DecisionTreeClassifier(random_state=42)\n",
    "tree.fit(X, y)\n",
    "\n",
    "plt.figure()\n",
    "plot_tree(tree, filled=True, rounded=True, impurity=True, class_names=['0', '1'])"
   ]
  },
  {
   "cell_type": "markdown",
   "metadata": {},
   "source": [
    "при построении каждого малого дерева используется подвыборка, куда могут попадать с повторениями случайные записи из данных со случайными признаками. Таким образом, каждая модель будет видеть лишь часть данных, при этом отдельно каждая слабая модель будет работать плохо, но в совокупности все модели будут давать более точную среднюю оценку в соответсвии с принятием решения по большинству голосов."
   ]
  },
  {
   "cell_type": "code",
   "execution_count": 29,
   "metadata": {},
   "outputs": [
    {
     "name": "stdout",
     "output_type": "stream",
     "text": [
      "(712, 7) (712,)\n",
      "(179, 7) (179,)\n"
     ]
    }
   ],
   "source": [
    "from sklearn.model_selection import train_test_split\n",
    "\n",
    "TRAIN_RATIO = 0.8\n",
    "\n",
    "y_data = df['Survived']\n",
    "\n",
    "X_train, X_test, y_train, y_test = train_test_split(\n",
    "    X_data, y_data, \n",
    "    train_size=TRAIN_RATIO, \n",
    "    random_state=RANDOM_STATE,\n",
    "    stratify=y_data\n",
    ")\n",
    "\n",
    "print(X_train.shape, y_train.shape)\n",
    "print(X_test.shape, y_test.shape)"
   ]
  },
  {
   "cell_type": "code",
   "execution_count": 30,
   "metadata": {},
   "outputs": [
    {
     "data": {
      "text/plain": [
       "RandomForestClassifier()"
      ]
     },
     "execution_count": 30,
     "metadata": {},
     "output_type": "execute_result"
    }
   ],
   "source": [
    "from sklearn.ensemble import RandomForestClassifier\n",
    "\n",
    "rf_clf = RandomForestClassifier()\n",
    "rf_clf.fit(X_train, y_train)"
   ]
  },
  {
   "cell_type": "markdown",
   "metadata": {},
   "source": [
    "## Важность признаков"
   ]
  },
  {
   "cell_type": "code",
   "execution_count": 31,
   "metadata": {},
   "outputs": [
    {
     "name": "stdout",
     "output_type": "stream",
     "text": [
      "Feature: Sex_female | 0.15224129686733381\n",
      "Feature: Sex_male | 0.14384419737286344\n",
      "Feature: Embarked_C | 0.011105298934466924\n",
      "Feature: Embarked_Q | 0.004819245681205841\n",
      "Feature: Embarked_S | 0.013524060985120172\n",
      "Feature: Age | 0.2941428805908806\n",
      "Feature: Fare | 0.3803230195681293\n"
     ]
    },
    {
     "data": {
      "image/png": "[encoded data removed]",
      "text/plain": [
       "<Figure size 1080x720 with 1 Axes>"
      ]
     },
     "metadata": {
      "needs_background": "light"
     },
     "output_type": "display_data"
    }
   ],
   "source": [
    "\n",
    "def show_importance(model, feature_names, X):\n",
    "    importances = model.feature_importances_\n",
    "    for feat_imp, feat_name in zip(importances, feature_names):\n",
    "        print(f'Feature: {feat_name} | {feat_imp}')\n",
    "\n",
    "    indices = np.argsort(importances)[::-1]\n",
    "    sorted_feat_names = [feature_names[ind] for ind in indices]\n",
    "\n",
    "    plt.figure()\n",
    "    plt.title(\"Feature importances\")\n",
    "    plt.bar(range(X.shape[1]), importances[indices], color=\"b\", align=\"center\")\n",
    "    plt.xticks(range(X.shape[1]), sorted_feat_names, rotation=70)\n",
    "    plt.xlim([-1, X.shape[1]])\n",
    "    plt.show()\n",
    "\n",
    "show_importance(rf_clf, recovered_feat_names, X_train)"
   ]
  },
  {
   "cell_type": "markdown",
   "metadata": {},
   "source": [
    "## Расширенный анализ данных"
   ]
  },
  {
   "cell_type": "markdown",
   "metadata": {},
   "source": [
    "Один из самых простых способов проверить пользу признака - анализ нескольких признаков в совокупности, чтобы понять, какие взаимосвязи имеются и дает ли признак информацию. Начнем с того, что постараемся определить, кто чаще выживает - мужчины или женщины:"
   ]
  },
  {
   "cell_type": "code",
   "execution_count": 32,
   "metadata": {},
   "outputs": [
    {
     "data": {
      "text/plain": [
       "<seaborn.axisgrid.FacetGrid at 0x256d579c4f0>"
      ]
     },
     "execution_count": 32,
     "metadata": {},
     "output_type": "execute_result"
    },
    {
     "data": {
      "image/png": "[encoded data removed]",
      "text/plain": [
       "<Figure size 432.825x360 with 1 Axes>"
      ]
     },
     "metadata": {
      "needs_background": "light"
     },
     "output_type": "display_data"
    }
   ],
   "source": [
    "sns.catplot(x=\"Sex\", hue=\"Survived\", kind=\"count\", data=df)"
   ]
  },
  {
   "cell_type": "markdown",
   "metadata": {},
   "source": [
    "Еще одним интересный признак Pclass, класс обслуживания, можно проверить, влияет ли он на выживаемост"
   ]
  },
  {
   "cell_type": "code",
   "execution_count": 33,
   "metadata": {},
   "outputs": [
    {
     "data": {
      "text/plain": [
       "<AxesSubplot:xlabel='Pclass', ylabel='Survived'>"
      ]
     },
     "execution_count": 33,
     "metadata": {},
     "output_type": "execute_result"
    },
    {
     "data": {
      "image/png": "[encoded data removed]",
      "text/plain": [
       "<Figure size 1080x720 with 1 Axes>"
      ]
     },
     "metadata": {
      "needs_background": "light"
     },
     "output_type": "display_data"
    }
   ],
   "source": [
    "sns.barplot(x='Pclass', y='Survived', data=df)"
   ]
  },
  {
   "cell_type": "markdown",
   "metadata": {},
   "source": [
    "Также можно влияние признака проверить отображением через sns.FacetGrid, чтобы проверить все значения, связанные с несколькими признаками:"
   ]
  },
  {
   "cell_type": "code",
   "execution_count": 34,
   "metadata": {},
   "outputs": [
    {
     "data": {
      "text/plain": [
       "<seaborn.axisgrid.FacetGrid at 0x256d58da250>"
      ]
     },
     "execution_count": 34,
     "metadata": {},
     "output_type": "execute_result"
    },
    {
     "data": {
      "image/png": "[encoded data removed]",
      "text/plain": [
       "<Figure size 617.3x972 with 3 Axes>"
      ]
     },
     "metadata": {
      "needs_background": "light"
     },
     "output_type": "display_data"
    }
   ],
   "source": [
    "FacetGrid = sns.FacetGrid(df, row='Embarked', height=4.5, aspect=1.6)\n",
    "FacetGrid.map(sns.pointplot, 'Pclass', 'Survived', 'Sex', palette=None,  order=None, hue_order=None)\n",
    "FacetGrid.add_legend()"
   ]
  },
  {
   "cell_type": "markdown",
   "metadata": {},
   "source": [
    "## Создание новых признаков"
   ]
  },
  {
   "cell_type": "markdown",
   "metadata": {},
   "source": [
    "Помимо исключения признаков одним из широкоприменяемых подходов является создание новых признаков. Для примера, наличие двух признаков SibSp и Parch сообщает информацию о количестве родственников на борту. Таким образом, можно сформировать дополнительный признак FamilySize."
   ]
  },
  {
   "cell_type": "code",
   "execution_count": 35,
   "metadata": {},
   "outputs": [],
   "source": [
    "# +1 - we are in family too\n",
    "df['FamilySize'] = df['Parch'] + df['SibSp'] + 1"
   ]
  },
  {
   "cell_type": "code",
   "execution_count": 36,
   "metadata": {},
   "outputs": [
    {
     "data": {
      "image/png": "[encoded data removed]",
      "text/plain": [
       "<Figure size 1080x720 with 1 Axes>"
      ]
     },
     "metadata": {
      "needs_background": "light"
     },
     "output_type": "display_data"
    }
   ],
   "source": [
    "axes = sns.pointplot(x='FamilySize', y='Survived', data=df)"
   ]
  },
  {
   "cell_type": "markdown",
   "metadata": {},
   "source": [
    "## Группировка данных (binning)"
   ]
  },
  {
   "cell_type": "code",
   "execution_count": 37,
   "metadata": {},
   "outputs": [
    {
     "name": "stderr",
     "output_type": "stream",
     "text": [
      "C:\\Users\\ksyus\\anaconda3\\lib\\site-packages\\seaborn\\distributions.py:2551: FutureWarning: `distplot` is a deprecated function and will be removed in a future version. Please adapt your code to use either `displot` (a figure-level function with similar flexibility) or `histplot` (an axes-level function for histograms).\n",
      "  warnings.warn(msg, FutureWarning)\n"
     ]
    },
    {
     "data": {
      "text/plain": [
       "<AxesSubplot:xlabel='Fare', ylabel='Density'>"
      ]
     },
     "execution_count": 37,
     "metadata": {},
     "output_type": "execute_result"
    },
    {
     "data": {
      "image/png": "[encoded data removed]",
      "text/plain": [
       "<Figure size 1080x720 with 1 Axes>"
      ]
     },
     "metadata": {
      "needs_background": "light"
     },
     "output_type": "display_data"
    }
   ],
   "source": [
    "sns.distplot(df['Fare'], bins=50)"
   ]
  },
  {
   "cell_type": "markdown",
   "metadata": {},
   "source": [
    "Раcпределение немного сдвинуто влево, также слева имеется небольшая мода. Для группировки воспользуется классом KBinsDiscretizer, который разделяет весь диапазон на заданное количество групп (бинов)."
   ]
  },
  {
   "cell_type": "code",
   "execution_count": 38,
   "metadata": {},
   "outputs": [
    {
     "name": "stdout",
     "output_type": "stream",
     "text": [
      "[array([  0.    ,   7.55  ,   7.8542,   8.05  ,  10.5   ,  14.4542,\n",
      "        21.6792,  27.    ,  39.6875,  77.9583, 512.3292])]\n"
     ]
    },
    {
     "data": {
      "text/plain": [
       "<seaborn.axisgrid.FacetGrid at 0x256d59dc3a0>"
      ]
     },
     "execution_count": 38,
     "metadata": {},
     "output_type": "execute_result"
    },
    {
     "data": {
      "image/png": "[encoded data removed]",
      "text/plain": [
       "<Figure size 360x360 with 1 Axes>"
      ]
     },
     "metadata": {
      "needs_background": "light"
     },
     "output_type": "display_data"
    }
   ],
   "source": [
    "from sklearn.preprocessing import KBinsDiscretizer\n",
    "\n",
    "discr = KBinsDiscretizer(\n",
    "    # Количество бинов    \n",
    "    n_bins=10,\n",
    "    # Способ кодирования - порядковый\n",
    "    encode='ordinal',\n",
    ")\n",
    "\n",
    "# Двойные скобки для передачи DataFrame (2D данные)\n",
    "df['Fare_groups'] = discr.fit_transform(df[['Fare']])\n",
    "# Отобразим границы бинов\n",
    "print(discr.bin_edges_)\n",
    "\n",
    "sns.catplot(x='Fare_groups', kind=\"count\", data=df)"
   ]
  },
  {
   "cell_type": "code",
   "execution_count": 39,
   "metadata": {},
   "outputs": [
    {
     "data": {
      "text/plain": [
       "<seaborn.axisgrid.FacetGrid at 0x256d652bdc0>"
      ]
     },
     "execution_count": 39,
     "metadata": {},
     "output_type": "execute_result"
    },
    {
     "data": {
      "image/png": "[encoded data removed]",
      "text/plain": [
       "<Figure size 360x360 with 1 Axes>"
      ]
     },
     "metadata": {
      "needs_background": "light"
     },
     "output_type": "display_data"
    }
   ],
   "source": [
    "sns.catplot(x='Fare_groups', y='Survived', data=df, kind='point')"
   ]
  },
  {
   "cell_type": "markdown",
   "metadata": {},
   "source": [
    "## Поиск гиперпараметров"
   ]
  },
  {
   "cell_type": "code",
   "execution_count": 40,
   "metadata": {},
   "outputs": [
    {
     "data": {
      "text/plain": [
       "GridSearchCV(cv=5, estimator=RandomForestClassifier(),\n",
       "             param_grid={'max_depth': [1, 2, 4, 5, 7],\n",
       "                         'n_estimators': [1, 5, 10, 20, 40]},\n",
       "             scoring='f1_macro')"
      ]
     },
     "execution_count": 40,
     "metadata": {},
     "output_type": "execute_result"
    }
   ],
   "source": [
    "from sklearn.model_selection import GridSearchCV\n",
    "\n",
    "parameters = {\n",
    "    'max_depth': [1, 2, 4, 5, 7],\n",
    "    'n_estimators': [1, 5, 10, 20, 40],\n",
    "}\n",
    "\n",
    "grid_search = GridSearchCV(\n",
    "    # модель\n",
    "    estimator=rf_clf,                   \n",
    "    # сетка параметров\n",
    "    #   может быть объектом dict \n",
    "    #   или list с несколькими dict внутри (несколько сеток)\n",
    "    param_grid=parameters,              \n",
    "    # кол-во фолдов для CV\n",
    "    cv=5,                               \n",
    "    # метрика для оценки - используем F1 \n",
    "    scoring='f1_macro',   \n",
    ")\n",
    "\n",
    "grid_search.fit(X_train, y_train)"
   ]
  },
  {
   "cell_type": "code",
   "execution_count": 41,
   "metadata": {},
   "outputs": [
    {
     "data": {
      "text/plain": [
       "GridSearchCV(cv=5,\n",
       "             estimator=Pipeline(steps=[('clf', RandomForestClassifier())]),\n",
       "             param_grid={'clf__max_depth': [1, 2, 4, 5, 7],\n",
       "                         'clf__n_estimators': [1, 5, 10, 20, 40]},\n",
       "             scoring='f1_macro')"
      ]
     },
     "execution_count": 41,
     "metadata": {},
     "output_type": "execute_result"
    }
   ],
   "source": [
    "# Для поиска параметров модели внутри пайплайна используется специальное именование:\n",
    "#   <название шага>__<название параметра>\n",
    "pipe = Pipeline(steps=[\n",
    "    ('clf', RandomForestClassifier()),\n",
    "])\n",
    "\n",
    "# В названии два подчеркивания!\n",
    "parameters = {\n",
    "    'clf__max_depth': [1, 2, 4, 5, 7],\n",
    "    'clf__n_estimators': [1, 5, 10, 20, 40],\n",
    "}\n",
    "\n",
    "grid_search = GridSearchCV(\n",
    "    # пайплайн\n",
    "    estimator=pipe,                   \n",
    "    param_grid=parameters,              \n",
    "    cv=5,                               \n",
    "    scoring='f1_macro',   \n",
    ")\n",
    "\n",
    "grid_search.fit(X_train, y_train)"
   ]
  },
  {
   "cell_type": "code",
   "execution_count": 42,
   "metadata": {},
   "outputs": [
    {
     "data": {
      "text/plain": [
       "[{'clf__max_depth': 1, 'clf__n_estimators': 1},\n",
       " {'clf__max_depth': 1, 'clf__n_estimators': 5},\n",
       " {'clf__max_depth': 1, 'clf__n_estimators': 10},\n",
       " {'clf__max_depth': 1, 'clf__n_estimators': 20},\n",
       " {'clf__max_depth': 1, 'clf__n_estimators': 40},\n",
       " {'clf__max_depth': 2, 'clf__n_estimators': 1},\n",
       " {'clf__max_depth': 2, 'clf__n_estimators': 5},\n",
       " {'clf__max_depth': 2, 'clf__n_estimators': 10},\n",
       " {'clf__max_depth': 2, 'clf__n_estimators': 20},\n",
       " {'clf__max_depth': 2, 'clf__n_estimators': 40},\n",
       " {'clf__max_depth': 4, 'clf__n_estimators': 1},\n",
       " {'clf__max_depth': 4, 'clf__n_estimators': 5},\n",
       " {'clf__max_depth': 4, 'clf__n_estimators': 10},\n",
       " {'clf__max_depth': 4, 'clf__n_estimators': 20},\n",
       " {'clf__max_depth': 4, 'clf__n_estimators': 40},\n",
       " {'clf__max_depth': 5, 'clf__n_estimators': 1},\n",
       " {'clf__max_depth': 5, 'clf__n_estimators': 5},\n",
       " {'clf__max_depth': 5, 'clf__n_estimators': 10},\n",
       " {'clf__max_depth': 5, 'clf__n_estimators': 20},\n",
       " {'clf__max_depth': 5, 'clf__n_estimators': 40},\n",
       " {'clf__max_depth': 7, 'clf__n_estimators': 1},\n",
       " {'clf__max_depth': 7, 'clf__n_estimators': 5},\n",
       " {'clf__max_depth': 7, 'clf__n_estimators': 10},\n",
       " {'clf__max_depth': 7, 'clf__n_estimators': 20},\n",
       " {'clf__max_depth': 7, 'clf__n_estimators': 40}]"
      ]
     },
     "execution_count": 42,
     "metadata": {},
     "output_type": "execute_result"
    }
   ],
   "source": [
    "grid_search.cv_results_['params']"
   ]
  },
  {
   "cell_type": "code",
   "execution_count": 43,
   "metadata": {},
   "outputs": [
    {
     "name": "stdout",
     "output_type": "stream",
     "text": [
      "{'clf__max_depth': 4, 'clf__n_estimators': 40}\n",
      "0.7924833908496982\n"
     ]
    }
   ],
   "source": [
    "print(grid_search.best_params_)\n",
    "print(grid_search.best_score_)"
   ]
  },
  {
   "cell_type": "markdown",
   "metadata": {},
   "source": [
    "# ЗАДАЧИ"
   ]
  },
  {
   "cell_type": "markdown",
   "metadata": {},
   "source": [
    "## Проведите базовый анализ данных, разделите данные на обучение/тест, разработайте baseline модель решающего дерева DecisionTreeClassifier, оцените работу модели, отобразите важности признаков;"
   ]
  },
  {
   "cell_type": "markdown",
   "metadata": {},
   "source": [
    "Выполним еще раз загрузку данных"
   ]
  },
  {
   "cell_type": "code",
   "execution_count": 44,
   "metadata": {},
   "outputs": [
    {
     "data": {
      "text/html": [
       "<div>\n",
       "<style scoped>\n",
       "    .dataframe tbody tr th:only-of-type {\n",
       "        vertical-align: middle;\n",
       "    }\n",
       "\n",
       "    .dataframe tbody tr th {\n",
       "        vertical-align: top;\n",
       "    }\n",
       "\n",
       "    .dataframe thead th {\n",
       "        text-align: right;\n",
       "    }\n",
       "</style>\n",
       "<table border=\"1\" class=\"dataframe\">\n",
       "  <thead>\n",
       "    <tr style=\"text-align: right;\">\n",
       "      <th></th>\n",
       "      <th>PassengerId</th>\n",
       "      <th>Survived</th>\n",
       "      <th>Pclass</th>\n",
       "      <th>Name</th>\n",
       "      <th>Sex</th>\n",
       "      <th>Age</th>\n",
       "      <th>SibSp</th>\n",
       "      <th>Parch</th>\n",
       "      <th>Ticket</th>\n",
       "      <th>Fare</th>\n",
       "      <th>Cabin</th>\n",
       "      <th>Embarked</th>\n",
       "    </tr>\n",
       "  </thead>\n",
       "  <tbody>\n",
       "    <tr>\n",
       "      <th>0</th>\n",
       "      <td>1</td>\n",
       "      <td>0</td>\n",
       "      <td>3</td>\n",
       "      <td>Braund, Mr. Owen Harris</td>\n",
       "      <td>male</td>\n",
       "      <td>22.0</td>\n",
       "      <td>1</td>\n",
       "      <td>0</td>\n",
       "      <td>A/5 21171</td>\n",
       "      <td>7.2500</td>\n",
       "      <td>NaN</td>\n",
       "      <td>S</td>\n",
       "    </tr>\n",
       "    <tr>\n",
       "      <th>1</th>\n",
       "      <td>2</td>\n",
       "      <td>1</td>\n",
       "      <td>1</td>\n",
       "      <td>Cumings, Mrs. John Bradley (Florence Briggs Th...</td>\n",
       "      <td>female</td>\n",
       "      <td>38.0</td>\n",
       "      <td>1</td>\n",
       "      <td>0</td>\n",
       "      <td>PC 17599</td>\n",
       "      <td>71.2833</td>\n",
       "      <td>C85</td>\n",
       "      <td>C</td>\n",
       "    </tr>\n",
       "    <tr>\n",
       "      <th>2</th>\n",
       "      <td>3</td>\n",
       "      <td>1</td>\n",
       "      <td>3</td>\n",
       "      <td>Heikkinen, Miss. Laina</td>\n",
       "      <td>female</td>\n",
       "      <td>26.0</td>\n",
       "      <td>0</td>\n",
       "      <td>0</td>\n",
       "      <td>STON/O2. 3101282</td>\n",
       "      <td>7.9250</td>\n",
       "      <td>NaN</td>\n",
       "      <td>S</td>\n",
       "    </tr>\n",
       "    <tr>\n",
       "      <th>3</th>\n",
       "      <td>4</td>\n",
       "      <td>1</td>\n",
       "      <td>1</td>\n",
       "      <td>Futrelle, Mrs. Jacques Heath (Lily May Peel)</td>\n",
       "      <td>female</td>\n",
       "      <td>35.0</td>\n",
       "      <td>1</td>\n",
       "      <td>0</td>\n",
       "      <td>113803</td>\n",
       "      <td>53.1000</td>\n",
       "      <td>C123</td>\n",
       "      <td>S</td>\n",
       "    </tr>\n",
       "    <tr>\n",
       "      <th>4</th>\n",
       "      <td>5</td>\n",
       "      <td>0</td>\n",
       "      <td>3</td>\n",
       "      <td>Allen, Mr. William Henry</td>\n",
       "      <td>male</td>\n",
       "      <td>35.0</td>\n",
       "      <td>0</td>\n",
       "      <td>0</td>\n",
       "      <td>373450</td>\n",
       "      <td>8.0500</td>\n",
       "      <td>NaN</td>\n",
       "      <td>S</td>\n",
       "    </tr>\n",
       "  </tbody>\n",
       "</table>\n",
       "</div>"
      ],
      "text/plain": [
       "   PassengerId  Survived  Pclass  \\\n",
       "0            1         0       3   \n",
       "1            2         1       1   \n",
       "2            3         1       3   \n",
       "3            4         1       1   \n",
       "4            5         0       3   \n",
       "\n",
       "                                                Name     Sex   Age  SibSp  \\\n",
       "0                            Braund, Mr. Owen Harris    male  22.0      1   \n",
       "1  Cumings, Mrs. John Bradley (Florence Briggs Th...  female  38.0      1   \n",
       "2                             Heikkinen, Miss. Laina  female  26.0      0   \n",
       "3       Futrelle, Mrs. Jacques Heath (Lily May Peel)  female  35.0      1   \n",
       "4                           Allen, Mr. William Henry    male  35.0      0   \n",
       "\n",
       "   Parch            Ticket     Fare Cabin Embarked  \n",
       "0      0         A/5 21171   7.2500   NaN        S  \n",
       "1      0          PC 17599  71.2833   C85        C  \n",
       "2      0  STON/O2. 3101282   7.9250   NaN        S  \n",
       "3      0            113803  53.1000  C123        S  \n",
       "4      0            373450   8.0500   NaN        S  "
      ]
     },
     "execution_count": 44,
     "metadata": {},
     "output_type": "execute_result"
    }
   ],
   "source": [
    "URL = 'https://raw.githubusercontent.com/KaiL4eK/ml_edu/master/datasets/Titanic_train.csv'\n",
    "new_df = pd.read_csv(URL)\n",
    "new_df.head()"
   ]
  },
  {
   "cell_type": "markdown",
   "metadata": {},
   "source": [
    "Базовая обработка данных"
   ]
  },
  {
   "cell_type": "code",
   "execution_count": 45,
   "metadata": {},
   "outputs": [
    {
     "name": "stdout",
     "output_type": "stream",
     "text": [
      "<class 'numpy.ndarray'>\n",
      "(891, 10)\n"
     ]
    }
   ],
   "source": [
    "from sklearn.impute import SimpleImputer\n",
    "from sklearn.preprocessing import OneHotEncoder\n",
    "from sklearn.compose import ColumnTransformer\n",
    "from sklearn.pipeline import Pipeline\n",
    "\n",
    "# Составляет список признаков для обработки\n",
    "categorical_features = ['Sex', 'Embarked']\n",
    "numeric_features = ['Pclass','Age', 'Fare','SibSp',\t'Parch']\n",
    "\n",
    "# Создаем обработчик категориальных признаков\n",
    "categorical_transformer = Pipeline(\n",
    "    steps=[\n",
    "        ('imp', SimpleImputer(strategy='most_frequent')),\n",
    "        ('enc', OneHotEncoder(handle_unknown='error')),                   \n",
    "])\n",
    "\n",
    "# Численные значения имеют пропуски, заполним стратегией медианы\n",
    "numeric_transformer = SimpleImputer(strategy='median')\n",
    "\n",
    "# Создаем конечный конвертер, который будет использован для \n",
    "#   предобработки\n",
    "preprocessor = ColumnTransformer(\n",
    "    # Список конвертеров, каждый кортеж содержит\n",
    "    #   имя, конвертер и признаки, на которые он будет применен\n",
    "    transformers=[\n",
    "        ('cat', categorical_transformer, categorical_features),\n",
    "        ('num', numeric_transformer, numeric_features)\n",
    "    ],\n",
    "    # Признаки, не указанные ни в одном из конвертеров будут удалены\n",
    "    remainder='drop'\n",
    ")\n",
    "\n",
    "preprocessor.fit(new_df)\n",
    "\n",
    "X_data = preprocessor.transform(new_df)\n",
    "\n",
    "print(type(X_data))\n",
    "print(X_data.shape)"
   ]
  },
  {
   "cell_type": "markdown",
   "metadata": {},
   "source": [
    "разделение данных на обучение и тест"
   ]
  },
  {
   "cell_type": "code",
   "execution_count": 46,
   "metadata": {},
   "outputs": [
    {
     "name": "stdout",
     "output_type": "stream",
     "text": [
      "(712, 10) (712,)\n",
      "(179, 10) (179,)\n"
     ]
    }
   ],
   "source": [
    "from sklearn.model_selection import train_test_split\n",
    "\n",
    "TRAIN_RATIO = 0.8\n",
    "\n",
    "y_data = new_df['Survived']\n",
    "\n",
    "X_train, X_test, y_train, y_test = train_test_split(\n",
    "    X_data, y_data, \n",
    "    train_size=TRAIN_RATIO, \n",
    "    random_state=RANDOM_STATE,\n",
    "    stratify=y_data\n",
    ")\n",
    "\n",
    "print(X_train.shape, y_train.shape)\n",
    "print(X_test.shape, y_test.shape)"
   ]
  },
  {
   "cell_type": "markdown",
   "metadata": {},
   "source": [
    "Модель дерева (пока без нормализации)"
   ]
  },
  {
   "cell_type": "code",
   "execution_count": 47,
   "metadata": {},
   "outputs": [],
   "source": [
    "def show_importance(model, feature_names, X):\n",
    "    importances = model.feature_importances_\n",
    "    for feat_imp, feat_name in zip(importances, feature_names):\n",
    "        print(f'Feature: {feat_name} | {feat_imp}')\n",
    "\n",
    "    indices = np.argsort(importances)[::-1]\n",
    "    sorted_feat_names = [feature_names[ind] for ind in indices]\n",
    "\n",
    "    plt.figure()\n",
    "    plt.title(\"Feature importances\")\n",
    "    plt.bar(range(X.shape[1]), importances[indices], color=\"b\", align=\"center\")\n",
    "    plt.xticks(range(X.shape[1]), sorted_feat_names, rotation=70)\n",
    "    plt.xlim([-1, X.shape[1]])\n",
    "    plt.show()"
   ]
  },
  {
   "cell_type": "code",
   "execution_count": 48,
   "metadata": {},
   "outputs": [
    {
     "name": "stdout",
     "output_type": "stream",
     "text": [
      "f1_score=0.7200000000000001\n"
     ]
    }
   ],
   "source": [
    "from sklearn.tree import DecisionTreeClassifier, plot_tree\n",
    "from sklearn.metrics import f1_score\n",
    "tree = DecisionTreeClassifier(random_state=RANDOM_STATE, max_depth=3,criterion='entropy')\n",
    "\n",
    "tree.fit(X_train, y_train)\n",
    "y_pred=tree.predict(X_test)\n",
    "f1 = f1_score(y_test,y_pred)\n",
    "print(f'f1_score={f1}')\n",
    "ohe_column_names = preprocessor \\\n",
    "    .named_transformers_['cat'] \\\n",
    "    .named_steps['enc'] \\\n",
    "    .get_feature_names(categorical_features)\n",
    "\n",
    "recovered_feat_names = \\\n",
    "    list(ohe_column_names) + \\\n",
    "    list(numeric_features)"
   ]
  },
  {
   "cell_type": "code",
   "execution_count": 49,
   "metadata": {},
   "outputs": [
    {
     "name": "stdout",
     "output_type": "stream",
     "text": [
      "Feature: Sex_female | 0.5713000294628707\n",
      "Feature: Sex_male | 0.0\n",
      "Feature: Embarked_C | 0.0\n",
      "Feature: Embarked_Q | 0.0\n",
      "Feature: Embarked_S | 0.0\n",
      "Feature: Pclass | 0.2632878756943254\n",
      "Feature: Age | 0.08967439414171541\n",
      "Feature: Fare | 0.05504374990907275\n",
      "Feature: SibSp | 0.02069395079201579\n",
      "Feature: Parch | 0.0\n"
     ]
    },
    {
     "data": {
      "image/png": "[encoded data removed]",
      "text/plain": [
       "<Figure size 1080x720 with 1 Axes>"
      ]
     },
     "metadata": {
      "needs_background": "light"
     },
     "output_type": "display_data"
    }
   ],
   "source": [
    "show_importance(tree, recovered_feat_names, X_train)"
   ]
  },
  {
   "cell_type": "markdown",
   "metadata": {},
   "source": [
    "Линейная регрессия"
   ]
  },
  {
   "cell_type": "code",
   "execution_count": 50,
   "metadata": {},
   "outputs": [
    {
     "name": "stdout",
     "output_type": "stream",
     "text": [
      "f1_score=0.7384615384615385\n"
     ]
    }
   ],
   "source": [
    "from sklearn.linear_model import LinearRegression\n",
    "\n",
    "# Создаем объект\n",
    "reg = LinearRegression()\n",
    "# Обучаем на выборке для обучения\n",
    "reg.fit(X_train, y_train)\n",
    "y_pred=np.round(reg.predict(X_test))\n",
    "f1 = f1_score(y_test,y_pred)\n",
    "print(f'f1_score={f1}')"
   ]
  },
  {
   "cell_type": "markdown",
   "metadata": {},
   "source": [
    "## Модель дерева со стандартизацией"
   ]
  },
  {
   "cell_type": "code",
   "execution_count": 51,
   "metadata": {},
   "outputs": [],
   "source": [
    "from sklearn.preprocessing import StandardScaler\n",
    "\n",
    "scaler = StandardScaler()\n",
    "reg = LinearRegression()\n",
    "# \"Обучение\" трансформера - определение параметров средних и отклонений\n",
    "scaler.fit(X_train)\n",
    "\n",
    "# Стандартизация данных\n",
    "X_train_scaled = scaler.transform(X_train)\n",
    "X_test_scaled = scaler.transform(X_test)"
   ]
  },
  {
   "cell_type": "code",
   "execution_count": 52,
   "metadata": {},
   "outputs": [
    {
     "name": "stdout",
     "output_type": "stream",
     "text": [
      "f1_score=0.7200000000000001\n",
      "Feature: Sex_female | 0.5713000294628707\n",
      "Feature: Sex_male | 0.0\n",
      "Feature: Embarked_C | 0.0\n",
      "Feature: Embarked_Q | 0.0\n",
      "Feature: Embarked_S | 0.0\n",
      "Feature: Pclass | 0.2632878756943254\n",
      "Feature: Age | 0.08967439414171541\n",
      "Feature: Fare | 0.05504374990907275\n",
      "Feature: SibSp | 0.02069395079201579\n",
      "Feature: Parch | 0.0\n"
     ]
    },
    {
     "data": {
      "image/png": "[encoded data removed]",
      "text/plain": [
       "<Figure size 1080x720 with 1 Axes>"
      ]
     },
     "metadata": {
      "needs_background": "light"
     },
     "output_type": "display_data"
    }
   ],
   "source": [
    "tree = DecisionTreeClassifier(random_state=RANDOM_STATE,max_depth=3,criterion='entropy')\n",
    "\n",
    "tree.fit(X_train_scaled, y_train)\n",
    "y_pred=tree.predict(X_test_scaled)\n",
    "f1 = f1_score(y_test,y_pred)\n",
    "print(f'f1_score={f1}')\n",
    "\n",
    "show_importance(tree, recovered_feat_names, X_train_scaled)"
   ]
  },
  {
   "cell_type": "markdown",
   "metadata": {},
   "source": [
    "модель линейной регрессии"
   ]
  },
  {
   "cell_type": "code",
   "execution_count": 53,
   "metadata": {},
   "outputs": [
    {
     "name": "stdout",
     "output_type": "stream",
     "text": [
      "f1_score=0.7244094488188977\n"
     ]
    }
   ],
   "source": [
    "# Создаем объект\n",
    "reg = LinearRegression()\n",
    "# Обучаем на выборке для обучения\n",
    "reg.fit(X_train_scaled, y_train)\n",
    "y_pred=np.round(reg.predict(X_test_scaled))\n",
    "f1 = f1_score(y_test,y_pred)\n",
    "print(f'f1_score={f1}')"
   ]
  },
  {
   "cell_type": "markdown",
   "metadata": {},
   "source": [
    "после стандартизации можно заметить, что f1 линейной регресси уменьшился, что говорит о том, что работа модели ухудшилась. Также если анализировать графики важности признаков, то можно отметить, что Parch - количество родственников на борту (матери, отцы, дочери, сыновья) не оказывает влияния."
   ]
  },
  {
   "cell_type": "markdown",
   "metadata": {},
   "source": [
    "## Изучите влияние max_depth и criterion на показатели дерева, попробуйте 5 разных значений для каждого критерия, оцените с помощью кросс-валидации на обучающей выборке, сделайте таблицу;"
   ]
  },
  {
   "cell_type": "code",
   "execution_count": 58,
   "metadata": {},
   "outputs": [
    {
     "data": {
      "text/html": [
       "<div>\n",
       "<style scoped>\n",
       "    .dataframe tbody tr th:only-of-type {\n",
       "        vertical-align: middle;\n",
       "    }\n",
       "\n",
       "    .dataframe tbody tr th {\n",
       "        vertical-align: top;\n",
       "    }\n",
       "\n",
       "    .dataframe thead th {\n",
       "        text-align: right;\n",
       "    }\n",
       "</style>\n",
       "<table border=\"1\" class=\"dataframe\">\n",
       "  <thead>\n",
       "    <tr style=\"text-align: right;\">\n",
       "      <th></th>\n",
       "      <th>gini</th>\n",
       "      <th>entropy</th>\n",
       "    </tr>\n",
       "  </thead>\n",
       "  <tbody>\n",
       "    <tr>\n",
       "      <th>1</th>\n",
       "      <td>0.770358</td>\n",
       "      <td>0.770358</td>\n",
       "    </tr>\n",
       "    <tr>\n",
       "      <th>3</th>\n",
       "      <td>0.789666</td>\n",
       "      <td>0.798474</td>\n",
       "    </tr>\n",
       "    <tr>\n",
       "      <th>5</th>\n",
       "      <td>0.793978</td>\n",
       "      <td>0.791622</td>\n",
       "    </tr>\n",
       "    <tr>\n",
       "      <th>7</th>\n",
       "      <td>0.791572</td>\n",
       "      <td>0.792793</td>\n",
       "    </tr>\n",
       "    <tr>\n",
       "      <th>9</th>\n",
       "      <td>0.793432</td>\n",
       "      <td>0.794862</td>\n",
       "    </tr>\n",
       "  </tbody>\n",
       "</table>\n",
       "</div>"
      ],
      "text/plain": [
       "       gini   entropy\n",
       "1  0.770358  0.770358\n",
       "3  0.789666  0.798474\n",
       "5  0.793978  0.791622\n",
       "7  0.791572  0.792793\n",
       "9  0.793432  0.794862"
      ]
     },
     "execution_count": 58,
     "metadata": {},
     "output_type": "execute_result"
    }
   ],
   "source": [
    "from sklearn.model_selection import cross_val_score\n",
    "\n",
    "f1_scores=np.ndarray([5,2])\n",
    "criteria_eval={\"gini\", \"entropy\"}\n",
    "max_depths=np.array(range(1,10,2))\n",
    "step1=-1\n",
    "for i in criteria_eval:\n",
    "    step2=0\n",
    "    step1=step1+1\n",
    "    for j in max_depths:\n",
    "        tree = DecisionTreeClassifier(random_state=RANDOM_STATE,max_depth=j,criterion=i)\n",
    "        scores = cross_val_score(\n",
    "            tree, # Модель для оценки\n",
    "            X_data, # Данные для обучения\n",
    "            y_data, # Разметка для обучения\n",
    "            cv=5, # Количество фолдов\n",
    "            scoring='f1_macro' # Желаемая метрика\n",
    "        )\n",
    "        f1_scores[step2,step1]=scores.mean();\n",
    "        step2=step2+1\n",
    "\n",
    "f1_data=pd.DataFrame(data=f1_scores,columns=criteria_eval,index=max_depths)\n",
    "f1_data"
   ]
  },
  {
   "cell_type": "markdown",
   "metadata": {},
   "source": [
    "Как видно из таблицы, максмиальная величина энтропии достигается при глубине дерева 3. Максимальная величина Джинни достигается при глубине 5. В целом, не имеет смысла брать большую глубину дерева. Достаточно будет и 3."
   ]
  },
  {
   "cell_type": "markdown",
   "metadata": {},
   "source": [
    "# Расширенный анализ данных"
   ]
  },
  {
   "cell_type": "markdown",
   "metadata": {},
   "source": [
    "## Проведите создание новых признаков, добавляя каждый новый признак проведите оценку модели"
   ]
  },
  {
   "cell_type": "code",
   "execution_count": 60,
   "metadata": {},
   "outputs": [
    {
     "name": "stdout",
     "output_type": "stream",
     "text": [
      "0       3.62500\n",
      "1      35.64165\n",
      "2       7.92500\n",
      "3      26.55000\n",
      "4       8.05000\n",
      "         ...   \n",
      "886    13.00000\n",
      "887    30.00000\n",
      "888     5.86250\n",
      "889    30.00000\n",
      "890     7.75000\n",
      "Name: FarePerPerson, Length: 891, dtype: float64\n"
     ]
    }
   ],
   "source": [
    "new_df['FamilySize']=new_df['Parch']+new_df['SibSp']+1\n",
    "isAlone=list();\n",
    "for pers in new_df['FamilySize']:\n",
    "    if pers==1: isAlone.append(1);\n",
    "    else: isAlone.append(0);\n",
    "new_df['isAlone']=isAlone\n",
    "new_df['FarePerPerson']=new_df['Fare']/new_df['FamilySize']\n",
    "print(new_df['FarePerPerson'])"
   ]
  },
  {
   "cell_type": "code",
   "execution_count": 61,
   "metadata": {},
   "outputs": [
    {
     "name": "stdout",
     "output_type": "stream",
     "text": [
      "<class 'numpy.ndarray'>\n"
     ]
    }
   ],
   "source": [
    "from sklearn.compose import ColumnTransformer\n",
    "# Составляет список признаков для обработки\n",
    "categorical_features = ['Sex', 'Embarked']\n",
    "numeric_features = ['Pclass','Age', 'Fare','FamilySize']\n",
    "\n",
    "# Создаем обработчик категориальных признаков\n",
    "categorical_transformer = Pipeline(\n",
    "    steps=[\n",
    "        ('imp', SimpleImputer(strategy='most_frequent')),\n",
    "        ('enc', OneHotEncoder(handle_unknown='error')),                   \n",
    "])\n",
    "\n",
    "# Численные значения имеют пропуски, заполним стратегией медианы\n",
    "numeric_transformer = SimpleImputer(strategy='median')\n",
    "\n",
    "# Создаем конечный конвертер, который будет использован для \n",
    "#   предобработки\n",
    "preprocessor = ColumnTransformer(\n",
    "    # Список конвертеров, каждый кортеж содержит\n",
    "    #   имя, конвертер и признаки, на которые он будет применен\n",
    "    transformers=[\n",
    "        ('cat', categorical_transformer, categorical_features),\n",
    "        ('num', numeric_transformer, numeric_features)\n",
    "    ],\n",
    "    # Признаки, не указанные ни в одном из конвертеров будут удалены\n",
    "    remainder='drop'\n",
    ")\n",
    "\n",
    "preprocessor.fit(new_df)\n",
    "\n",
    "X_data = preprocessor.transform(new_df)\n",
    "print(type(X_data))"
   ]
  },
  {
   "cell_type": "code",
   "execution_count": 62,
   "metadata": {},
   "outputs": [
    {
     "name": "stdout",
     "output_type": "stream",
     "text": [
      "(712, 9) (712,)\n",
      "(179, 9) (179,)\n"
     ]
    }
   ],
   "source": [
    "from sklearn.model_selection import train_test_split\n",
    "\n",
    "TRAIN_RATIO=0.8\n",
    "\n",
    "y_data=new_df['Survived']\n",
    "\n",
    "X_train, X_test, y_train, y_test = train_test_split(\n",
    "    X_data, y_data, \n",
    "    train_size=TRAIN_RATIO, \n",
    "    random_state=RANDOM_STATE,\n",
    "    stratify=y_data\n",
    ")\n",
    "\n",
    "print(X_train.shape, y_train.shape)\n",
    "print(X_test.shape, y_test.shape)"
   ]
  },
  {
   "cell_type": "code",
   "execution_count": 63,
   "metadata": {},
   "outputs": [
    {
     "name": "stdout",
     "output_type": "stream",
     "text": [
      "f1_score=0.7200000000000001\n",
      "Feature: Sex_female | 0.0\n",
      "Feature: Sex_male | 0.5693649875674883\n",
      "Feature: Embarked_C | 0.0\n",
      "Feature: Embarked_Q | 0.0\n",
      "Feature: Embarked_S | 0.0\n",
      "Feature: Pclass | 0.2623960972176224\n",
      "Feature: Age | 0.08937065932522958\n",
      "Feature: Fare | 0.017547499612378704\n",
      "Feature: FamilySize | 0.06132075627728098\n"
     ]
    },
    {
     "data": {
      "image/png": "[encoded data removed]",
      "text/plain": [
       "<Figure size 1080x720 with 1 Axes>"
      ]
     },
     "metadata": {
      "needs_background": "light"
     },
     "output_type": "display_data"
    }
   ],
   "source": [
    "from sklearn.tree import DecisionTreeClassifier, plot_tree\n",
    "from sklearn.metrics import f1_score\n",
    "\n",
    "tree = DecisionTreeClassifier(random_state=RANDOM_STATE,max_depth=3, criterion='entropy')\n",
    "tree.fit(X_train, y_train)\n",
    "y_pred=tree.predict(X_test)\n",
    "f1 = f1_score(y_test,y_pred)\n",
    "print(f'f1_score={f1}')\n",
    "ohe_column_names = preprocessor \\\n",
    "    .named_transformers_['cat'] \\\n",
    "    .named_steps['enc'] \\\n",
    "    .get_feature_names(categorical_features)\n",
    "\n",
    "recovered_feat_names = \\\n",
    "    list(ohe_column_names) + \\\n",
    "    list(numeric_features)\n",
    "show_importance(tree, recovered_feat_names, X_train)"
   ]
  },
  {
   "cell_type": "code",
   "execution_count": 64,
   "metadata": {},
   "outputs": [
    {
     "name": "stdout",
     "output_type": "stream",
     "text": [
      "<class 'numpy.ndarray'>\n"
     ]
    }
   ],
   "source": [
    "from sklearn.compose import ColumnTransformer\n",
    "# Составляет список признаков для обработки\n",
    "categorical_features = ['Sex', 'Embarked']\n",
    "numeric_features = ['Pclass','Age', 'Fare','isAlone']\n",
    "\n",
    "# Создаем обработчик категориальных признаков\n",
    "categorical_transformer = Pipeline(\n",
    "    steps=[\n",
    "        ('imp', SimpleImputer(strategy='most_frequent')),\n",
    "        ('enc', OneHotEncoder(handle_unknown='error')),                   \n",
    "])\n",
    "\n",
    "# Численные значения имеют пропуски, заполним стратегией медианы\n",
    "numeric_transformer = SimpleImputer(strategy='median')\n",
    "\n",
    "# Создаем конечный конвертер, который будет использован для \n",
    "#   предобработки\n",
    "preprocessor = ColumnTransformer(\n",
    "    # Список конвертеров, каждый кортеж содержит\n",
    "    #   имя, конвертер и признаки, на которые он будет применен\n",
    "    transformers=[\n",
    "        ('cat', categorical_transformer, categorical_features),\n",
    "        ('num', numeric_transformer, numeric_features)\n",
    "    ],\n",
    "    # Признаки, не указанные ни в одном из конвертеров будут удалены\n",
    "    remainder='drop'\n",
    ")\n",
    "\n",
    "preprocessor.fit(new_df)\n",
    "\n",
    "X_data = preprocessor.transform(new_df)\n",
    "print(type(X_data))"
   ]
  },
  {
   "cell_type": "code",
   "execution_count": 65,
   "metadata": {},
   "outputs": [
    {
     "name": "stdout",
     "output_type": "stream",
     "text": [
      "(712, 9) (712,)\n",
      "(179, 9) (179,)\n"
     ]
    }
   ],
   "source": [
    "from sklearn.model_selection import train_test_split\n",
    "\n",
    "TRAIN_RATIO=0.8\n",
    "\n",
    "y_data=new_df['Survived']\n",
    "\n",
    "X_train, X_test, y_train, y_test = train_test_split(\n",
    "    X_data, y_data, \n",
    "    train_size=TRAIN_RATIO, \n",
    "    random_state=RANDOM_STATE,\n",
    "    stratify=y_data\n",
    ")\n",
    "\n",
    "print(X_train.shape, y_train.shape)\n",
    "print(X_test.shape, y_test.shape)"
   ]
  },
  {
   "cell_type": "code",
   "execution_count": 66,
   "metadata": {},
   "outputs": [
    {
     "name": "stdout",
     "output_type": "stream",
     "text": [
      "f1_score=0.703125\n",
      "Feature: Sex_female | 0.0\n",
      "Feature: Sex_male | 0.5770283076941427\n",
      "Feature: Embarked_C | 0.0\n",
      "Feature: Embarked_Q | 0.0\n",
      "Feature: Embarked_S | 0.0\n",
      "Feature: Pclass | 0.27680249670337287\n",
      "Feature: Age | 0.09057353619207983\n",
      "Feature: Fare | 0.055595659410404605\n",
      "Feature: isAlone | 0.0\n"
     ]
    },
    {
     "data": {
      "image/png": "[encoded data removed]",
      "text/plain": [
       "<Figure size 1080x720 with 1 Axes>"
      ]
     },
     "metadata": {
      "needs_background": "light"
     },
     "output_type": "display_data"
    }
   ],
   "source": [
    "from sklearn.tree import DecisionTreeClassifier, plot_tree\n",
    "from sklearn.metrics import f1_score\n",
    "\n",
    "tree = DecisionTreeClassifier(random_state=RANDOM_STATE,max_depth=3, criterion='entropy')\n",
    "tree.fit(X_train, y_train)\n",
    "y_pred=tree.predict(X_test)\n",
    "f1 = f1_score(y_test,y_pred)\n",
    "print(f'f1_score={f1}')\n",
    "ohe_column_names = preprocessor \\\n",
    "    .named_transformers_['cat'] \\\n",
    "    .named_steps['enc'] \\\n",
    "    .get_feature_names(categorical_features)\n",
    "\n",
    "recovered_feat_names = \\\n",
    "    list(ohe_column_names) + \\\n",
    "    list(numeric_features)\n",
    "show_importance(tree, recovered_feat_names, X_train)"
   ]
  },
  {
   "cell_type": "code",
   "execution_count": 67,
   "metadata": {},
   "outputs": [
    {
     "name": "stdout",
     "output_type": "stream",
     "text": [
      "<class 'numpy.ndarray'>\n"
     ]
    }
   ],
   "source": [
    "from sklearn.compose import ColumnTransformer\n",
    "# Составляет список признаков для обработки\n",
    "categorical_features = ['Sex', 'Embarked']\n",
    "numeric_features=['Pclass','Age', 'Fare','FarePerPerson']\n",
    "\n",
    "# Создаем обработчик категориальных признаков\n",
    "categorical_transformer = Pipeline(\n",
    "    steps=[\n",
    "        ('imp', SimpleImputer(strategy='most_frequent')),\n",
    "        ('enc', OneHotEncoder(handle_unknown='error')),                   \n",
    "])\n",
    "\n",
    "# Численные значения имеют пропуски, заполним стратегией медианы\n",
    "numeric_transformer = SimpleImputer(strategy='median')\n",
    "\n",
    "# Создаем конечный конвертер, который будет использован для \n",
    "#   предобработки\n",
    "preprocessor = ColumnTransformer(\n",
    "    # Список конвертеров, каждый кортеж содержит\n",
    "    #   имя, конвертер и признаки, на которые он будет применен\n",
    "    transformers=[\n",
    "        ('cat', categorical_transformer, categorical_features),\n",
    "        ('num', numeric_transformer, numeric_features)\n",
    "    ],\n",
    "    # Признаки, не указанные ни в одном из конвертеров будут удалены\n",
    "    remainder='drop'\n",
    ")\n",
    "\n",
    "preprocessor.fit(new_df)\n",
    "\n",
    "X_data = preprocessor.transform(new_df)\n",
    "print(type(X_data))"
   ]
  },
  {
   "cell_type": "code",
   "execution_count": 68,
   "metadata": {},
   "outputs": [
    {
     "name": "stdout",
     "output_type": "stream",
     "text": [
      "(712, 9) (712,)\n",
      "(179, 9) (179,)\n"
     ]
    }
   ],
   "source": [
    "from sklearn.model_selection import train_test_split\n",
    "\n",
    "TRAIN_RATIO=0.8\n",
    "\n",
    "y_data=new_df['Survived']\n",
    "\n",
    "X_train, X_test, y_train, y_test = train_test_split(\n",
    "    X_data, y_data, \n",
    "    train_size=TRAIN_RATIO, \n",
    "    random_state=RANDOM_STATE,\n",
    "    stratify=y_data\n",
    ")\n",
    "\n",
    "print(X_train.shape, y_train.shape)\n",
    "print(X_test.shape, y_test.shape)"
   ]
  },
  {
   "cell_type": "code",
   "execution_count": 69,
   "metadata": {},
   "outputs": [
    {
     "name": "stdout",
     "output_type": "stream",
     "text": [
      "f1_score=0.7132867132867132\n",
      "Feature: Sex_female | 0.0\n",
      "Feature: Sex_male | 0.5449683534396205\n",
      "Feature: Embarked_C | 0.0\n",
      "Feature: Embarked_Q | 0.0\n",
      "Feature: Embarked_S | 0.0\n",
      "Feature: Pclass | 0.17912180325816726\n",
      "Feature: Age | 0.10302492843666713\n",
      "Feature: Fare | 0.05250673938051876\n",
      "Feature: FarePerPerson | 0.12037817548502637\n"
     ]
    },
    {
     "data": {
      "image/png": "[encoded data removed]",
      "text/plain": [
       "<Figure size 1080x720 with 1 Axes>"
      ]
     },
     "metadata": {
      "needs_background": "light"
     },
     "output_type": "display_data"
    }
   ],
   "source": [
    "from sklearn.tree import DecisionTreeClassifier, plot_tree\n",
    "from sklearn.metrics import f1_score\n",
    "\n",
    "tree = DecisionTreeClassifier(random_state=RANDOM_STATE,max_depth=3, criterion='entropy')\n",
    "tree.fit(X_train, y_train)\n",
    "y_pred=tree.predict(X_test)\n",
    "f1 = f1_score(y_test,y_pred)\n",
    "print(f'f1_score={f1}')\n",
    "ohe_column_names = preprocessor \\\n",
    "    .named_transformers_['cat'] \\\n",
    "    .named_steps['enc'] \\\n",
    "    .get_feature_names(categorical_features)\n",
    "\n",
    "recovered_feat_names = \\\n",
    "    list(ohe_column_names) + \\\n",
    "    list(numeric_features)\n",
    "show_importance(tree, recovered_feat_names, X_train)"
   ]
  },
  {
   "cell_type": "markdown",
   "metadata": {},
   "source": [
    "Были сгруппированы и добавлены следующие признаки: FamilySize - размер родственников на корабле; IsAlone - является ли пассажир один на корабле или нет (бинарный признак); FarePerPerson - оплата билета на человека в семье (воспользоваться FamilySize). Признак  IsAlone никак не влияет на выживаемость. При этом признаки FarePerPerson и FamilySize оказывают  влияние на выживаемость на равне с полом (sex_male), классом (Pclass), возрастом (Age) и платой за проезд (fare)"
   ]
  },
  {
   "cell_type": "markdown",
   "metadata": {},
   "source": [
    "для большей наглядности посмотрим все признаки на одном графике"
   ]
  },
  {
   "cell_type": "code",
   "execution_count": 70,
   "metadata": {},
   "outputs": [
    {
     "name": "stdout",
     "output_type": "stream",
     "text": [
      "<class 'numpy.ndarray'>\n"
     ]
    }
   ],
   "source": [
    "from sklearn.compose import ColumnTransformer\n",
    "# Составляет список признаков для обработки\n",
    "categorical_features = ['Sex', 'Embarked']\n",
    "numeric_features = ['Pclass','Age', 'Fare','FamilySize','FarePerPerson','isAlone']\n",
    "\n",
    "# Создаем обработчик категориальных признаков\n",
    "categorical_transformer = Pipeline(\n",
    "    steps=[\n",
    "        ('imp', SimpleImputer(strategy='most_frequent')),\n",
    "        ('enc', OneHotEncoder(handle_unknown='error')),                   \n",
    "])\n",
    "\n",
    "# Численные значения имеют пропуски, заполним стратегией медианы\n",
    "numeric_transformer = SimpleImputer(strategy='median')\n",
    "\n",
    "# Создаем конечный конвертер, который будет использован для \n",
    "#   предобработки\n",
    "preprocessor = ColumnTransformer(\n",
    "    # Список конвертеров, каждый кортеж содержит\n",
    "    #   имя, конвертер и признаки, на которые он будет применен\n",
    "    transformers=[\n",
    "        ('cat', categorical_transformer, categorical_features),\n",
    "        ('num', numeric_transformer, numeric_features)\n",
    "    ],\n",
    "    # Признаки, не указанные ни в одном из конвертеров будут удалены\n",
    "    remainder='drop'\n",
    ")\n",
    "\n",
    "preprocessor.fit(new_df)\n",
    "\n",
    "X_data = preprocessor.transform(new_df)\n",
    "print(type(X_data))"
   ]
  },
  {
   "cell_type": "code",
   "execution_count": 71,
   "metadata": {},
   "outputs": [
    {
     "name": "stdout",
     "output_type": "stream",
     "text": [
      "(712, 11) (712,)\n",
      "(179, 11) (179,)\n"
     ]
    }
   ],
   "source": [
    "from sklearn.model_selection import train_test_split\n",
    "\n",
    "TRAIN_RATIO=0.8\n",
    "\n",
    "y_data=new_df['Survived']\n",
    "\n",
    "X_train, X_test, y_train, y_test = train_test_split(\n",
    "    X_data, y_data, \n",
    "    train_size=TRAIN_RATIO, \n",
    "    random_state=RANDOM_STATE,\n",
    "    stratify=y_data\n",
    ")\n",
    "\n",
    "print(X_train.shape, y_train.shape)\n",
    "print(X_test.shape, y_test.shape)"
   ]
  },
  {
   "cell_type": "code",
   "execution_count": 72,
   "metadata": {},
   "outputs": [
    {
     "name": "stdout",
     "output_type": "stream",
     "text": [
      "f1_score=0.7132867132867132\n",
      "Feature: Sex_female | 0.0\n",
      "Feature: Sex_male | 0.543207301153105\n",
      "Feature: Embarked_C | 0.0\n",
      "Feature: Embarked_Q | 0.0\n",
      "Feature: Embarked_S | 0.0\n",
      "Feature: Pclass | 0.17854297540660188\n",
      "Feature: Age | 0.10269200582814068\n",
      "Feature: Fare | 0.016741334845946334\n",
      "Feature: FamilySize | 0.03882720649525601\n",
      "Feature: FarePerPerson | 0.11998917627095007\n",
      "Feature: isAlone | 0.0\n"
     ]
    },
    {
     "data": {
      "image/png": "[encoded data removed]",
      "text/plain": [
       "<Figure size 1080x720 with 1 Axes>"
      ]
     },
     "metadata": {
      "needs_background": "light"
     },
     "output_type": "display_data"
    }
   ],
   "source": [
    "from sklearn.tree import DecisionTreeClassifier, plot_tree\n",
    "from sklearn.metrics import f1_score\n",
    "\n",
    "tree = DecisionTreeClassifier(random_state=RANDOM_STATE,max_depth=3, criterion='entropy')\n",
    "tree.fit(X_train, y_train)\n",
    "y_pred=tree.predict(X_test)\n",
    "f1 = f1_score(y_test,y_pred)\n",
    "print(f'f1_score={f1}')\n",
    "ohe_column_names = preprocessor \\\n",
    "    .named_transformers_['cat'] \\\n",
    "    .named_steps['enc'] \\\n",
    "    .get_feature_names(categorical_features)\n",
    "\n",
    "recovered_feat_names = \\\n",
    "    list(ohe_column_names) + \\\n",
    "    list(numeric_features)\n",
    "show_importance(tree, recovered_feat_names, X_train)"
   ]
  },
  {
   "cell_type": "markdown",
   "metadata": {},
   "source": [
    "Как видно из графика, самое сильное влияние оказывает пол и класс. Далее идет смешанный признак FarePerPerson и возраст пассажира. Самое маленькое влияние оказывает оплата проезда."
   ]
  },
  {
   "cell_type": "markdown",
   "metadata": {},
   "source": [
    "## Оцените работу модели при добавлении группировки признаков Age, Fare;"
   ]
  },
  {
   "cell_type": "code",
   "execution_count": 74,
   "metadata": {},
   "outputs": [
    {
     "name": "stdout",
     "output_type": "stream",
     "text": [
      "[array([  0.    ,   7.55  ,   7.8542,   8.05  ,  10.5   ,  14.4542,\n",
      "        21.6792,  27.    ,  39.6875,  77.9583, 512.3292])]\n",
      "(891, 1)\n",
      "[array([ 0.42      , 16.        , 20.        , 24.        , 28.        ,\n",
      "       29.69911765, 32.5       , 38.        , 47.        , 80.        ])]\n"
     ]
    },
    {
     "name": "stderr",
     "output_type": "stream",
     "text": [
      "C:\\Users\\ksyus\\anaconda3\\lib\\site-packages\\sklearn\\preprocessing\\_discretization.py:200: UserWarning: Bins whose width are too small (i.e., <= 1e-8) in feature 0 are removed. Consider decreasing the number of bins.\n",
      "  warnings.warn('Bins whose width are too small (i.e., <= '\n"
     ]
    },
    {
     "data": {
      "text/plain": [
       "<seaborn.axisgrid.FacetGrid at 0x256d8793220>"
      ]
     },
     "execution_count": 74,
     "metadata": {},
     "output_type": "execute_result"
    },
    {
     "data": {
      "image/png": "[encoded data removed]",
      "text/plain": [
       "<Figure size 360x360 with 1 Axes>"
      ]
     },
     "metadata": {
      "needs_background": "light"
     },
     "output_type": "display_data"
    },
    {
     "data": {
      "image/png": "[encoded data removed]",
      "text/plain": [
       "<Figure size 360x360 with 1 Axes>"
      ]
     },
     "metadata": {
      "needs_background": "light"
     },
     "output_type": "display_data"
    }
   ],
   "source": [
    "from sklearn.preprocessing import KBinsDiscretizer\n",
    "from sklearn.impute import SimpleImputer\n",
    "\n",
    "discr = KBinsDiscretizer(\n",
    "    # Количество бинов\n",
    "    n_bins=10,\n",
    "    # Способ кодирования - порядковый\n",
    "    encode='ordinal',\n",
    ")\n",
    "\n",
    "# Двойные скобки для передачи DataFrame (2D данные)\n",
    "new_df['Fare_groups'] = discr.fit_transform(new_df[['Fare']])\n",
    "# Отобразим границы бинов\n",
    "print(discr.bin_edges_)\n",
    "sns.catplot(x='Fare_groups', kind=\"count\", data=new_df)\n",
    "\n",
    "imp = SimpleImputer(strategy='mean')\n",
    "# Двойные скобки использованы, чтобы передать в fit() 2D массив\n",
    "X_in = new_df[['Age']]\n",
    "print(X_in.shape)\n",
    "\n",
    "new_df['Age'] = imp.fit_transform(X_in)\n",
    "new_df.isnull().sum()\n",
    "discr = KBinsDiscretizer(\n",
    "    # Количество бинов\n",
    "    n_bins=10,\n",
    "    # Способ кодирования - порядковый\n",
    "    encode='ordinal',\n",
    ")\n",
    "\n",
    "# Двойные скобки для передачи DataFrame (2D данные)\n",
    "new_df['Age_groups'] = discr.fit_transform(new_df[['Age']])\n",
    "# Отобразим границы бинов\n",
    "print(discr.bin_edges_)\n",
    "sns.catplot(x='Age_groups', kind=\"count\", data=new_df)"
   ]
  },
  {
   "cell_type": "code",
   "execution_count": 75,
   "metadata": {},
   "outputs": [
    {
     "name": "stdout",
     "output_type": "stream",
     "text": [
      "<class 'numpy.ndarray'>\n"
     ]
    }
   ],
   "source": [
    "from sklearn.compose import ColumnTransformer\n",
    "# Составляет список признаков для обработки\n",
    "categorical_features = ['Sex', 'Embarked']\n",
    "numeric_features = ['Pclass','Age_groups', 'Fare_groups']\n",
    "\n",
    "# Создаем обработчик категориальных признаков\n",
    "categorical_transformer = Pipeline(\n",
    "    steps=[\n",
    "        ('imp', SimpleImputer(strategy='most_frequent')),\n",
    "        ('enc', OneHotEncoder(handle_unknown='error')),                   \n",
    "])\n",
    "\n",
    "# Численные значения имеют пропуски, заполним стратегией медианы\n",
    "numeric_transformer = SimpleImputer(strategy='median')\n",
    "\n",
    "# Создаем конечный конвертер, который будет использован для \n",
    "#   предобработки\n",
    "preprocessor = ColumnTransformer(\n",
    "    # Список конвертеров, каждый кортеж содержит\n",
    "    #   имя, конвертер и признаки, на которые он будет применен\n",
    "    transformers=[\n",
    "        ('cat', categorical_transformer, categorical_features),\n",
    "        ('num', numeric_transformer, numeric_features)\n",
    "    ],\n",
    "    # Признаки, не указанные ни в одном из конвертеров будут удалены\n",
    "    remainder='drop'\n",
    ")\n",
    "\n",
    "preprocessor.fit(new_df)\n",
    "\n",
    "X_data = preprocessor.transform(new_df)\n",
    "print(type(X_data))"
   ]
  },
  {
   "cell_type": "code",
   "execution_count": 76,
   "metadata": {},
   "outputs": [
    {
     "name": "stdout",
     "output_type": "stream",
     "text": [
      "(712, 8) (712,)\n",
      "(179, 8) (179,)\n"
     ]
    }
   ],
   "source": [
    "from sklearn.model_selection import train_test_split\n",
    "\n",
    "TRAIN_RATIO=0.8\n",
    "\n",
    "y_data=new_df['Survived']\n",
    "\n",
    "X_train, X_test, y_train, y_test = train_test_split(\n",
    "    X_data, y_data, \n",
    "    train_size=TRAIN_RATIO, \n",
    "    random_state=RANDOM_STATE,\n",
    "    stratify=y_data\n",
    ")\n",
    "\n",
    "print(X_train.shape, y_train.shape)\n",
    "print(X_test.shape, y_test.shape)"
   ]
  },
  {
   "cell_type": "code",
   "execution_count": 77,
   "metadata": {},
   "outputs": [
    {
     "name": "stdout",
     "output_type": "stream",
     "text": [
      "f1_score=0.6842105263157895\n",
      "Feature: Sex_female | 0.6243974551151824\n",
      "Feature: Sex_male | 0.0\n",
      "Feature: Embarked_C | 0.0\n",
      "Feature: Embarked_Q | 0.0\n",
      "Feature: Embarked_S | 0.03814382675580773\n",
      "Feature: Pclass | 0.2282775813563417\n",
      "Feature: Age_groups | 0.02612783462897275\n",
      "Feature: Fare_groups | 0.08305330214369552\n"
     ]
    },
    {
     "data": {
      "image/png": "[encoded data removed]",
      "text/plain": [
       "<Figure size 1080x720 with 1 Axes>"
      ]
     },
     "metadata": {
      "needs_background": "light"
     },
     "output_type": "display_data"
    }
   ],
   "source": [
    "from sklearn.tree import DecisionTreeClassifier, plot_tree\n",
    "from sklearn.metrics import f1_score\n",
    "\n",
    "tree = DecisionTreeClassifier(random_state=RANDOM_STATE,max_depth=3, criterion='entropy')\n",
    "tree.fit(X_train, y_train)\n",
    "y_pred=tree.predict(X_test)\n",
    "f1 = f1_score(y_test,y_pred)\n",
    "print(f'f1_score={f1}')\n",
    "ohe_column_names = preprocessor \\\n",
    "    .named_transformers_['cat'] \\\n",
    "    .named_steps['enc'] \\\n",
    "    .get_feature_names(categorical_features)\n",
    "\n",
    "recovered_feat_names = \\\n",
    "    list(ohe_column_names) + \\\n",
    "    list(numeric_features)\n",
    "show_importance(tree, recovered_feat_names, X_train)"
   ]
  },
  {
   "cell_type": "code",
   "execution_count": 78,
   "metadata": {},
   "outputs": [
    {
     "name": "stdout",
     "output_type": "stream",
     "text": [
      "<class 'numpy.ndarray'>\n"
     ]
    }
   ],
   "source": [
    "from sklearn.compose import ColumnTransformer\n",
    "# Составляет список признаков для обработки\n",
    "categorical_features = ['Sex', 'Embarked']\n",
    "numeric_features = ['Pclass','Age_groups', 'Fare_groups','FamilySize','FarePerPerson']\n",
    "\n",
    "# Создаем обработчик категориальных признаков\n",
    "categorical_transformer = Pipeline(\n",
    "    steps=[\n",
    "        ('imp', SimpleImputer(strategy='most_frequent')),\n",
    "        ('enc', OneHotEncoder(handle_unknown='error')),                   \n",
    "])\n",
    "\n",
    "# Численные значения имеют пропуски, заполним стратегией медианы\n",
    "numeric_transformer = SimpleImputer(strategy='median')\n",
    "\n",
    "# Создаем конечный конвертер, который будет использован для \n",
    "#   предобработки\n",
    "preprocessor = ColumnTransformer(\n",
    "    # Список конвертеров, каждый кортеж содержит\n",
    "    #   имя, конвертер и признаки, на которые он будет применен\n",
    "    transformers=[\n",
    "        ('cat', categorical_transformer, categorical_features),\n",
    "        ('num', numeric_transformer, numeric_features)\n",
    "    ],\n",
    "    # Признаки, не указанные ни в одном из конвертеров будут удалены\n",
    "    remainder='drop'\n",
    ")\n",
    "\n",
    "preprocessor.fit(new_df)\n",
    "\n",
    "X_data = preprocessor.transform(new_df)\n",
    "print(type(X_data))"
   ]
  },
  {
   "cell_type": "code",
   "execution_count": 79,
   "metadata": {},
   "outputs": [
    {
     "name": "stdout",
     "output_type": "stream",
     "text": [
      "(712, 10) (712,)\n",
      "(179, 10) (179,)\n"
     ]
    }
   ],
   "source": [
    "from sklearn.model_selection import train_test_split\n",
    "\n",
    "TRAIN_RATIO=0.8\n",
    "\n",
    "y_data=new_df['Survived']\n",
    "\n",
    "X_train, X_test, y_train, y_test = train_test_split(\n",
    "    X_data, y_data, \n",
    "    train_size=TRAIN_RATIO, \n",
    "    random_state=RANDOM_STATE,\n",
    "    stratify=y_data\n",
    ")\n",
    "\n",
    "print(X_train.shape, y_train.shape)\n",
    "print(X_test.shape, y_test.shape)"
   ]
  },
  {
   "cell_type": "code",
   "execution_count": 80,
   "metadata": {},
   "outputs": [
    {
     "name": "stdout",
     "output_type": "stream",
     "text": [
      "f1_score=0.7285714285714284\n",
      "Feature: Sex_female | 0.5676113665895944\n",
      "Feature: Sex_male | 0.0\n",
      "Feature: Embarked_C | 0.0\n",
      "Feature: Embarked_Q | 0.0\n",
      "Feature: Embarked_S | 0.0\n",
      "Feature: Pclass | 0.1865641755005604\n",
      "Feature: Age_groups | 0.06417715220424883\n",
      "Feature: Fare_groups | 0.0\n",
      "Feature: FamilySize | 0.04057155287280819\n",
      "Feature: FarePerPerson | 0.1410757528327881\n"
     ]
    },
    {
     "data": {
      "image/png": "[encoded data removed]",
      "text/plain": [
       "<Figure size 1080x720 with 1 Axes>"
      ]
     },
     "metadata": {
      "needs_background": "light"
     },
     "output_type": "display_data"
    }
   ],
   "source": [
    "from sklearn.tree import DecisionTreeClassifier, plot_tree\n",
    "from sklearn.metrics import f1_score\n",
    "\n",
    "tree = DecisionTreeClassifier(random_state=RANDOM_STATE,max_depth=3, criterion='entropy')\n",
    "tree.fit(X_train, y_train)\n",
    "y_pred=tree.predict(X_test)\n",
    "f1 = f1_score(y_test,y_pred)\n",
    "print(f'f1_score={f1}')\n",
    "ohe_column_names = preprocessor \\\n",
    "    .named_transformers_['cat'] \\\n",
    "    .named_steps['enc'] \\\n",
    "    .get_feature_names(categorical_features)\n",
    "\n",
    "recovered_feat_names = \\\n",
    "    list(ohe_column_names) + \\\n",
    "    list(numeric_features)\n",
    "show_importance(tree, recovered_feat_names, X_train)"
   ]
  },
  {
   "cell_type": "code",
   "execution_count": 81,
   "metadata": {},
   "outputs": [
    {
     "name": "stdout",
     "output_type": "stream",
     "text": [
      "<class 'numpy.ndarray'>\n"
     ]
    }
   ],
   "source": [
    "from sklearn.compose import ColumnTransformer\n",
    "# Составляет список признаков для обработки\n",
    "categorical_features = ['Sex', 'Embarked']\n",
    "numeric_features = ['Pclass','Age_groups', 'Fare_groups','FamilySize']\n",
    "\n",
    "# Создаем обработчик категориальных признаков\n",
    "categorical_transformer = Pipeline(\n",
    "    steps=[\n",
    "        ('imp', SimpleImputer(strategy='most_frequent')),\n",
    "        ('enc', OneHotEncoder(handle_unknown='error')),                   \n",
    "])\n",
    "\n",
    "# Численные значения имеют пропуски, заполним стратегией медианы\n",
    "numeric_transformer = SimpleImputer(strategy='median')\n",
    "\n",
    "# Создаем конечный конвертер, который будет использован для \n",
    "#   предобработки\n",
    "preprocessor = ColumnTransformer(\n",
    "    # Список конвертеров, каждый кортеж содержит\n",
    "    #   имя, конвертер и признаки, на которые он будет применен\n",
    "    transformers=[\n",
    "        ('cat', categorical_transformer, categorical_features),\n",
    "        ('num', numeric_transformer, numeric_features)\n",
    "    ],\n",
    "    # Признаки, не указанные ни в одном из конвертеров будут удалены\n",
    "    remainder='drop'\n",
    ")\n",
    "\n",
    "preprocessor.fit(new_df)\n",
    "\n",
    "X_data = preprocessor.transform(new_df)\n",
    "print(type(X_data))"
   ]
  },
  {
   "cell_type": "code",
   "execution_count": 82,
   "metadata": {},
   "outputs": [
    {
     "name": "stdout",
     "output_type": "stream",
     "text": [
      "(712, 9) (712,)\n",
      "(179, 9) (179,)\n"
     ]
    }
   ],
   "source": [
    "from sklearn.model_selection import train_test_split\n",
    "\n",
    "TRAIN_RATIO=0.8\n",
    "\n",
    "y_data=new_df['Survived']\n",
    "\n",
    "X_train, X_test, y_train, y_test = train_test_split(\n",
    "    X_data, y_data, \n",
    "    train_size=TRAIN_RATIO, \n",
    "    random_state=RANDOM_STATE,\n",
    "    stratify=y_data\n",
    ")\n",
    "\n",
    "print(X_train.shape, y_train.shape)\n",
    "print(X_test.shape, y_test.shape)"
   ]
  },
  {
   "cell_type": "code",
   "execution_count": 83,
   "metadata": {},
   "outputs": [
    {
     "name": "stdout",
     "output_type": "stream",
     "text": [
      "f1_score=0.7301587301587301\n",
      "Feature: Sex_female | 0.0\n",
      "Feature: Sex_male | 0.6151718074311925\n",
      "Feature: Embarked_C | 0.0\n",
      "Feature: Embarked_Q | 0.0\n",
      "Feature: Embarked_S | 0.0\n",
      "Feature: Pclass | 0.20219648125470416\n",
      "Feature: Age_groups | 0.025741788537564533\n",
      "Feature: Fare_groups | 0.08182616628929273\n",
      "Feature: FamilySize | 0.07506375648724622\n"
     ]
    },
    {
     "data": {
      "image/png": "[encoded data removed]",
      "text/plain": [
       "<Figure size 1080x720 with 1 Axes>"
      ]
     },
     "metadata": {
      "needs_background": "light"
     },
     "output_type": "display_data"
    }
   ],
   "source": [
    "from sklearn.tree import DecisionTreeClassifier, plot_tree\n",
    "from sklearn.metrics import f1_score\n",
    "\n",
    "tree = DecisionTreeClassifier(random_state=RANDOM_STATE,max_depth=3, criterion='entropy')\n",
    "tree.fit(X_train, y_train)\n",
    "y_pred=tree.predict(X_test)\n",
    "f1 = f1_score(y_test,y_pred)\n",
    "print(f'f1_score={f1}')\n",
    "ohe_column_names = preprocessor \\\n",
    "    .named_transformers_['cat'] \\\n",
    "    .named_steps['enc'] \\\n",
    "    .get_feature_names(categorical_features)\n",
    "\n",
    "recovered_feat_names = \\\n",
    "    list(ohe_column_names) + \\\n",
    "    list(numeric_features)\n",
    "show_importance(tree, recovered_feat_names, X_train)"
   ]
  },
  {
   "cell_type": "markdown",
   "metadata": {},
   "source": [
    "Наилучшего показателя f1 удалось добиться при использовании следующей комбинации признаков: 'Pclass','Age_groups', 'Fare_groups','FamilySize'."
   ]
  },
  {
   "cell_type": "markdown",
   "metadata": {},
   "source": [
    "## Обучите модель дерева и модель леса RandomForestClassifier по подготовленным данным;"
   ]
  },
  {
   "cell_type": "markdown",
   "metadata": {},
   "source": [
    "так как ранее уже была получена стратификация с признаками, дающими хороший f1, то далее будем использовать ее для обчения модели леса"
   ]
  },
  {
   "cell_type": "code",
   "execution_count": 84,
   "metadata": {},
   "outputs": [
    {
     "name": "stdout",
     "output_type": "stream",
     "text": [
      "f1_score=0.7200000000000001\n",
      "Feature: Sex_female | 0.3920656309870334\n",
      "Feature: Sex_male | 0.2315452163152832\n",
      "Feature: Embarked_C | 0.008942453614813863\n",
      "Feature: Embarked_Q | 0.004714031825758371\n",
      "Feature: Embarked_S | 0.0171572080981222\n",
      "Feature: Pclass | 0.1570537772191611\n",
      "Feature: Age_groups | 0.028490902043675884\n",
      "Feature: Fare_groups | 0.08989941535770259\n",
      "Feature: FamilySize | 0.07013136453844945\n"
     ]
    },
    {
     "data": {
      "image/png": "[encoded data removed]",
      "text/plain": [
       "<Figure size 1080x720 with 1 Axes>"
      ]
     },
     "metadata": {
      "needs_background": "light"
     },
     "output_type": "display_data"
    }
   ],
   "source": [
    "from sklearn.ensemble import RandomForestClassifier\n",
    "\n",
    "new_forest = RandomForestClassifier(max_depth=3,criterion='entropy')\n",
    "new_forest.fit(X_train, y_train)\n",
    "y_pred=new_forest.predict(X_test)\n",
    "f1=f1_score(y_test,y_pred)\n",
    "print(f'f1_score={f1}')\n",
    "show_importance(new_forest, recovered_feat_names, X_train)"
   ]
  },
  {
   "cell_type": "markdown",
   "metadata": {},
   "source": [
    "## Оцените влияние аргументов max_depth и n_estimators на точность модели (5 значений для каждого) с помощью кросс-валидации на обучающей выборке. Постройте таблицу зависимости метрик от величин;"
   ]
  },
  {
   "cell_type": "code",
   "execution_count": 87,
   "metadata": {},
   "outputs": [
    {
     "data": {
      "text/html": [
       "<div>\n",
       "<style scoped>\n",
       "    .dataframe tbody tr th:only-of-type {\n",
       "        vertical-align: middle;\n",
       "    }\n",
       "\n",
       "    .dataframe tbody tr th {\n",
       "        vertical-align: top;\n",
       "    }\n",
       "\n",
       "    .dataframe thead th {\n",
       "        text-align: right;\n",
       "    }\n",
       "</style>\n",
       "<table border=\"1\" class=\"dataframe\">\n",
       "  <thead>\n",
       "    <tr style=\"text-align: right;\">\n",
       "      <th></th>\n",
       "      <th>1</th>\n",
       "      <th>5</th>\n",
       "      <th>9</th>\n",
       "      <th>13</th>\n",
       "      <th>17</th>\n",
       "    </tr>\n",
       "  </thead>\n",
       "  <tbody>\n",
       "    <tr>\n",
       "      <th>1</th>\n",
       "      <td>0.754189</td>\n",
       "      <td>0.738995</td>\n",
       "      <td>0.763444</td>\n",
       "      <td>0.743011</td>\n",
       "      <td>0.765698</td>\n",
       "    </tr>\n",
       "    <tr>\n",
       "      <th>3</th>\n",
       "      <td>0.774852</td>\n",
       "      <td>0.792259</td>\n",
       "      <td>0.793214</td>\n",
       "      <td>0.791334</td>\n",
       "      <td>0.785723</td>\n",
       "    </tr>\n",
       "    <tr>\n",
       "      <th>5</th>\n",
       "      <td>0.791440</td>\n",
       "      <td>0.795287</td>\n",
       "      <td>0.802118</td>\n",
       "      <td>0.803337</td>\n",
       "      <td>0.800026</td>\n",
       "    </tr>\n",
       "    <tr>\n",
       "      <th>7</th>\n",
       "      <td>0.782869</td>\n",
       "      <td>0.808560</td>\n",
       "      <td>0.791169</td>\n",
       "      <td>0.796986</td>\n",
       "      <td>0.802939</td>\n",
       "    </tr>\n",
       "    <tr>\n",
       "      <th>9</th>\n",
       "      <td>0.761972</td>\n",
       "      <td>0.781101</td>\n",
       "      <td>0.800457</td>\n",
       "      <td>0.811796</td>\n",
       "      <td>0.811529</td>\n",
       "    </tr>\n",
       "  </tbody>\n",
       "</table>\n",
       "</div>"
      ],
      "text/plain": [
       "         1         5         9         13        17\n",
       "1  0.754189  0.738995  0.763444  0.743011  0.765698\n",
       "3  0.774852  0.792259  0.793214  0.791334  0.785723\n",
       "5  0.791440  0.795287  0.802118  0.803337  0.800026\n",
       "7  0.782869  0.808560  0.791169  0.796986  0.802939\n",
       "9  0.761972  0.781101  0.800457  0.811796  0.811529"
      ]
     },
     "execution_count": 87,
     "metadata": {},
     "output_type": "execute_result"
    }
   ],
   "source": [
    "f1_scores=np.ndarray([5,5])\n",
    "n_estimators=np.array(range(1,20,4))\n",
    "max_depths=np.array(range(1,10,2))\n",
    "step1=-1\n",
    "for i in n_estimators:\n",
    "    step2=0\n",
    "    step1=step1+1\n",
    "    for j in max_depths:\n",
    "        new_forest = RandomForestClassifier(max_depth=j,criterion='entropy',n_estimators=i)\n",
    "        scores = cross_val_score(\n",
    "            new_forest, # Модель для оценки\n",
    "            X_data, # Данные для обучения\n",
    "            y_data, # Разметка для обучения\n",
    "            cv=5, # Количество фолдов\n",
    "            scoring='f1_macro' # Желаемая метрика\n",
    "        )\n",
    "        f1_scores[step2,step1]=scores.mean();\n",
    "        step2=step2+1\n",
    "        \n",
    "f1_data=pd.DataFrame(data=f1_scores,columns=n_estimators,index=max_depths)\n",
    "f1_data"
   ]
  },
  {
   "cell_type": "markdown",
   "metadata": {},
   "source": [
    "Оптимальная глубина дерева может быть выбрана равной либо 3, либо 5. При этом количество деревьев больше 5 существенно не влияет на результат. Но стоит отметить, что и максимально возможное количество деревьев не такое уж и большое (здесь оно равно 17). Если его увеличить, то будет заметно, что параметр f1 ухудшится при очень большом количестве деревьев (переобучение). Оптимально выбрать где-то от 5 до до 13 деревьев."
   ]
  },
  {
   "cell_type": "markdown",
   "metadata": {},
   "source": [
    "## Определите наилучшие параметры для модели случайного леса через GridSearchCV;"
   ]
  },
  {
   "cell_type": "code",
   "execution_count": 94,
   "metadata": {},
   "outputs": [
    {
     "name": "stdout",
     "output_type": "stream",
     "text": [
      "{'max_depth': 5, 'n_estimators': 9}\n",
      "0.8114016694354269\n"
     ]
    }
   ],
   "source": [
    "from sklearn.model_selection import GridSearchCV\n",
    "new_forest = RandomForestClassifier( )\n",
    "parameters = {\n",
    "    'max_depth': [1, 3, 5, 7, 9],\n",
    "    'n_estimators': [1, 5, 9, 13, 17],\n",
    "}\n",
    "\n",
    "grid_search = GridSearchCV(\n",
    "    # модель\n",
    "    estimator=new_forest,                   \n",
    "    # сетка параметров\n",
    "    #   может быть объектом dict \n",
    "    #   или list с несколькими dict внутри (несколько сеток)\n",
    "    param_grid=parameters,              \n",
    "    # кол-во фолдов для CV\n",
    "    cv=5,                               \n",
    "    # метрика для оценки - используем F1 \n",
    "    scoring='f1_macro',   \n",
    ")\n",
    "\n",
    "grid_search.fit(X_train, y_train)\n",
    "print(grid_search.best_params_)\n",
    "print(grid_search.best_score_)"
   ]
  },
  {
   "cell_type": "markdown",
   "metadata": {},
   "source": [
    "В данном случае при максимальной глубине дерева 5 и количестве деревьев 9 показатель f1 лучше, чем в предыдщуем случае. "
   ]
  },
  {
   "cell_type": "markdown",
   "metadata": {},
   "source": [
    "## Определите наилучшие параметры для модели случайного леса через RandomizedSearchCV;"
   ]
  },
  {
   "cell_type": "code",
   "execution_count": 92,
   "metadata": {},
   "outputs": [
    {
     "name": "stdout",
     "output_type": "stream",
     "text": [
      "{'n_estimators': 9, 'max_depth': 9}\n",
      "0.8048097238425782\n"
     ]
    }
   ],
   "source": [
    "from sklearn.model_selection import RandomizedSearchCV\n",
    "\n",
    "new_forest = RandomForestClassifier( )\n",
    "\n",
    "parameters = {\n",
    "    'max_depth': [1, 3, 5, 7, 9],\n",
    "    'n_estimators': [1, 5, 9, 13, 17]\n",
    "}\n",
    "\n",
    "rand_search = RandomizedSearchCV(\n",
    "    estimator=new_forest,                   \n",
    "    param_distributions=parameters,              \n",
    "\n",
    "    cv=5,                                \n",
    "    scoring='f1_macro',   \n",
    ")\n",
    "\n",
    "rand_search.fit(X_train, y_train)\n",
    "print(rand_search.best_params_)\n",
    "print(rand_search.best_score_)"
   ]
  },
  {
   "cell_type": "markdown",
   "metadata": {},
   "source": [
    "Результат хуже, чем при использовании GridSearchCV"
   ]
  },
  {
   "cell_type": "markdown",
   "metadata": {},
   "source": [
    "## Постройте лучшие модели леса и решающего дерева и сравните их по показателям на выборке для теста."
   ]
  },
  {
   "cell_type": "code",
   "execution_count": 95,
   "metadata": {},
   "outputs": [
    {
     "name": "stdout",
     "output_type": "stream",
     "text": [
      "f1_score=0.7538461538461538\n",
      "f1_score=0.7301587301587301\n"
     ]
    }
   ],
   "source": [
    "new_forest = RandomForestClassifier(max_depth=5,criterion='gini',n_estimators=9)\n",
    "new_forest.fit(X_train, y_train)\n",
    "y_pred=new_forest.predict(X_test)\n",
    "f1 = f1_score(y_test,y_pred)\n",
    "print(f'f1_score={f1}')\n",
    "\n",
    "tree = DecisionTreeClassifier(max_depth=3,criterion='entropy')\n",
    "tree.fit(X_train, y_train)\n",
    "y_pred=tree.predict(X_test)\n",
    "f1 = f1_score(y_test,y_pred)\n",
    "print(f'f1_score={f1}')"
   ]
  },
  {
   "cell_type": "markdown",
   "metadata": {},
   "source": [
    "Как видно, лес дал лучший результат по f1"
   ]
  },
  {
   "cell_type": "markdown",
   "metadata": {},
   "source": [
    "## Примените подход Recursive Feature Elimination на лучшую модель случайного леса. Сравните оценку важности признаков RFE и то, что показывает лес."
   ]
  },
  {
   "cell_type": "code",
   "execution_count": 96,
   "metadata": {},
   "outputs": [
    {
     "name": "stdout",
     "output_type": "stream",
     "text": [
      "[ True  True  True  True  True  True False False  True]\n",
      "[1 1 1 1 1 1 2 3 1]\n",
      "[ True  True False  True  True False False False  True]\n",
      "[1 1 3 1 1 2 4 5 1]\n"
     ]
    }
   ],
   "source": [
    "from sklearn.datasets import make_friedman1\n",
    "from sklearn.feature_selection import RFE\n",
    "from sklearn.svm import SVR\n",
    "\n",
    "estimator = SVR(kernel=\"linear\")\n",
    "selector = RFE(estimator=estimator,n_features_to_select=7, step=1)\n",
    "selector = selector.fit(X_data, y_data)\n",
    "top_7=selector.support_\n",
    "print(selector.support_)\n",
    "print(selector.ranking_)\n",
    "\n",
    "selector = RFE(estimator=estimator,n_features_to_select=5, step=1)\n",
    "selector = selector.fit(X_data, y_data)\n",
    "top_5=selector.support_\n",
    "print(selector.support_)\n",
    "print(selector.ranking_)"
   ]
  },
  {
   "cell_type": "code",
   "execution_count": 98,
   "metadata": {},
   "outputs": [
    {
     "name": "stdout",
     "output_type": "stream",
     "text": [
      "['Sex_female' 'Sex_male' 'Embarked_Q' 'Embarked_S' 'FamilySize']\n",
      "['Sex_female' 'Sex_male' 'Embarked_C' 'Embarked_Q' 'Embarked_S' 'Pclass'\n",
      " 'FamilySize']\n",
      "['Sex_female', 'Sex_male', 'Embarked_C', 'Embarked_Q', 'Embarked_S', 'Pclass', 'Age_groups', 'Fare_groups', 'FamilySize']\n"
     ]
    }
   ],
   "source": [
    "print(np.array(recovered_feat_names)[top_5])\n",
    "print(np.array(recovered_feat_names)[top_7])\n",
    "print(recovered_feat_names)"
   ]
  },
  {
   "cell_type": "markdown",
   "metadata": {},
   "source": [
    "Ранее была получена лучшая модель случаного леса со следующими признаками: categorical_features = 'Sex', 'Embarked'\n",
    "numeric_features = 'Pclass','Age_groups', 'Fare_groups','FamilySize'. При этом если посмотреть на тот график, то там был следующий порядок важности: Sex_female, Sex_male, Pclass, Fare_groups,FamilySize, Age_groups,Embarked_S, Embarked_С, Embarked_Q. \n",
    "в топ5 и топ7 верно установлена важность признаков Sex_female, Sex_male, но вот дальше что-то пошло не так.. По крайней мере, самые важные признаки установлены верно"
   ]
  },
  {
   "cell_type": "markdown",
   "metadata": {},
   "source": [
    "## Постройте ROC кривые моделей"
   ]
  },
  {
   "cell_type": "markdown",
   "metadata": {},
   "source": [
    "**1. лучшая модель на всех признаках**\n",
    "\n",
    "**2.лучшая модель только на топ-7 лучших признаках по RFE**\n",
    "\n",
    "**3.лучшая модель на топ-5 лучших признаках по RFE**"
   ]
  },
  {
   "cell_type": "code",
   "execution_count": 99,
   "metadata": {},
   "outputs": [],
   "source": [
    "TRAIN_RATIO = 0.8\n",
    "X_train, X_test, y_train, y_test = train_test_split(\n",
    "    X_data, y_data, \n",
    "    train_size=TRAIN_RATIO, \n",
    "    random_state=RANDOM_STATE,\n",
    "    stratify=y_data\n",
    ")\n",
    "X_test_7=X_test[:,top_7]\n",
    "X_test_5=X_test[:,top_5]\n",
    "X_train_7=X_train[:,top_7]\n",
    "X_train_5=X_train[:,top_5]"
   ]
  },
  {
   "cell_type": "code",
   "execution_count": 100,
   "metadata": {},
   "outputs": [
    {
     "data": {
      "image/png": "[encoded data removed]",
      "text/plain": [
       "<Figure size 1080x720 with 3 Axes>"
      ]
     },
     "metadata": {
      "needs_background": "light"
     },
     "output_type": "display_data"
    }
   ],
   "source": [
    "from sklearn.metrics import roc_curve\n",
    "from sklearn.metrics import roc_auc_score\n",
    "\n",
    "diag_values = np.array([\n",
    "        [0, 0],\n",
    "        [1, 1],\n",
    "    ])\n",
    "\n",
    "new_forest=RandomForestClassifier()\n",
    "new_forest.fit(X_train,y_train)\n",
    "y_pred_proba = new_forest.predict_proba(X_test)\n",
    "plt.subplot(131)\n",
    "\n",
    "for i in range (2):\n",
    "    fpr, tpr, thresholds = roc_curve(y_test, y_pred_proba[:,i],pos_label=i)\n",
    "    plt.plot(fpr, tpr)\n",
    "    plt.plot(diag_values[:,0], diag_values[:,1], 'b--')\n",
    "    plt.xlabel('FPR')\n",
    "    plt.ylabel('TPR')\n",
    "    plt.grid(True)\n",
    "    \n",
    "new_forest=RandomForestClassifier()\n",
    "new_forest.fit(X_train_7,y_train)\n",
    "y_pred_proba = new_forest.predict_proba(X_test_7)\n",
    "plt.subplot(132)\n",
    "\n",
    "for i in range (2):\n",
    "    fpr, tpr, thresholds = roc_curve(y_test, y_pred_proba[:,i],pos_label=i)\n",
    "    plt.plot(fpr, tpr)\n",
    "    plt.plot(diag_values[:,0], diag_values[:,1], 'b--')\n",
    "    plt.xlabel('FPR')\n",
    "    plt.ylabel('TPR')\n",
    "    plt.grid(True)\n",
    "    \n",
    "new_forest=RandomForestClassifier()\n",
    "new_forest.fit(X_train_5,y_train)\n",
    "y_pred_proba = new_forest.predict_proba(X_test_5)\n",
    "plt.subplot(133)\n",
    "\n",
    "for i in range (2):\n",
    "    fpr, tpr, thresholds = roc_curve(y_test, y_pred_proba[:,i],pos_label=i)\n",
    "    plt.plot(fpr, tpr)\n",
    "    plt.plot(diag_values[:,0], diag_values[:,1], 'b--')\n",
    "    plt.xlabel('FPR')\n",
    "    plt.ylabel('TPR')\n",
    "    plt.grid(True)"
   ]
  },
  {
   "cell_type": "markdown",
   "metadata": {},
   "source": [
    "# Вопросы"
   ]
  },
  {
   "cell_type": "markdown",
   "metadata": {},
   "source": [
    "**1. Какой метод оценки модели лучше использовать в данной работе? Разделение на обучение/тест или кросс-валидация? Можно/нужно ли применять их вместе?** - В рамках данной работы наилучший показатель f1 был достигнут при использовании кросс-валидации и применении GridSearchCV. Метод разделения на обучение/тест является достаточно важным для применения, так как он позволяет оценить работу модели по данным, которые не были использованы в обучении. Тем не менее при малом объеме данных случайная тестовая выборка может быть слишком смещена и оценка будет искажена. Поэтому для того, чтобы произвести усредненную оценку на всем объеме данных, существует метод, названный К-фолд кросс-валидаци\n",
    "\n",
    "**2. За что отвечают параметры max_depth и n_estimators в модели случайных лесов? Как они влияют на работу модели?** - max_depth это глубина дерева максимальная (т.е. число узлов этого дерева), n_estimators -количество деревьев в лесу. Если взять эти числа слишком большими, то можно переобучить модель и ее работа будет некорректной. Если же брать очень малые числа (к примеру, в работе тестировалась модель с использованием 1 узла и 1 дерева), то снова столкнемся с тем, что ухудшается качество работы модели.\n",
    "\n",
    "**3. В чем отличие GridSearch от RandomSearch?** -  В отличие от GridSearchCV, не все значения параметров проверяются, а только фиксированное количество параметров выбирается из указанных распределений. Число параметров задается n_iter.\n",
    "\n",
    "**4. Как влияет стандартизация признаков на работу модели леса?** - Как было указано выше, в целом станадартизация не оказала существенного влияния на работу модели дерева.\n",
    "\n",
    "**5. Что такое \"важность признака\"? Есть ли аналоги показателя в моделях линейной и логистической регрессии?** - Важность признака влияет на конечный результат. Если обратиться к нашему примеру с Титаником, то в первую очередь спасали женщин и детей, причем в основном из богатых семей (кто ехал в высоком классе). Вот и получается, что пол,по-сути, важнейший признак, уже только зная его можно примерно предсказать выжил человек или нет. А вот если рассмотреть признак количество родственников на корабле, то тут уже только по нему явно и не скажешь как обернулась судьба человека. В линейной регрессии важные признаки мы выделяли с помощью веса, т.е. чем больше вес признака тем он важнее для нас."
   ]
  },
  {
   "cell_type": "code",
   "execution_count": null,
   "metadata": {},
   "outputs": [],
   "source": []
  }
 ],
 "metadata": {
  "kernelspec": {
   "display_name": "Python 3",
   "language": "python",
   "name": "python3"
  },
  "language_info": {
   "codemirror_mode": {
    "name": "ipython",
    "version": 3
   },
   "file_extension": ".py",
   "mimetype": "text/x-python",
   "name": "python",
   "nbconvert_exporter": "python",
   "pygments_lexer": "ipython3",
   "version": "3.8.3"
  }
 },
 "nbformat": 4,
 "nbformat_minor": 4
}
