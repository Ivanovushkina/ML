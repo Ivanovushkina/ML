{
 "cells": [
  {
   "cell_type": "code",
   "execution_count": 2,
   "metadata": {},
   "outputs": [
    {
     "name": "stdout",
     "output_type": "stream",
     "text": [
      "Hello World!\n"
     ]
    }
   ],
   "source": [
    "print('Hello World!')"
   ]
  },
  {
   "cell_type": "code",
   "execution_count": 5,
   "metadata": {},
   "outputs": [],
   "source": [
    "import numpy as np"
   ]
  },
  {
   "cell_type": "code",
   "execution_count": 7,
   "metadata": {},
   "outputs": [],
   "source": [
    "np.linspace?"
   ]
  },
  {
   "cell_type": "code",
   "execution_count": 10,
   "metadata": {},
   "outputs": [],
   "source": [
    "# Типы данных\n",
    "var_int = 3\n",
    "var_float = 3.0\n",
    "var_boolean = True\n",
    "var_complex = 3+2j\n",
    "var_string = 'hello text'\n",
    "var_another_string = \"me too!\"\n",
    "var_multiline_string = '''\n",
    "    big\n",
    "    multiline\n",
    "    string\n",
    "'''\n",
    "var_none = None"
   ]
  },
  {
   "cell_type": "code",
   "execution_count": 13,
   "metadata": {},
   "outputs": [
    {
     "name": "stdout",
     "output_type": "stream",
     "text": [
      "[501, '111']\n",
      "1\n",
      "[501, 502]\n",
      "[501, 502, 5]\n"
     ]
    },
    {
     "ename": "ValueError",
     "evalue": "7 is not in list",
     "output_type": "error",
     "traceback": [
      "\u001b[1;31m---------------------------------------------------------------------------\u001b[0m",
      "\u001b[1;31mValueError\u001b[0m                                Traceback (most recent call last)",
      "\u001b[1;32m<ipython-input-13-4d55ad7fb725>\u001b[0m in \u001b[0;36m<module>\u001b[1;34m\u001b[0m\n\u001b[0;32m      9\u001b[0m \u001b[0mvar_list\u001b[0m\u001b[1;33m.\u001b[0m\u001b[0mappend\u001b[0m\u001b[1;33m(\u001b[0m\u001b[1;36m5\u001b[0m\u001b[1;33m)\u001b[0m\u001b[1;33m\u001b[0m\u001b[1;33m\u001b[0m\u001b[0m\n\u001b[0;32m     10\u001b[0m \u001b[0mprint\u001b[0m\u001b[1;33m(\u001b[0m\u001b[0mvar_list\u001b[0m\u001b[1;33m)\u001b[0m\u001b[1;33m\u001b[0m\u001b[1;33m\u001b[0m\u001b[0m\n\u001b[1;32m---> 11\u001b[1;33m \u001b[0mprint\u001b[0m\u001b[1;33m(\u001b[0m\u001b[0mvar_list\u001b[0m\u001b[1;33m.\u001b[0m\u001b[0mindex\u001b[0m\u001b[1;33m(\u001b[0m\u001b[1;36m7\u001b[0m\u001b[1;33m)\u001b[0m\u001b[1;33m)\u001b[0m\u001b[1;33m\u001b[0m\u001b[1;33m\u001b[0m\u001b[0m\n\u001b[0m",
      "\u001b[1;31mValueError\u001b[0m: 7 is not in list"
     ]
    }
   ],
   "source": [
    "# Тип данных список\n",
    "var_list = [1, '111']\n",
    "var_list[0] = 501\n",
    "print(var_list)\n",
    "print(var_list.index('111'))\n",
    "# Запись по индексу 1 любого значения\n",
    "var_list[1] = 502\n",
    "print(var_list)\n",
    "var_list.append(5)\n",
    "print(var_list)\n",
    "print(var_list.index(7))"
   ]
  },
  {
   "cell_type": "code",
   "execution_count": 14,
   "metadata": {},
   "outputs": [
    {
     "name": "stdout",
     "output_type": "stream",
     "text": [
      "(1, '111', 'hey')\n"
     ]
    },
    {
     "ename": "TypeError",
     "evalue": "'tuple' object does not support item assignment",
     "output_type": "error",
     "traceback": [
      "\u001b[1;31m---------------------------------------------------------------------------\u001b[0m",
      "\u001b[1;31mTypeError\u001b[0m                                 Traceback (most recent call last)",
      "\u001b[1;32m<ipython-input-14-06866d4b8718>\u001b[0m in \u001b[0;36m<module>\u001b[1;34m\u001b[0m\n\u001b[0;32m      1\u001b[0m \u001b[0ma\u001b[0m\u001b[1;33m=\u001b[0m\u001b[1;33m(\u001b[0m\u001b[1;36m1\u001b[0m\u001b[1;33m,\u001b[0m \u001b[1;34m'111'\u001b[0m\u001b[1;33m,\u001b[0m \u001b[1;34m'hey'\u001b[0m\u001b[1;33m)\u001b[0m\u001b[1;33m\u001b[0m\u001b[1;33m\u001b[0m\u001b[0m\n\u001b[0;32m      2\u001b[0m \u001b[0mprint\u001b[0m \u001b[1;33m(\u001b[0m\u001b[0ma\u001b[0m\u001b[1;33m)\u001b[0m\u001b[1;33m\u001b[0m\u001b[1;33m\u001b[0m\u001b[0m\n\u001b[1;32m----> 3\u001b[1;33m \u001b[0ma\u001b[0m\u001b[1;33m[\u001b[0m\u001b[1;36m1\u001b[0m\u001b[1;33m]\u001b[0m\u001b[1;33m=\u001b[0m\u001b[1;36m7\u001b[0m\u001b[1;33m\u001b[0m\u001b[1;33m\u001b[0m\u001b[0m\n\u001b[0m",
      "\u001b[1;31mTypeError\u001b[0m: 'tuple' object does not support item assignment"
     ]
    }
   ],
   "source": [
    "a=(1, '111', 'hey')\n",
    "print (a)\n",
    "a[1]=7"
   ]
  },
  {
   "cell_type": "code",
   "execution_count": 18,
   "metadata": {},
   "outputs": [
    {
     "name": "stdout",
     "output_type": "stream",
     "text": [
      "{'string_key': 'string_value', 1: 'oh, integer key?'}\n",
      "string_value\n",
      "{'string_key': 'string_value', 1: 'oh, integer key?', 'new_key': 'new_value'}\n"
     ]
    }
   ],
   "source": [
    "# Тип данных Dict\n",
    "var_dict = {\n",
    "    'string_key': 'string_value',\n",
    "    1: 'oh, integer key?',\n",
    "}\n",
    "print(var_dict)\n",
    "print(var_dict['string_key'])\n",
    "var_dict['new_key'] = 'new_value'\n",
    "print(var_dict)"
   ]
  },
  {
   "cell_type": "code",
   "execution_count": 20,
   "metadata": {},
   "outputs": [
    {
     "name": "stdout",
     "output_type": "stream",
     "text": [
      "{1: 'my', 2: 'name', 3: 'Ksu'}\n",
      "{'string_key': 'string_value', 1: 'my', 'new_key': 'new_value', 2: 'name', 3: 'Ksu'}\n"
     ]
    }
   ],
   "source": [
    "# создать новый словарь new_dict с другими парами ключ-значение и воспользуйтесь функцией var_dict.update(new_dict) \n",
    "new_dict={1: 'my', 2: 'name', 3:'Ksu'}\n",
    "var_dict.update(new_dict)\n",
    "print(new_dict)\n",
    "print(var_dict)\n"
   ]
  },
  {
   "cell_type": "code",
   "execution_count": 21,
   "metadata": {},
   "outputs": [
    {
     "name": "stdout",
     "output_type": "stream",
     "text": [
      "{'no, keys', 'only unique values!'}\n"
     ]
    }
   ],
   "source": [
    "# Тип данных Set\n",
    "var_set = {\n",
    "    'no, keys',\n",
    "    'only unique values!'\n",
    "}\n",
    "print(var_set)\n"
   ]
  },
  {
   "cell_type": "code",
   "execution_count": 23,
   "metadata": {},
   "outputs": [
    {
     "name": "stdout",
     "output_type": "stream",
     "text": [
      "{'Ksu', 'my', 'name', 'no, keys', 'only unique values!'}\n",
      "{'no, keys'}\n"
     ]
    }
   ],
   "source": [
    "#Создайте свое множество new_set и с помощью операторов \"|\" и \"&\" получите объединение и пересечение множеств\n",
    "new_set={'my','name','Ksu','no, keys'}\n",
    "big_set1=var_set|new_set\n",
    "print(big_set1)\n",
    "big_set2=var_set&new_set\n",
    "print(big_set2)"
   ]
  },
  {
   "cell_type": "code",
   "execution_count": 24,
   "metadata": {},
   "outputs": [
    {
     "name": "stdout",
     "output_type": "stream",
     "text": [
      "0\n",
      "1\n",
      "2\n",
      "3\n",
      "4\n",
      "5\n",
      "6\n",
      "7\n",
      "8\n",
      "9\n"
     ]
    }
   ],
   "source": [
    "# Создание цикла while\n",
    "iter = 0\n",
    "while iter < 10:\n",
    "    print(iter)\n",
    "    iter += 1"
   ]
  },
  {
   "cell_type": "code",
   "execution_count": 25,
   "metadata": {},
   "outputs": [
    {
     "name": "stdout",
     "output_type": "stream",
     "text": [
      "0\n",
      "1\n",
      "2\n",
      "3\n",
      "4\n",
      "5\n",
      "6\n",
      "7\n",
      "8\n",
      "9\n"
     ]
    }
   ],
   "source": [
    "# Создание цикла for\n",
    "for iter in range(10):\n",
    "    print(iter)"
   ]
  },
  {
   "cell_type": "code",
   "execution_count": 26,
   "metadata": {},
   "outputs": [
    {
     "name": "stdout",
     "output_type": "stream",
     "text": [
      "0\n",
      "1\n",
      "2\n",
      "3\n",
      "4\n",
      "5\n",
      "6\n",
      "7\n",
      "8\n",
      "9\n",
      "10\n",
      "11\n",
      "12\n",
      "13\n",
      "14\n",
      "15\n",
      "16\n",
      "17\n",
      "18\n",
      "19\n"
     ]
    }
   ],
   "source": [
    "#создайте свой список и выполните проход по нему с помощью цикла for.\n",
    "for iter in range(20):\n",
    "    print (iter)"
   ]
  },
  {
   "cell_type": "code",
   "execution_count": 27,
   "metadata": {},
   "outputs": [
    {
     "name": "stdout",
     "output_type": "stream",
     "text": [
      "hheelllloo  wwoorrlldd"
     ]
    }
   ],
   "source": [
    "#создайте свой список и выполните проход по нему с помощью цикла for.\n",
    "for i in 'hello world':\n",
    "    print(i * 2,end='')"
   ]
  },
  {
   "cell_type": "code",
   "execution_count": 29,
   "metadata": {},
   "outputs": [
    {
     "name": "stdout",
     "output_type": "stream",
     "text": [
      "5\n"
     ]
    }
   ],
   "source": [
    "# Функция суммирования\n",
    "def summation(a, b):\n",
    "    return a + b\n",
    "result = summation(1, 4)\n",
    "print(result)"
   ]
  },
  {
   "cell_type": "code",
   "execution_count": 30,
   "metadata": {},
   "outputs": [
    {
     "name": "stdout",
     "output_type": "stream",
     "text": [
      "10\n"
     ]
    }
   ],
   "source": [
    "# Функция нахождения периметра\n",
    "def perimetr(a, b):\n",
    "    return (a + b)*2\n",
    "result = perimetr(1, 4)\n",
    "print(result)"
   ]
  },
  {
   "cell_type": "code",
   "execution_count": 32,
   "metadata": {},
   "outputs": [
    {
     "name": "stdout",
     "output_type": "stream",
     "text": [
      "10\n"
     ]
    }
   ],
   "source": [
    "# Функция нахождения периметра\n",
    "result = perimetr(1, 4)\n",
    "print(result)"
   ]
  },
  {
   "cell_type": "code",
   "execution_count": 92,
   "metadata": {},
   "outputs": [],
   "source": [
    "# Классы\n",
    "class MyClass:\n",
    "    def __init__(self, a, b):\n",
    "        self.member_var1 = a\n",
    "        self.member_var2 = b\n",
    "    \n",
    "    def sample_method(self):\n",
    "        print(f'sample_method() called with {self.member_var1}')\n",
    "        print(f'sample_method() called with {self.member_var2}')"
   ]
  },
  {
   "cell_type": "code",
   "execution_count": 93,
   "metadata": {},
   "outputs": [
    {
     "name": "stdout",
     "output_type": "stream",
     "text": [
      "sample_method() called with 10\n",
      "sample_method() called with 1\n",
      "sample_method() called with 20\n",
      "sample_method() called with 2\n"
     ]
    }
   ],
   "source": [
    "my_object_1 = MyClass(10,1)\n",
    "my_object_2 = MyClass(20,2)\n",
    "\n",
    "my_object_1.sample_method()\n",
    "my_object_2.sample_method()"
   ]
  },
  {
   "cell_type": "code",
   "execution_count": 42,
   "metadata": {},
   "outputs": [],
   "source": [
    "# Вычисление экспоненты\n",
    "class ex:\n",
    "    def exponenta (self):\n",
    "        print(2*math.exp(self))\n"
   ]
  },
  {
   "cell_type": "code",
   "execution_count": 45,
   "metadata": {},
   "outputs": [
    {
     "name": "stdout",
     "output_type": "stream",
     "text": [
      "109.19630006628847\n",
      "296.8263182051532\n",
      "806.8575869854702\n",
      "2193.266316856917\n",
      "5961.915974083457\n",
      "16206.167855150768\n",
      "44052.931589613436\n",
      "119748.28343039563\n"
     ]
    }
   ],
   "source": [
    "for iter in range(4,12):\n",
    "    ex.exponenta(iter)\n",
    "    "
   ]
  },
  {
   "cell_type": "code",
   "execution_count": 47,
   "metadata": {},
   "outputs": [
    {
     "name": "stdout",
     "output_type": "stream",
     "text": [
      "Привет, меня зовут Юзер и мне 30\n",
      "Привет, меня зовут Юзер и мне 30\n"
     ]
    }
   ],
   "source": [
    "# Форатированные строки\n",
    "name = 'Юзер'\n",
    "age = 30\n",
    "\n",
    "template_string = 'Привет, меня зовут %s и мне %d'\n",
    "formatted_string = template_string % (name, age)\n",
    "print(formatted_string)\n",
    "# То же самое, только раньше мы сохранили строку в переменную,\n",
    "#   а сейчас сразу в вывод\n",
    "print('Привет, меня зовут %s и мне %d' % (name, age))\n"
   ]
  },
  {
   "cell_type": "code",
   "execution_count": 48,
   "metadata": {},
   "outputs": [
    {
     "name": "stdout",
     "output_type": "stream",
     "text": [
      "Сравним 0.333333, 0.33, 0.3\n"
     ]
    }
   ],
   "source": [
    "# Для %f можно задать количество цифр после запятой\n",
    "var = 0.33333333\n",
    "print('Сравним %f, %.2f, %.1f' % (var, var, var))"
   ]
  },
  {
   "cell_type": "code",
   "execution_count": 49,
   "metadata": {},
   "outputs": [
    {
     "name": "stdout",
     "output_type": "stream",
     "text": [
      "Привет, меня зовут Юзер и мне 30\n"
     ]
    }
   ],
   "source": [
    "print('Привет, меня зовут {} и мне {}'.format(name, age))"
   ]
  },
  {
   "cell_type": "code",
   "execution_count": 50,
   "metadata": {},
   "outputs": [
    {
     "name": "stdout",
     "output_type": "stream",
     "text": [
      "Сравним 0.444444444, 0.44, 0.4\n"
     ]
    }
   ],
   "source": [
    "var = 0.444444444\n",
    "print('Сравним {}, {:.2f}, {:.1f}'.format(var, var, var))"
   ]
  },
  {
   "cell_type": "code",
   "execution_count": 51,
   "metadata": {},
   "outputs": [
    {
     "name": "stdout",
     "output_type": "stream",
     "text": [
      "Привет, меня зовут Юзер и мне 30\n"
     ]
    }
   ],
   "source": [
    "print(f'Привет, меня зовут {name} и мне {age}')"
   ]
  },
  {
   "cell_type": "code",
   "execution_count": null,
   "metadata": {},
   "outputs": [],
   "source": [
    "# Обратите внимание на округление!\n",
    "var = 0.173456\n",
    "print(f'Сравним {var}, {var:.2f}, {var:.1f}')"
   ]
  },
  {
   "cell_type": "code",
   "execution_count": 52,
   "metadata": {},
   "outputs": [],
   "source": [
    "def show_info(name, age, avg_grade):\n",
    "    pass\n",
    "    template_string = 'Добрый день! Мое имя: %s, возраст %d, оценка %.2f. Приятно познакомиться!'\n",
    "    formatted_string = template_string % (name, age, avg_grade)\n",
    "    print(formatted_string)\n",
    "        "
   ]
  },
  {
   "cell_type": "code",
   "execution_count": 53,
   "metadata": {},
   "outputs": [
    {
     "name": "stdout",
     "output_type": "stream",
     "text": [
      "Добрый день! Мое имя: ksu, возраст 23, оценка 5.00. Приятно познакомиться!\n"
     ]
    }
   ],
   "source": [
    "name='ksu'\n",
    "age=23\n",
    "avg_grade=5.0\n",
    "result=show_info(name, age, avg_grade)"
   ]
  },
  {
   "cell_type": "code",
   "execution_count": 54,
   "metadata": {},
   "outputs": [],
   "source": [
    "def show_info(name, age, avg_grade):\n",
    "    pass\n",
    "    print(f'Добрый день! Мое имя: {name}, возраст {age}, оценка:{avg_grade:.2f}. Приятно познакомиться! ')"
   ]
  },
  {
   "cell_type": "code",
   "execution_count": 55,
   "metadata": {},
   "outputs": [
    {
     "name": "stdout",
     "output_type": "stream",
     "text": [
      "Добрый день! Мое имя: ksu, возраст 23, оценка:5.00. Приятно познакомиться! \n"
     ]
    }
   ],
   "source": [
    "name='ksu'\n",
    "age=23\n",
    "avg_grade=5.0\n",
    "result=show_info(name, age, avg_grade)"
   ]
  },
  {
   "cell_type": "code",
   "execution_count": 56,
   "metadata": {},
   "outputs": [],
   "source": [
    "def show_info(name, age, avg_grade):\n",
    "    pass\n",
    "    print('Добрый день! Мое имя: {}, возраст {}, оценка:{:.2f}.Приятно познакомиться!'.format(name, age, avg_grade))\n",
    "    "
   ]
  },
  {
   "cell_type": "code",
   "execution_count": 57,
   "metadata": {},
   "outputs": [
    {
     "name": "stdout",
     "output_type": "stream",
     "text": [
      "Добрый день! Мое имя: ksu, возраст 23, оценка:5.00.Приятно познакомиться!\n"
     ]
    }
   ],
   "source": [
    "name='ksu'\n",
    "age=23\n",
    "avg_grade=5.0\n",
    "result=show_info(name, age, avg_grade)"
   ]
  },
  {
   "cell_type": "code",
   "execution_count": null,
   "metadata": {},
   "outputs": [],
   "source": []
  }
 ],
 "metadata": {
  "kernelspec": {
   "display_name": "Python 3",
   "language": "python",
   "name": "python3"
  },
  "language_info": {
   "codemirror_mode": {
    "name": "ipython",
    "version": 3
   },
   "file_extension": ".py",
   "mimetype": "text/x-python",
   "name": "python",
   "nbconvert_exporter": "python",
   "pygments_lexer": "ipython3",
   "version": "3.8.3"
  }
 },
 "nbformat": 4,
 "nbformat_minor": 4
}
